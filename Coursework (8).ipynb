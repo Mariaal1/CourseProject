{
  "cells": [
    {
      "cell_type": "code",
      "execution_count": null,
      "metadata": {
        "id": "FrGCM37pv5PD"
      },
      "outputs": [],
      "source": [
        "import pandas as pd\n",
        "import matplotlib.pyplot as plt\n",
        "from google.colab import drive\n",
        "import polars as pl\n",
        "from transformers import AutoTokenizer, AutoModel\n",
        "from torch.utils.data import Dataset, DataLoader\n",
        "import torch\n",
        "import torch.nn as nn\n",
        "from sklearn.model_selection import train_test_split\n",
        "import numpy as np"
      ]
    },
    {
      "cell_type": "code",
      "execution_count": null,
      "metadata": {
        "colab": {
          "base_uri": "https://localhost:8080/"
        },
        "id": "sYr2oGbXW_lo",
        "outputId": "a5305684-9034-4103-a241-e1d27887c680"
      },
      "outputs": [
        {
          "output_type": "stream",
          "name": "stdout",
          "text": [
            "Drive already mounted at /content/drive; to attempt to forcibly remount, call drive.mount(\"/content/drive\", force_remount=True).\n"
          ]
        }
      ],
      "source": [
        "\n",
        "drive.mount('/content/drive')\n",
        "honda = pd.read_csv(\"/content/drive/MyDrive/Colab Notebooks/Honda_Data.csv\")\n",
        "google = pd.read_csv(\"/content/drive/MyDrive/Colab Notebooks/Google 2020-2025 Stock Market.csv\")\n",
        "intel = pd.read_csv(\"/content/drive/MyDrive/Colab Notebooks/intel_data.csv\")"
      ]
    },
    {
      "cell_type": "markdown",
      "source": [],
      "metadata": {
        "id": "tWRgvckKO0gd"
      }
    },
    {
      "cell_type": "markdown",
      "source": [
        "скачиваем датасет с гита"
      ],
      "metadata": {
        "id": "roWCiWwdZCvh"
      }
    },
    {
      "cell_type": "code",
      "execution_count": null,
      "metadata": {
        "colab": {
          "base_uri": "https://localhost:8080/"
        },
        "id": "rm2O3LMuyQy9",
        "outputId": "b03e4c2c-fe9f-4864-9dc4-c11083a9c1e3"
      },
      "outputs": [
        {
          "name": "stdout",
          "output_type": "stream",
          "text": [
            "--2025-05-26 09:54:25--  https://huggingface.co/datasets/Zihan1004/FNSPID/resolve/main/Stock_news/nasdaq_exteral_data.csv\n",
            "Resolving huggingface.co (huggingface.co)... 3.166.152.110, 3.166.152.44, 3.166.152.105, ...\n",
            "Connecting to huggingface.co (huggingface.co)|3.166.152.110|:443... connected.\n",
            "HTTP request sent, awaiting response... 302 Found\n",
            "Location: https://cdn-lfs-us-1.hf.co/repos/a0/19/a01967ba742831f4b6903f146b4f5d9a3d2eeeefa619387e8cc87df2d889332c/1a7a3eb8e6b97ec19f286f2cfca3371542bddb272ab1eb8f36e33ad98fa5c4da?response-content-disposition=inline%3B+filename*%3DUTF-8%27%27nasdaq_exteral_data.csv%3B+filename%3D%22nasdaq_exteral_data.csv%22%3B&response-content-type=text%2Fcsv&Expires=1748256865&Policy=eyJTdGF0ZW1lbnQiOlt7IkNvbmRpdGlvbiI6eyJEYXRlTGVzc1RoYW4iOnsiQVdTOkVwb2NoVGltZSI6MTc0ODI1Njg2NX19LCJSZXNvdXJjZSI6Imh0dHBzOi8vY2RuLWxmcy11cy0xLmhmLmNvL3JlcG9zL2EwLzE5L2EwMTk2N2JhNzQyODMxZjRiNjkwM2YxNDZiNGY1ZDlhM2QyZWVlZWZhNjE5Mzg3ZThjYzg3ZGYyZDg4OTMzMmMvMWE3YTNlYjhlNmI5N2VjMTlmMjg2ZjJjZmNhMzM3MTU0MmJkZGIyNzJhYjFlYjhmMzZlMzNhZDk4ZmE1YzRkYT9yZXNwb25zZS1jb250ZW50LWRpc3Bvc2l0aW9uPSomcmVzcG9uc2UtY29udGVudC10eXBlPSoifV19&Signature=knX3OSFJGQm41ClyPsvONsHObaRk620pe%7EtTFujFCgYPOWH37fSR9AXpvVnePXU8RRC1DoO13lsnSSC4uJWd95c7TTd2gSfwMHyEZzc6jLselK012D8ZtJzQKc%7EV2FDJApjEQoxNOdV28Tkiar40XOzV1jm-wssasMBhhNRHyCNgqmxq5lepauJB%7Es88ZZM5A%7EY%7EygQw6m%7EL--fg7KVlCtqOoZ7h800QUyCiMzjub8tGhqyf04wcCsp2o0QIMcWEBhrbewheSkcBp6dyavVoImzBdhFb-gx0oOQBKOpz1WOOuboPfJedzR85OfGxbL80UO9i465HFbc532VYMxHXiA__&Key-Pair-Id=K24J24Z295AEI9 [following]\n",
            "--2025-05-26 09:54:25--  https://cdn-lfs-us-1.hf.co/repos/a0/19/a01967ba742831f4b6903f146b4f5d9a3d2eeeefa619387e8cc87df2d889332c/1a7a3eb8e6b97ec19f286f2cfca3371542bddb272ab1eb8f36e33ad98fa5c4da?response-content-disposition=inline%3B+filename*%3DUTF-8%27%27nasdaq_exteral_data.csv%3B+filename%3D%22nasdaq_exteral_data.csv%22%3B&response-content-type=text%2Fcsv&Expires=1748256865&Policy=eyJTdGF0ZW1lbnQiOlt7IkNvbmRpdGlvbiI6eyJEYXRlTGVzc1RoYW4iOnsiQVdTOkVwb2NoVGltZSI6MTc0ODI1Njg2NX19LCJSZXNvdXJjZSI6Imh0dHBzOi8vY2RuLWxmcy11cy0xLmhmLmNvL3JlcG9zL2EwLzE5L2EwMTk2N2JhNzQyODMxZjRiNjkwM2YxNDZiNGY1ZDlhM2QyZWVlZWZhNjE5Mzg3ZThjYzg3ZGYyZDg4OTMzMmMvMWE3YTNlYjhlNmI5N2VjMTlmMjg2ZjJjZmNhMzM3MTU0MmJkZGIyNzJhYjFlYjhmMzZlMzNhZDk4ZmE1YzRkYT9yZXNwb25zZS1jb250ZW50LWRpc3Bvc2l0aW9uPSomcmVzcG9uc2UtY29udGVudC10eXBlPSoifV19&Signature=knX3OSFJGQm41ClyPsvONsHObaRk620pe%7EtTFujFCgYPOWH37fSR9AXpvVnePXU8RRC1DoO13lsnSSC4uJWd95c7TTd2gSfwMHyEZzc6jLselK012D8ZtJzQKc%7EV2FDJApjEQoxNOdV28Tkiar40XOzV1jm-wssasMBhhNRHyCNgqmxq5lepauJB%7Es88ZZM5A%7EY%7EygQw6m%7EL--fg7KVlCtqOoZ7h800QUyCiMzjub8tGhqyf04wcCsp2o0QIMcWEBhrbewheSkcBp6dyavVoImzBdhFb-gx0oOQBKOpz1WOOuboPfJedzR85OfGxbL80UO9i465HFbc532VYMxHXiA__&Key-Pair-Id=K24J24Z295AEI9\n",
            "Resolving cdn-lfs-us-1.hf.co (cdn-lfs-us-1.hf.co)... 108.157.173.35, 108.157.173.71, 108.157.173.114, ...\n",
            "Connecting to cdn-lfs-us-1.hf.co (cdn-lfs-us-1.hf.co)|108.157.173.35|:443... connected.\n",
            "HTTP request sent, awaiting response... 200 OK\n",
            "Length: 23232979597 (22G) [text/csv]\n",
            "Saving to: ‘nasdaq_exteral_data.csv.1’\n",
            "\n",
            "sv.1                 53%[=========>          ]  11.63G  62.1MB/s    eta 87s    ^C\n"
          ]
        }
      ],
      "source": [
        "!wget https://huggingface.co/datasets/Zihan1004/FNSPID/resolve/main/Stock_news/nasdaq_exteral_data.csv"
      ]
    },
    {
      "cell_type": "code",
      "execution_count": null,
      "metadata": {
        "colab": {
          "base_uri": "https://localhost:8080/"
        },
        "id": "zZtsyoMSzjo6",
        "outputId": "f0e832b0-c5b1-4bdc-f9b4-8dcbd62e151b"
      },
      "outputs": [
        {
          "name": "stdout",
          "output_type": "stream",
          "text": [
            "Requirement already satisfied: polars in /usr/local/lib/python3.11/dist-packages (1.21.0)\n"
          ]
        }
      ],
      "source": [
        "!pip install polars\n"
      ]
    },
    {
      "cell_type": "markdown",
      "source": [
        "оставили только гугл хонду и интел"
      ],
      "metadata": {
        "id": "gs1Ghy8jZK6G"
      }
    },
    {
      "cell_type": "code",
      "execution_count": null,
      "metadata": {
        "id": "c65WA1cX8d74"
      },
      "outputs": [],
      "source": [
        "path = \"nasdaq_exteral_data.csv\"\n",
        "\n",
        "df = pl.scan_csv(path)\n",
        "\n",
        "tickers = [\"GOOGL\", \"INTC\", \"HMC\"]\n",
        "\n",
        "filtered = df.filter(pl.col(\"Stock_symbol\").is_in(tickers))\n",
        "\n",
        "filtered = filtered.select([\"Stock_symbol\", \"Article_title\", \"Date\"])\n",
        "\n",
        "filtered.collect().write_csv(\"filtered_news.csv\")"
      ]
    },
    {
      "cell_type": "code",
      "execution_count": null,
      "metadata": {
        "id": "Z0WWfGQbA59M"
      },
      "outputs": [],
      "source": [
        "filtered.collect().write_csv(\"filtered_news.csv\")\n"
      ]
    },
    {
      "cell_type": "code",
      "execution_count": null,
      "metadata": {
        "colab": {
          "base_uri": "https://localhost:8080/"
        },
        "id": "Xa80WKqsCMcM",
        "outputId": "a3845ce6-5172-441c-ab0a-38fc713bb267"
      },
      "outputs": [
        {
          "name": "stdout",
          "output_type": "stream",
          "text": [
            "Drive already mounted at /content/drive; to attempt to forcibly remount, call drive.mount(\"/content/drive\", force_remount=True).\n"
          ]
        }
      ],
      "source": [
        "\n",
        "drive.mount('/content/drive')\n"
      ]
    },
    {
      "cell_type": "code",
      "execution_count": null,
      "metadata": {
        "id": "gvP0NKY0CpkO"
      },
      "outputs": [],
      "source": [
        "!cp filtered_news.csv \"/content/drive/MyDrive/Colab Notebooks/filtered_news.csv\"\n"
      ]
    },
    {
      "cell_type": "code",
      "execution_count": null,
      "metadata": {
        "colab": {
          "base_uri": "https://localhost:8080/"
        },
        "id": "JuSUoED4fEmg",
        "outputId": "d95c7aba-fe13-4727-de74-b6f9064572a2"
      },
      "outputs": [
        {
          "name": "stdout",
          "output_type": "stream",
          "text": [
            "drive\t\t   nasdaq_exteral_data.csv    sample_data\n",
            "filtered_news.csv  nasdaq_exteral_data.csv.1\n"
          ]
        }
      ],
      "source": [
        "!ls\n"
      ]
    },
    {
      "cell_type": "code",
      "execution_count": null,
      "metadata": {
        "colab": {
          "base_uri": "https://localhost:8080/",
          "height": 424
        },
        "id": "CeLU5ZJifHU8",
        "outputId": "917aa230-b3e5-4305-fe49-61cb0aebc927"
      },
      "outputs": [
        {
          "output_type": "execute_result",
          "data": {
            "text/plain": [
              "      Stock_symbol                                      Article_title  \\\n",
              "0             INTC  3 Overvalued Stocks That Could Plunge if the M...   \n",
              "1             INTC              IWD, MRK, BAC, INTC: ETF Inflow Alert   \n",
              "2             INTC                      Company News for Dec 20, 2023   \n",
              "3             INTC  Nvidia Stock Dominated 2023, but Investors Sho...   \n",
              "4             INTC                5 Top Stocks I'm Betting on in 2024   \n",
              "...            ...                                                ...   \n",
              "15226         INTC                            Intel Q3: What to watch   \n",
              "15227         INTC   Why October Spells Doom for Semis: ETFs in Focus   \n",
              "15228         INTC              The Signal Event - Will The Dam Hold?   \n",
              "15229         INTC  Analysts adjust AMD targets, comment on that r...   \n",
              "15230         INTC                                 AMD Tanks (A Lot!)   \n",
              "\n",
              "                          Date  sentiment_score  \n",
              "0      2023-12-16 10:00:00 UTC               -1  \n",
              "1      2023-12-16 09:00:00 UTC                0  \n",
              "2      2023-12-16 04:00:00 UTC                0  \n",
              "3      2023-12-16 04:00:00 UTC                0  \n",
              "4      2023-12-16 04:00:00 UTC                0  \n",
              "...                        ...              ...  \n",
              "15226  2018-10-25 00:00:00 UTC                0  \n",
              "15227  2018-10-25 00:00:00 UTC                0  \n",
              "15228  2018-10-25 00:00:00 UTC                0  \n",
              "15229  2018-10-25 00:00:00 UTC                0  \n",
              "15230  2018-10-25 00:00:00 UTC                0  \n",
              "\n",
              "[15231 rows x 4 columns]"
            ],
            "text/html": [
              "\n",
              "  <div id=\"df-a3cb50c9-21e9-4cda-aa37-af73bb2ef7c8\" class=\"colab-df-container\">\n",
              "    <div>\n",
              "<style scoped>\n",
              "    .dataframe tbody tr th:only-of-type {\n",
              "        vertical-align: middle;\n",
              "    }\n",
              "\n",
              "    .dataframe tbody tr th {\n",
              "        vertical-align: top;\n",
              "    }\n",
              "\n",
              "    .dataframe thead th {\n",
              "        text-align: right;\n",
              "    }\n",
              "</style>\n",
              "<table border=\"1\" class=\"dataframe\">\n",
              "  <thead>\n",
              "    <tr style=\"text-align: right;\">\n",
              "      <th></th>\n",
              "      <th>Stock_symbol</th>\n",
              "      <th>Article_title</th>\n",
              "      <th>Date</th>\n",
              "      <th>sentiment_score</th>\n",
              "    </tr>\n",
              "  </thead>\n",
              "  <tbody>\n",
              "    <tr>\n",
              "      <th>0</th>\n",
              "      <td>INTC</td>\n",
              "      <td>3 Overvalued Stocks That Could Plunge if the M...</td>\n",
              "      <td>2023-12-16 10:00:00 UTC</td>\n",
              "      <td>-1</td>\n",
              "    </tr>\n",
              "    <tr>\n",
              "      <th>1</th>\n",
              "      <td>INTC</td>\n",
              "      <td>IWD, MRK, BAC, INTC: ETF Inflow Alert</td>\n",
              "      <td>2023-12-16 09:00:00 UTC</td>\n",
              "      <td>0</td>\n",
              "    </tr>\n",
              "    <tr>\n",
              "      <th>2</th>\n",
              "      <td>INTC</td>\n",
              "      <td>Company News for Dec 20, 2023</td>\n",
              "      <td>2023-12-16 04:00:00 UTC</td>\n",
              "      <td>0</td>\n",
              "    </tr>\n",
              "    <tr>\n",
              "      <th>3</th>\n",
              "      <td>INTC</td>\n",
              "      <td>Nvidia Stock Dominated 2023, but Investors Sho...</td>\n",
              "      <td>2023-12-16 04:00:00 UTC</td>\n",
              "      <td>0</td>\n",
              "    </tr>\n",
              "    <tr>\n",
              "      <th>4</th>\n",
              "      <td>INTC</td>\n",
              "      <td>5 Top Stocks I'm Betting on in 2024</td>\n",
              "      <td>2023-12-16 04:00:00 UTC</td>\n",
              "      <td>0</td>\n",
              "    </tr>\n",
              "    <tr>\n",
              "      <th>...</th>\n",
              "      <td>...</td>\n",
              "      <td>...</td>\n",
              "      <td>...</td>\n",
              "      <td>...</td>\n",
              "    </tr>\n",
              "    <tr>\n",
              "      <th>15226</th>\n",
              "      <td>INTC</td>\n",
              "      <td>Intel Q3: What to watch</td>\n",
              "      <td>2018-10-25 00:00:00 UTC</td>\n",
              "      <td>0</td>\n",
              "    </tr>\n",
              "    <tr>\n",
              "      <th>15227</th>\n",
              "      <td>INTC</td>\n",
              "      <td>Why October Spells Doom for Semis: ETFs in Focus</td>\n",
              "      <td>2018-10-25 00:00:00 UTC</td>\n",
              "      <td>0</td>\n",
              "    </tr>\n",
              "    <tr>\n",
              "      <th>15228</th>\n",
              "      <td>INTC</td>\n",
              "      <td>The Signal Event - Will The Dam Hold?</td>\n",
              "      <td>2018-10-25 00:00:00 UTC</td>\n",
              "      <td>0</td>\n",
              "    </tr>\n",
              "    <tr>\n",
              "      <th>15229</th>\n",
              "      <td>INTC</td>\n",
              "      <td>Analysts adjust AMD targets, comment on that r...</td>\n",
              "      <td>2018-10-25 00:00:00 UTC</td>\n",
              "      <td>0</td>\n",
              "    </tr>\n",
              "    <tr>\n",
              "      <th>15230</th>\n",
              "      <td>INTC</td>\n",
              "      <td>AMD Tanks (A Lot!)</td>\n",
              "      <td>2018-10-25 00:00:00 UTC</td>\n",
              "      <td>0</td>\n",
              "    </tr>\n",
              "  </tbody>\n",
              "</table>\n",
              "<p>15231 rows × 4 columns</p>\n",
              "</div>\n",
              "    <div class=\"colab-df-buttons\">\n",
              "\n",
              "  <div class=\"colab-df-container\">\n",
              "    <button class=\"colab-df-convert\" onclick=\"convertToInteractive('df-a3cb50c9-21e9-4cda-aa37-af73bb2ef7c8')\"\n",
              "            title=\"Convert this dataframe to an interactive table.\"\n",
              "            style=\"display:none;\">\n",
              "\n",
              "  <svg xmlns=\"http://www.w3.org/2000/svg\" height=\"24px\" viewBox=\"0 -960 960 960\">\n",
              "    <path d=\"M120-120v-720h720v720H120Zm60-500h600v-160H180v160Zm220 220h160v-160H400v160Zm0 220h160v-160H400v160ZM180-400h160v-160H180v160Zm440 0h160v-160H620v160ZM180-180h160v-160H180v160Zm440 0h160v-160H620v160Z\"/>\n",
              "  </svg>\n",
              "    </button>\n",
              "\n",
              "  <style>\n",
              "    .colab-df-container {\n",
              "      display:flex;\n",
              "      gap: 12px;\n",
              "    }\n",
              "\n",
              "    .colab-df-convert {\n",
              "      background-color: #E8F0FE;\n",
              "      border: none;\n",
              "      border-radius: 50%;\n",
              "      cursor: pointer;\n",
              "      display: none;\n",
              "      fill: #1967D2;\n",
              "      height: 32px;\n",
              "      padding: 0 0 0 0;\n",
              "      width: 32px;\n",
              "    }\n",
              "\n",
              "    .colab-df-convert:hover {\n",
              "      background-color: #E2EBFA;\n",
              "      box-shadow: 0px 1px 2px rgba(60, 64, 67, 0.3), 0px 1px 3px 1px rgba(60, 64, 67, 0.15);\n",
              "      fill: #174EA6;\n",
              "    }\n",
              "\n",
              "    .colab-df-buttons div {\n",
              "      margin-bottom: 4px;\n",
              "    }\n",
              "\n",
              "    [theme=dark] .colab-df-convert {\n",
              "      background-color: #3B4455;\n",
              "      fill: #D2E3FC;\n",
              "    }\n",
              "\n",
              "    [theme=dark] .colab-df-convert:hover {\n",
              "      background-color: #434B5C;\n",
              "      box-shadow: 0px 1px 3px 1px rgba(0, 0, 0, 0.15);\n",
              "      filter: drop-shadow(0px 1px 2px rgba(0, 0, 0, 0.3));\n",
              "      fill: #FFFFFF;\n",
              "    }\n",
              "  </style>\n",
              "\n",
              "    <script>\n",
              "      const buttonEl =\n",
              "        document.querySelector('#df-a3cb50c9-21e9-4cda-aa37-af73bb2ef7c8 button.colab-df-convert');\n",
              "      buttonEl.style.display =\n",
              "        google.colab.kernel.accessAllowed ? 'block' : 'none';\n",
              "\n",
              "      async function convertToInteractive(key) {\n",
              "        const element = document.querySelector('#df-a3cb50c9-21e9-4cda-aa37-af73bb2ef7c8');\n",
              "        const dataTable =\n",
              "          await google.colab.kernel.invokeFunction('convertToInteractive',\n",
              "                                                    [key], {});\n",
              "        if (!dataTable) return;\n",
              "\n",
              "        const docLinkHtml = 'Like what you see? Visit the ' +\n",
              "          '<a target=\"_blank\" href=https://colab.research.google.com/notebooks/data_table.ipynb>data table notebook</a>'\n",
              "          + ' to learn more about interactive tables.';\n",
              "        element.innerHTML = '';\n",
              "        dataTable['output_type'] = 'display_data';\n",
              "        await google.colab.output.renderOutput(dataTable, element);\n",
              "        const docLink = document.createElement('div');\n",
              "        docLink.innerHTML = docLinkHtml;\n",
              "        element.appendChild(docLink);\n",
              "      }\n",
              "    </script>\n",
              "  </div>\n",
              "\n",
              "\n",
              "    <div id=\"df-942e281f-06f6-413c-a30b-7a5df27babe0\">\n",
              "      <button class=\"colab-df-quickchart\" onclick=\"quickchart('df-942e281f-06f6-413c-a30b-7a5df27babe0')\"\n",
              "                title=\"Suggest charts\"\n",
              "                style=\"display:none;\">\n",
              "\n",
              "<svg xmlns=\"http://www.w3.org/2000/svg\" height=\"24px\"viewBox=\"0 0 24 24\"\n",
              "     width=\"24px\">\n",
              "    <g>\n",
              "        <path d=\"M19 3H5c-1.1 0-2 .9-2 2v14c0 1.1.9 2 2 2h14c1.1 0 2-.9 2-2V5c0-1.1-.9-2-2-2zM9 17H7v-7h2v7zm4 0h-2V7h2v10zm4 0h-2v-4h2v4z\"/>\n",
              "    </g>\n",
              "</svg>\n",
              "      </button>\n",
              "\n",
              "<style>\n",
              "  .colab-df-quickchart {\n",
              "      --bg-color: #E8F0FE;\n",
              "      --fill-color: #1967D2;\n",
              "      --hover-bg-color: #E2EBFA;\n",
              "      --hover-fill-color: #174EA6;\n",
              "      --disabled-fill-color: #AAA;\n",
              "      --disabled-bg-color: #DDD;\n",
              "  }\n",
              "\n",
              "  [theme=dark] .colab-df-quickchart {\n",
              "      --bg-color: #3B4455;\n",
              "      --fill-color: #D2E3FC;\n",
              "      --hover-bg-color: #434B5C;\n",
              "      --hover-fill-color: #FFFFFF;\n",
              "      --disabled-bg-color: #3B4455;\n",
              "      --disabled-fill-color: #666;\n",
              "  }\n",
              "\n",
              "  .colab-df-quickchart {\n",
              "    background-color: var(--bg-color);\n",
              "    border: none;\n",
              "    border-radius: 50%;\n",
              "    cursor: pointer;\n",
              "    display: none;\n",
              "    fill: var(--fill-color);\n",
              "    height: 32px;\n",
              "    padding: 0;\n",
              "    width: 32px;\n",
              "  }\n",
              "\n",
              "  .colab-df-quickchart:hover {\n",
              "    background-color: var(--hover-bg-color);\n",
              "    box-shadow: 0 1px 2px rgba(60, 64, 67, 0.3), 0 1px 3px 1px rgba(60, 64, 67, 0.15);\n",
              "    fill: var(--button-hover-fill-color);\n",
              "  }\n",
              "\n",
              "  .colab-df-quickchart-complete:disabled,\n",
              "  .colab-df-quickchart-complete:disabled:hover {\n",
              "    background-color: var(--disabled-bg-color);\n",
              "    fill: var(--disabled-fill-color);\n",
              "    box-shadow: none;\n",
              "  }\n",
              "\n",
              "  .colab-df-spinner {\n",
              "    border: 2px solid var(--fill-color);\n",
              "    border-color: transparent;\n",
              "    border-bottom-color: var(--fill-color);\n",
              "    animation:\n",
              "      spin 1s steps(1) infinite;\n",
              "  }\n",
              "\n",
              "  @keyframes spin {\n",
              "    0% {\n",
              "      border-color: transparent;\n",
              "      border-bottom-color: var(--fill-color);\n",
              "      border-left-color: var(--fill-color);\n",
              "    }\n",
              "    20% {\n",
              "      border-color: transparent;\n",
              "      border-left-color: var(--fill-color);\n",
              "      border-top-color: var(--fill-color);\n",
              "    }\n",
              "    30% {\n",
              "      border-color: transparent;\n",
              "      border-left-color: var(--fill-color);\n",
              "      border-top-color: var(--fill-color);\n",
              "      border-right-color: var(--fill-color);\n",
              "    }\n",
              "    40% {\n",
              "      border-color: transparent;\n",
              "      border-right-color: var(--fill-color);\n",
              "      border-top-color: var(--fill-color);\n",
              "    }\n",
              "    60% {\n",
              "      border-color: transparent;\n",
              "      border-right-color: var(--fill-color);\n",
              "    }\n",
              "    80% {\n",
              "      border-color: transparent;\n",
              "      border-right-color: var(--fill-color);\n",
              "      border-bottom-color: var(--fill-color);\n",
              "    }\n",
              "    90% {\n",
              "      border-color: transparent;\n",
              "      border-bottom-color: var(--fill-color);\n",
              "    }\n",
              "  }\n",
              "</style>\n",
              "\n",
              "      <script>\n",
              "        async function quickchart(key) {\n",
              "          const quickchartButtonEl =\n",
              "            document.querySelector('#' + key + ' button');\n",
              "          quickchartButtonEl.disabled = true;  // To prevent multiple clicks.\n",
              "          quickchartButtonEl.classList.add('colab-df-spinner');\n",
              "          try {\n",
              "            const charts = await google.colab.kernel.invokeFunction(\n",
              "                'suggestCharts', [key], {});\n",
              "          } catch (error) {\n",
              "            console.error('Error during call to suggestCharts:', error);\n",
              "          }\n",
              "          quickchartButtonEl.classList.remove('colab-df-spinner');\n",
              "          quickchartButtonEl.classList.add('colab-df-quickchart-complete');\n",
              "        }\n",
              "        (() => {\n",
              "          let quickchartButtonEl =\n",
              "            document.querySelector('#df-942e281f-06f6-413c-a30b-7a5df27babe0 button');\n",
              "          quickchartButtonEl.style.display =\n",
              "            google.colab.kernel.accessAllowed ? 'block' : 'none';\n",
              "        })();\n",
              "      </script>\n",
              "    </div>\n",
              "\n",
              "  <div id=\"id_5578c110-47ed-4508-bd60-6d5ad7c99b61\">\n",
              "    <style>\n",
              "      .colab-df-generate {\n",
              "        background-color: #E8F0FE;\n",
              "        border: none;\n",
              "        border-radius: 50%;\n",
              "        cursor: pointer;\n",
              "        display: none;\n",
              "        fill: #1967D2;\n",
              "        height: 32px;\n",
              "        padding: 0 0 0 0;\n",
              "        width: 32px;\n",
              "      }\n",
              "\n",
              "      .colab-df-generate:hover {\n",
              "        background-color: #E2EBFA;\n",
              "        box-shadow: 0px 1px 2px rgba(60, 64, 67, 0.3), 0px 1px 3px 1px rgba(60, 64, 67, 0.15);\n",
              "        fill: #174EA6;\n",
              "      }\n",
              "\n",
              "      [theme=dark] .colab-df-generate {\n",
              "        background-color: #3B4455;\n",
              "        fill: #D2E3FC;\n",
              "      }\n",
              "\n",
              "      [theme=dark] .colab-df-generate:hover {\n",
              "        background-color: #434B5C;\n",
              "        box-shadow: 0px 1px 3px 1px rgba(0, 0, 0, 0.15);\n",
              "        filter: drop-shadow(0px 1px 2px rgba(0, 0, 0, 0.3));\n",
              "        fill: #FFFFFF;\n",
              "      }\n",
              "    </style>\n",
              "    <button class=\"colab-df-generate\" onclick=\"generateWithVariable('F_news')\"\n",
              "            title=\"Generate code using this dataframe.\"\n",
              "            style=\"display:none;\">\n",
              "\n",
              "  <svg xmlns=\"http://www.w3.org/2000/svg\" height=\"24px\"viewBox=\"0 0 24 24\"\n",
              "       width=\"24px\">\n",
              "    <path d=\"M7,19H8.4L18.45,9,17,7.55,7,17.6ZM5,21V16.75L18.45,3.32a2,2,0,0,1,2.83,0l1.4,1.43a1.91,1.91,0,0,1,.58,1.4,1.91,1.91,0,0,1-.58,1.4L9.25,21ZM18.45,9,17,7.55Zm-12,3A5.31,5.31,0,0,0,4.9,8.1,5.31,5.31,0,0,0,1,6.5,5.31,5.31,0,0,0,4.9,4.9,5.31,5.31,0,0,0,6.5,1,5.31,5.31,0,0,0,8.1,4.9,5.31,5.31,0,0,0,12,6.5,5.46,5.46,0,0,0,6.5,12Z\"/>\n",
              "  </svg>\n",
              "    </button>\n",
              "    <script>\n",
              "      (() => {\n",
              "      const buttonEl =\n",
              "        document.querySelector('#id_5578c110-47ed-4508-bd60-6d5ad7c99b61 button.colab-df-generate');\n",
              "      buttonEl.style.display =\n",
              "        google.colab.kernel.accessAllowed ? 'block' : 'none';\n",
              "\n",
              "      buttonEl.onclick = () => {\n",
              "        google.colab.notebook.generateWithVariable('F_news');\n",
              "      }\n",
              "      })();\n",
              "    </script>\n",
              "  </div>\n",
              "\n",
              "    </div>\n",
              "  </div>\n"
            ],
            "application/vnd.google.colaboratory.intrinsic+json": {
              "type": "dataframe",
              "variable_name": "F_news",
              "summary": "{\n  \"name\": \"F_news\",\n  \"rows\": 15231,\n  \"fields\": [\n    {\n      \"column\": \"Stock_symbol\",\n      \"properties\": {\n        \"dtype\": \"category\",\n        \"num_unique_values\": 3,\n        \"samples\": [\n          \"INTC\",\n          \"GOOGL\",\n          \"HMC\"\n        ],\n        \"semantic_type\": \"\",\n        \"description\": \"\"\n      }\n    },\n    {\n      \"column\": \"Article_title\",\n      \"properties\": {\n        \"dtype\": \"string\",\n        \"num_unique_values\": 14164,\n        \"samples\": [\n          \"Honda Motor To Reduce Sales Networks In Japan From 5 To 2 By April 2018\",\n          \"Here's What Key Metrics Tell Us About Intel (INTC) Q1 Earnings\",\n          \"Is It Too Late to Buy NVIDIA Stock?\"\n        ],\n        \"semantic_type\": \"\",\n        \"description\": \"\"\n      }\n    },\n    {\n      \"column\": \"Date\",\n      \"properties\": {\n        \"dtype\": \"object\",\n        \"num_unique_values\": 2773,\n        \"samples\": [\n          \"2021-03-14 00:00:00 UTC\",\n          \"2016-03-01 00:00:00 UTC\",\n          \"2021-03-01 00:00:00 UTC\"\n        ],\n        \"semantic_type\": \"\",\n        \"description\": \"\"\n      }\n    },\n    {\n      \"column\": \"sentiment_score\",\n      \"properties\": {\n        \"dtype\": \"number\",\n        \"std\": 0,\n        \"min\": -1,\n        \"max\": 1,\n        \"num_unique_values\": 3,\n        \"samples\": [\n          -1,\n          0,\n          1\n        ],\n        \"semantic_type\": \"\",\n        \"description\": \"\"\n      }\n    }\n  ]\n}"
            }
          },
          "metadata": {},
          "execution_count": 5
        }
      ],
      "source": [
        "\n",
        "F_news= pd.read_csv(\"/content/drive/MyDrive/Colab Notebooks/filtered_news.csv\")\n",
        "F_news"
      ]
    },
    {
      "cell_type": "code",
      "execution_count": null,
      "metadata": {
        "colab": {
          "base_uri": "https://localhost:8080/"
        },
        "id": "bqiCcTRTg4ns",
        "outputId": "6e5f4e15-1724-477e-bec7-558126dbfd44",
        "collapsed": true
      },
      "outputs": [
        {
          "name": "stdout",
          "output_type": "stream",
          "text": [
            "Requirement already satisfied: sentence-transformers in /usr/local/lib/python3.11/dist-packages (4.1.0)\n",
            "Requirement already satisfied: transformers<5.0.0,>=4.41.0 in /usr/local/lib/python3.11/dist-packages (from sentence-transformers) (4.51.3)\n",
            "Requirement already satisfied: tqdm in /usr/local/lib/python3.11/dist-packages (from sentence-transformers) (4.67.1)\n",
            "Requirement already satisfied: torch>=1.11.0 in /usr/local/lib/python3.11/dist-packages (from sentence-transformers) (2.6.0+cu124)\n",
            "Requirement already satisfied: scikit-learn in /usr/local/lib/python3.11/dist-packages (from sentence-transformers) (1.6.1)\n",
            "Requirement already satisfied: scipy in /usr/local/lib/python3.11/dist-packages (from sentence-transformers) (1.15.3)\n",
            "Requirement already satisfied: huggingface-hub>=0.20.0 in /usr/local/lib/python3.11/dist-packages (from sentence-transformers) (0.31.2)\n",
            "Requirement already satisfied: Pillow in /usr/local/lib/python3.11/dist-packages (from sentence-transformers) (11.2.1)\n",
            "Requirement already satisfied: typing_extensions>=4.5.0 in /usr/local/lib/python3.11/dist-packages (from sentence-transformers) (4.13.2)\n",
            "Requirement already satisfied: filelock in /usr/local/lib/python3.11/dist-packages (from huggingface-hub>=0.20.0->sentence-transformers) (3.18.0)\n",
            "Requirement already satisfied: fsspec>=2023.5.0 in /usr/local/lib/python3.11/dist-packages (from huggingface-hub>=0.20.0->sentence-transformers) (2025.3.2)\n",
            "Requirement already satisfied: packaging>=20.9 in /usr/local/lib/python3.11/dist-packages (from huggingface-hub>=0.20.0->sentence-transformers) (24.2)\n",
            "Requirement already satisfied: pyyaml>=5.1 in /usr/local/lib/python3.11/dist-packages (from huggingface-hub>=0.20.0->sentence-transformers) (6.0.2)\n",
            "Requirement already satisfied: requests in /usr/local/lib/python3.11/dist-packages (from huggingface-hub>=0.20.0->sentence-transformers) (2.32.3)\n",
            "Requirement already satisfied: networkx in /usr/local/lib/python3.11/dist-packages (from torch>=1.11.0->sentence-transformers) (3.4.2)\n",
            "Requirement already satisfied: jinja2 in /usr/local/lib/python3.11/dist-packages (from torch>=1.11.0->sentence-transformers) (3.1.6)\n",
            "Requirement already satisfied: nvidia-cuda-nvrtc-cu12==12.4.127 in /usr/local/lib/python3.11/dist-packages (from torch>=1.11.0->sentence-transformers) (12.4.127)\n",
            "Requirement already satisfied: nvidia-cuda-runtime-cu12==12.4.127 in /usr/local/lib/python3.11/dist-packages (from torch>=1.11.0->sentence-transformers) (12.4.127)\n",
            "Requirement already satisfied: nvidia-cuda-cupti-cu12==12.4.127 in /usr/local/lib/python3.11/dist-packages (from torch>=1.11.0->sentence-transformers) (12.4.127)\n",
            "Requirement already satisfied: nvidia-cudnn-cu12==9.1.0.70 in /usr/local/lib/python3.11/dist-packages (from torch>=1.11.0->sentence-transformers) (9.1.0.70)\n",
            "Requirement already satisfied: nvidia-cublas-cu12==12.4.5.8 in /usr/local/lib/python3.11/dist-packages (from torch>=1.11.0->sentence-transformers) (12.4.5.8)\n",
            "Requirement already satisfied: nvidia-cufft-cu12==11.2.1.3 in /usr/local/lib/python3.11/dist-packages (from torch>=1.11.0->sentence-transformers) (11.2.1.3)\n",
            "Requirement already satisfied: nvidia-curand-cu12==10.3.5.147 in /usr/local/lib/python3.11/dist-packages (from torch>=1.11.0->sentence-transformers) (10.3.5.147)\n",
            "Requirement already satisfied: nvidia-cusolver-cu12==11.6.1.9 in /usr/local/lib/python3.11/dist-packages (from torch>=1.11.0->sentence-transformers) (11.6.1.9)\n",
            "Requirement already satisfied: nvidia-cusparse-cu12==12.3.1.170 in /usr/local/lib/python3.11/dist-packages (from torch>=1.11.0->sentence-transformers) (12.3.1.170)\n",
            "Requirement already satisfied: nvidia-cusparselt-cu12==0.6.2 in /usr/local/lib/python3.11/dist-packages (from torch>=1.11.0->sentence-transformers) (0.6.2)\n",
            "Requirement already satisfied: nvidia-nccl-cu12==2.21.5 in /usr/local/lib/python3.11/dist-packages (from torch>=1.11.0->sentence-transformers) (2.21.5)\n",
            "Requirement already satisfied: nvidia-nvtx-cu12==12.4.127 in /usr/local/lib/python3.11/dist-packages (from torch>=1.11.0->sentence-transformers) (12.4.127)\n",
            "Requirement already satisfied: nvidia-nvjitlink-cu12==12.4.127 in /usr/local/lib/python3.11/dist-packages (from torch>=1.11.0->sentence-transformers) (12.4.127)\n",
            "Requirement already satisfied: triton==3.2.0 in /usr/local/lib/python3.11/dist-packages (from torch>=1.11.0->sentence-transformers) (3.2.0)\n",
            "Requirement already satisfied: sympy==1.13.1 in /usr/local/lib/python3.11/dist-packages (from torch>=1.11.0->sentence-transformers) (1.13.1)\n",
            "Requirement already satisfied: mpmath<1.4,>=1.1.0 in /usr/local/lib/python3.11/dist-packages (from sympy==1.13.1->torch>=1.11.0->sentence-transformers) (1.3.0)\n",
            "Requirement already satisfied: numpy>=1.17 in /usr/local/lib/python3.11/dist-packages (from transformers<5.0.0,>=4.41.0->sentence-transformers) (2.0.2)\n",
            "Requirement already satisfied: regex!=2019.12.17 in /usr/local/lib/python3.11/dist-packages (from transformers<5.0.0,>=4.41.0->sentence-transformers) (2024.11.6)\n",
            "Requirement already satisfied: tokenizers<0.22,>=0.21 in /usr/local/lib/python3.11/dist-packages (from transformers<5.0.0,>=4.41.0->sentence-transformers) (0.21.1)\n",
            "Requirement already satisfied: safetensors>=0.4.3 in /usr/local/lib/python3.11/dist-packages (from transformers<5.0.0,>=4.41.0->sentence-transformers) (0.5.3)\n",
            "Requirement already satisfied: joblib>=1.2.0 in /usr/local/lib/python3.11/dist-packages (from scikit-learn->sentence-transformers) (1.5.0)\n",
            "Requirement already satisfied: threadpoolctl>=3.1.0 in /usr/local/lib/python3.11/dist-packages (from scikit-learn->sentence-transformers) (3.6.0)\n",
            "Requirement already satisfied: MarkupSafe>=2.0 in /usr/local/lib/python3.11/dist-packages (from jinja2->torch>=1.11.0->sentence-transformers) (3.0.2)\n",
            "Requirement already satisfied: charset-normalizer<4,>=2 in /usr/local/lib/python3.11/dist-packages (from requests->huggingface-hub>=0.20.0->sentence-transformers) (3.4.2)\n",
            "Requirement already satisfied: idna<4,>=2.5 in /usr/local/lib/python3.11/dist-packages (from requests->huggingface-hub>=0.20.0->sentence-transformers) (3.10)\n",
            "Requirement already satisfied: urllib3<3,>=1.21.1 in /usr/local/lib/python3.11/dist-packages (from requests->huggingface-hub>=0.20.0->sentence-transformers) (2.4.0)\n",
            "Requirement already satisfied: certifi>=2017.4.17 in /usr/local/lib/python3.11/dist-packages (from requests->huggingface-hub>=0.20.0->sentence-transformers) (2025.4.26)\n"
          ]
        }
      ],
      "source": [
        "!pip install sentence-transformers\n",
        "\n",
        "\n"
      ]
    },
    {
      "cell_type": "markdown",
      "metadata": {
        "id": "qEijC5YvAlb6"
      },
      "source": [
        "### Использование модели BERT для анализа новостей\n",
        "\n",
        "Для анализа текстовой информации в проекте применяется модель BERT (Bidirectional Encoder Representations from Transformers). BERT представляет собой трансформерную архитектуру, разработанную Google, основное преимущество которой — двунаправленное внимание: модель одновременно учитывает как левый, так и правый контексты слова, что обеспечивает глубокое понимание смысловой структуры текста.\n",
        "\n",
        "В рамках исследования используется специализированная версия модели — FinBERT, предобученная на финансовых текстах. Это позволяет более точно анализировать эмоциональную окраску новостей, касающихся фондового рынка. На выходе модель возвращает категориальную метку (`POSITIVE`, `NEGATIVE`, `NEUTRAL`), отражающую тональность текста, а также вероятность, с которой она уверена в прогнозе.\n",
        "\n",
        "Данный подход позволяет количественно оценивать влияние информационного потока на фондовые активы: на основе тональности новостей можно строить временные ряды и анализировать их связь с динамикой цен.\n"
      ]
    },
    {
      "cell_type": "markdown",
      "source": [
        "добавляем столбец в filltered csv с оценкой bert"
      ],
      "metadata": {
        "id": "Auw2Ed3AKOlW"
      }
    },
    {
      "cell_type": "code",
      "execution_count": null,
      "metadata": {
        "colab": {
          "base_uri": "https://localhost:8080/",
          "height": 455,
          "referenced_widgets": [
            "53d1cf1978c6446b84f4e26716b6d90d",
            "e0d597521dc845a5b7d71936fa6d384d",
            "590c5ba62f174d0e8b8523982f828436",
            "1655d912d5604e97af128247e2331d59",
            "6928bcf7cf924cf9a8b778c63399cf62",
            "a18508dddf8e48debf58006148fb1f6b",
            "7a717ba68e414c1ba7ec6558b99ab989",
            "5a71cd4a41044220b5c4a25a3abe58a6",
            "593212c6af6c40369e2532dce95d4aab",
            "16f746c8e34546fd9edcb237baa4ca7c",
            "4767d236d3d6459491e1ae1c697bbec8",
            "a003555e994548139956f54fb6f8947e",
            "5bd117a4ca464fcd9ae02dd9026e4547",
            "ba16771c02b74072a5faf602a78b5b32",
            "df39d22d169848c988fe4ad922302254",
            "1e4fc066333344bfad1a3d659bc8288b",
            "fba8860e020047d78c6b615c02714d67",
            "dccb813edb0c45908157674ccc282196",
            "99f89bd1db58467e88a6da5e6882b4e2",
            "ce235b73d7aa4a36947fc53a3c70060e",
            "1c9665c021d04257816e99c4a896b4b0",
            "0ebb4616162b4c07885a257339a78fe1",
            "6ad0f897cadf40c19bc8ccd20d369e31",
            "a5ca1edfef034259850d5b0c9697a73a",
            "8cd2f972b8cc4c2f8e2b0cddb1424053",
            "f62d591fde1b46edb1a4b94db535e52f",
            "937053083b0f4cc3b2a31fd6307d5fcd",
            "bc15dd69497c429e9281bbe2a6083d9b",
            "586c92e95bb343f98034a578c28f4342",
            "a33eb58e2bf14eea8de9bfa8ccbba947",
            "723833a996704c91bfe762b5c035d03e",
            "20aa32db0bc54a3da970540be3f81ef4",
            "2e88b2ec24b24473bfe378019e1d9005",
            "073342903c29479db7afa43ae707519e",
            "12c12b7eec624194bbf5df82c5aa7675",
            "dbf6b945a9f941ba8d08ae132895ab13",
            "f46af07d7a7b4645bfbff1b701fa47db",
            "cacd3177e79443b2a4906dfb8228a743",
            "1516f0b3d577406f867d2b5e0d12590a",
            "f8db095a1d254a93be4adf727a75992e",
            "b29b2f95406f4b258c5f4b85b6fb42fe",
            "de5b2d74b0484765a80f44c5b4c98a14",
            "b330bffd6cfc4bf9aa34768b22c8a8ab",
            "7accddd2817d40c6b3cdf7d0a58e4fca",
            "df5de479b37d4576a27bf91253cad0ec",
            "5eec73eeb5fa4ecdb560d158c2b1805f",
            "4d13375e3c0e40548bdda3ec1d6e26d8",
            "9f275fbf0d544aeea33e3f41a9fdff23",
            "38d34f7705924de89fbd0a1c264b5468",
            "eabd171640394061a595603ed87f4827",
            "f74962c2eee04462b14d245ee5346f61",
            "ba6426b5cafc43f781444238e245d9ff",
            "9883b1fca2db4cb18d0f0cb0f7654667",
            "663ba7405b304f5ca1eae828d5183b51",
            "88c1e3c3eeda418aa02f410a711a6220",
            "f6312a674bae42ff9430c984157d3003",
            "666e64b102b24ece8ad666fb6d5f7295",
            "bc50376b1e5f4566ae455355f8fe983b",
            "ca0d776920364bb99c3143637a791ccc",
            "229f794cf60a48278341781374b46074",
            "af285c84242a40508a8367f54a17c6a8",
            "f2d00242d264446a80ccf822cee4b2cf",
            "65dcc2fba71d466f9a8ad0b6a4b61fdc",
            "6ffb64fb44ae439ba0eb44496f4adfb4",
            "b908283a234d4dcab8fa58b987f1626a",
            "29d2a152844043c2bfc207812e0b2409"
          ]
        },
        "id": "wKOpIbTyp7G3",
        "outputId": "8e4c01bd-6672-4940-91d9-7e871693176d"
      },
      "outputs": [
        {
          "name": "stderr",
          "output_type": "stream",
          "text": [
            "/usr/local/lib/python3.11/dist-packages/huggingface_hub/utils/_auth.py:94: UserWarning: \n",
            "The secret `HF_TOKEN` does not exist in your Colab secrets.\n",
            "To authenticate with the Hugging Face Hub, create a token in your settings tab (https://huggingface.co/settings/tokens), set it as secret in your Google Colab and restart your session.\n",
            "You will be able to reuse this secret in all of your notebooks.\n",
            "Please note that authentication is recommended but still optional to access public models or datasets.\n",
            "  warnings.warn(\n"
          ]
        },
        {
          "data": {
            "application/vnd.jupyter.widget-view+json": {
              "model_id": "53d1cf1978c6446b84f4e26716b6d90d",
              "version_major": 2,
              "version_minor": 0
            },
            "text/plain": [
              "tokenizer_config.json:   0%|          | 0.00/252 [00:00<?, ?B/s]"
            ]
          },
          "metadata": {},
          "output_type": "display_data"
        },
        {
          "data": {
            "application/vnd.jupyter.widget-view+json": {
              "model_id": "a003555e994548139956f54fb6f8947e",
              "version_major": 2,
              "version_minor": 0
            },
            "text/plain": [
              "config.json:   0%|          | 0.00/758 [00:00<?, ?B/s]"
            ]
          },
          "metadata": {},
          "output_type": "display_data"
        },
        {
          "data": {
            "application/vnd.jupyter.widget-view+json": {
              "model_id": "6ad0f897cadf40c19bc8ccd20d369e31",
              "version_major": 2,
              "version_minor": 0
            },
            "text/plain": [
              "vocab.txt:   0%|          | 0.00/232k [00:00<?, ?B/s]"
            ]
          },
          "metadata": {},
          "output_type": "display_data"
        },
        {
          "data": {
            "application/vnd.jupyter.widget-view+json": {
              "model_id": "073342903c29479db7afa43ae707519e",
              "version_major": 2,
              "version_minor": 0
            },
            "text/plain": [
              "special_tokens_map.json:   0%|          | 0.00/112 [00:00<?, ?B/s]"
            ]
          },
          "metadata": {},
          "output_type": "display_data"
        },
        {
          "name": "stderr",
          "output_type": "stream",
          "text": [
            "Xet Storage is enabled for this repo, but the 'hf_xet' package is not installed. Falling back to regular HTTP download. For better performance, install the package with: `pip install huggingface_hub[hf_xet]` or `pip install hf_xet`\n",
            "WARNING:huggingface_hub.file_download:Xet Storage is enabled for this repo, but the 'hf_xet' package is not installed. Falling back to regular HTTP download. For better performance, install the package with: `pip install huggingface_hub[hf_xet]` or `pip install hf_xet`\n"
          ]
        },
        {
          "data": {
            "application/vnd.jupyter.widget-view+json": {
              "model_id": "df5de479b37d4576a27bf91253cad0ec",
              "version_major": 2,
              "version_minor": 0
            },
            "text/plain": [
              "pytorch_model.bin:   0%|          | 0.00/438M [00:00<?, ?B/s]"
            ]
          },
          "metadata": {},
          "output_type": "display_data"
        },
        {
          "name": "stderr",
          "output_type": "stream",
          "text": [
            "Xet Storage is enabled for this repo, but the 'hf_xet' package is not installed. Falling back to regular HTTP download. For better performance, install the package with: `pip install huggingface_hub[hf_xet]` or `pip install hf_xet`\n",
            "WARNING:huggingface_hub.file_download:Xet Storage is enabled for this repo, but the 'hf_xet' package is not installed. Falling back to regular HTTP download. For better performance, install the package with: `pip install huggingface_hub[hf_xet]` or `pip install hf_xet`\n",
            "Device set to use cpu\n",
            "  0%|          | 0/476 [00:00<?, ?it/s]"
          ]
        },
        {
          "data": {
            "application/vnd.jupyter.widget-view+json": {
              "model_id": "f6312a674bae42ff9430c984157d3003",
              "version_major": 2,
              "version_minor": 0
            },
            "text/plain": [
              "model.safetensors:   0%|          | 0.00/438M [00:00<?, ?B/s]"
            ]
          },
          "metadata": {},
          "output_type": "display_data"
        },
        {
          "name": "stderr",
          "output_type": "stream",
          "text": [
            "100%|██████████| 476/476 [36:28<00:00,  4.60s/it]\n"
          ]
        }
      ],
      "source": [
        "from transformers import AutoTokenizer, AutoModelForSequenceClassification, pipeline\n",
        "from tqdm import tqdm\n",
        "\n",
        "# 1. Инициализация FinBERT\n",
        "model_name = \"ProsusAI/finbert\"\n",
        "tokenizer = AutoTokenizer.from_pretrained(model_name)\n",
        "model = AutoModelForSequenceClassification.from_pretrained(model_name)\n",
        "finbert = pipeline(\"sentiment-analysis\", model=model, tokenizer=tokenizer)\n",
        "\n",
        "# 2. Применение к F_news\n",
        "batch_size = 32\n",
        "texts = F_news['Article_title'].astype(str).tolist()\n",
        "sentiment_map = {'POSITIVE': 1, 'NEUTRAL': 0, 'NEGATIVE': -1}\n",
        "scores = []\n",
        "\n",
        "for i in tqdm(range(0, len(texts), batch_size)):\n",
        "    batch = texts[i:i + batch_size]\n",
        "    results = finbert(batch)\n",
        "    scores.extend([sentiment_map[r['label'].upper()] for r in results])\n",
        "\n",
        "# 3. Добавляем столбец\n",
        "F_news['sentiment_score'] = scores\n",
        "\n",
        "# 4. Сохраняем обратно\n",
        "F_news.to_csv(\"/content/drive/MyDrive/Colab Notebooks/filtered_news.csv\", index=False)\n"
      ]
    },
    {
      "cell_type": "markdown",
      "metadata": {
        "id": "lUtIT0mi7MPZ"
      },
      "source": [
        "это мы создаем Относительное изменение:\n",
        "\n",
        "impact_score\n",
        "=\n",
        "∣\n",
        "Close\n",
        "𝑡\n",
        "+\n",
        "1\n",
        "−\n",
        "Close\n",
        "𝑡\n",
        "∣\n",
        "Close\n",
        "𝑡\n",
        "impact_score=\n",
        "Close\n",
        "t\n",
        "​\n",
        "\n",
        "∣Close\n",
        "t+1\n",
        "​\n",
        " −Close\n",
        "t\n",
        "​\n",
        " ∣\n",
        "​\n",
        "\n"
      ]
    },
    {
      "cell_type": "code",
      "execution_count": null,
      "metadata": {
        "colab": {
          "base_uri": "https://localhost:8080/"
        },
        "id": "3kcl51Qch54O",
        "outputId": "9eb29e42-9714-4d1b-9a6a-a943c0e74183"
      },
      "outputs": [
        {
          "output_type": "stream",
          "name": "stderr",
          "text": [
            "<ipython-input-6-d47637f7482d>:18: UserWarning: Could not infer format, so each element will be parsed individually, falling back to `dateutil`. To ensure parsing is consistent and as-expected, please specify a format.\n",
            "  price_df['Date'] = pd.to_datetime(price_df['Date'], utc=True).dt.tz_localize(None)\n"
          ]
        },
        {
          "output_type": "stream",
          "name": "stdout",
          "text": [
            "                                          Article_title  impact_score\n",
            "507   FANG Stocks Update: The Whole Lot is Losing Ou...      0.000000\n",
            "2268  WSJ: Honda to halt Accord production for 11 da...      0.002668\n",
            "2349  Zacks Industry Outlook Highlights: Tesla, Gene...      0.000000\n",
            "1788  Ford Suspends Production at IMG Sites on Coron...      0.086477\n",
            "949   Which Super Bowl LI Commercials Were Social Hits?      0.006155\n"
          ]
        }
      ],
      "source": [
        "import pandas as pd\n",
        "\n",
        "# Список тикеров и соответствующих таблиц с ценами\n",
        "tickers = [\n",
        "    ('GOOGL', google),\n",
        "    ('INTC', intel),\n",
        "    ('HMC', honda)\n",
        "]\n",
        "\n",
        "all_data = []\n",
        "\n",
        "for ticker, price_df in tickers:\n",
        "    # 1. Фильтрация новостей по тикеру\n",
        "    news = F_news[F_news['Stock_symbol'] == ticker].copy()\n",
        "\n",
        "    # 2. Преобразование даты и удаление временной зоны\n",
        "    news['Date'] = pd.to_datetime(news['Date'], utc=True).dt.tz_localize(None)\n",
        "    price_df['Date'] = pd.to_datetime(price_df['Date'], utc=True).dt.tz_localize(None)\n",
        "\n",
        "    # 3. Объединение новостей и цен по дате\n",
        "    df = pd.merge(news, price_df[['Date', 'Close']], on='Date', how='inner')\n",
        "\n",
        "    # 4. Расчёт impact_score — относительное изменение цены на следующий день\n",
        "    df['Close_next'] = df['Close'].shift(-1)\n",
        "    df['impact_score'] = abs(df['Close_next'] - df['Close']) / df['Close']\n",
        "\n",
        "    # 5. Удаление NaN и сохранение нужных колонок\n",
        "    df = df.dropna(subset=['impact_score'])\n",
        "    all_data.append(df[['Article_title', 'impact_score']])\n",
        "\n",
        "# 6. Объединение всех тикеров в один датафрейм\n",
        "df_all = pd.concat(all_data).reset_index(drop=True)\n",
        "\n",
        "# 7. (Опционально) Ограничим объём до 1000 строк для ускорения обучения\n",
        "df_all = df_all.sample(1000, random_state=42) if len(df_all) > 1000 else df_all\n",
        "\n",
        "# 8. Проверка\n",
        "print(df_all.head())\n"
      ]
    },
    {
      "cell_type": "code",
      "source": [
        "all_data"
      ],
      "metadata": {
        "colab": {
          "base_uri": "https://localhost:8080/"
        },
        "id": "NcElLUya0vq0",
        "outputId": "972cd093-9b8f-4d10-d30e-e918cc6b9d41"
      },
      "execution_count": null,
      "outputs": [
        {
          "output_type": "execute_result",
          "data": {
            "text/plain": [
              "[                                         Article_title  impact_score\n",
              " 0    MoneyGram Shares Jump 50% As Western Union Rep...      0.005142\n",
              " 1    The First Week of June Is All About the May's ...      0.000000\n",
              " 2    The 'Real' S&P 500 And Why The Current Rally M...      0.000000\n",
              " 3    UK Supply Chain Startup Beacon Raises $15M Fro...      0.001956\n",
              " 4    'DOJ has interviewed multiple Google competito...      0.000000\n",
              " ..                                                 ...           ...\n",
              " 640  Post-Earning, Which Is Better: Alphabet or Fac...      0.000000\n",
              " 641  Pachira Investments Inc. Buys Amazon.com Inc, ...      0.000000\n",
              " 642  Fundamentun, LLC Buys WisdomTree U.S. Dividend...      0.000000\n",
              " 643  The Zacks Analyst Blog Highlights: Microsoft, ...      0.000000\n",
              " 644  Zacks Investment Ideas feature highlights: Goo...      0.000000\n",
              " \n",
              " [645 rows x 2 columns],\n",
              " Empty DataFrame\n",
              " Columns: [Article_title, impact_score]\n",
              " Index: [],\n",
              "                                           Article_title  impact_score\n",
              " 0     Hedge Fund Manager Makes Bold Tesla Prediction...      0.000000\n",
              " 1     Shares of several auto manufacturing & auto pa...      0.023441\n",
              " 2     Ford, GM, Fiat Chrysler Aim To Resume US Produ...      0.036434\n",
              " 3     Honda To Expend Suspension Of North American A...      0.027580\n",
              " 4     JD Power Says Auto Retail Sales Show Signs Of ...      0.003660\n",
              " ...                                                 ...           ...\n",
              " 2134  NHTSA reports 9th death from faulty Takata airbag      0.000617\n",
              " 2135  The Most Overhyped Story Of 2015 - And 2016: D...      0.006486\n",
              " 2136  Robotic Exoskeletons Stepping Out Of Science F...      0.000000\n",
              " 2137  TrueCar forecasts big pop for U.S. car sales i...      0.000000\n",
              " 2138    The $156K NSX Could Be a Game-Changer for Acura      0.006217\n",
              " \n",
              " [2139 rows x 2 columns]]"
            ]
          },
          "metadata": {},
          "execution_count": 8
        }
      ]
    },
    {
      "cell_type": "code",
      "source": [
        "save_path = \"/content/drive/MyDrive/Colab Notebooks/df_all_impact.csv\"\n",
        "df_all.to_csv(save_path, index=False)\n",
        "print(f\"✅ df_all сохранён → {save_path}\")\n"
      ],
      "metadata": {
        "colab": {
          "base_uri": "https://localhost:8080/"
        },
        "id": "8e_H4kCXIEsf",
        "outputId": "47b56604-fe68-45b4-979f-036493e312ee"
      },
      "execution_count": null,
      "outputs": [
        {
          "output_type": "stream",
          "name": "stdout",
          "text": [
            "✅ df_all сохранён → /content/drive/MyDrive/Colab Notebooks/df_all_impact.csv\n"
          ]
        }
      ]
    },
    {
      "cell_type": "markdown",
      "source": [
        "ПРИЗЫВ DF ALL"
      ],
      "metadata": {
        "id": "4KrGwf51IfOc"
      }
    },
    {
      "cell_type": "markdown",
      "source": [
        "самая первая модель"
      ],
      "metadata": {
        "id": "GjNZMccxaAIQ"
      }
    },
    {
      "cell_type": "code",
      "source": [
        "from transformers import AutoTokenizer, AutoModel\n",
        "from torch.utils.data import Dataset, DataLoader\n",
        "import torch\n",
        "import torch.nn as nn\n",
        "from sklearn.model_selection import train_test_split\n",
        "from tqdm import tqdm\n",
        "import numpy as np\n",
        "\n",
        "# Set device\n",
        "device = torch.device(\"cuda\" if torch.cuda.is_available() else \"cpu\")\n",
        "print(\"Using device:\", device)\n",
        "\n",
        "# Load tokenizer and model\n",
        "model_name = \"ProsusAI/finbert\"\n",
        "tokenizer = AutoTokenizer.from_pretrained(model_name)\n",
        "bert = AutoModel.from_pretrained(model_name)\n",
        "\n",
        "# Dataset class\n",
        "class NewsDataset(Dataset):\n",
        "    def __init__(self, texts, targets):\n",
        "        self.texts = texts\n",
        "        self.targets = targets\n",
        "\n",
        "    def __len__(self):\n",
        "        return len(self.texts)\n",
        "\n",
        "    def __getitem__(self, idx):\n",
        "        encoded = tokenizer(\n",
        "            self.texts[idx],\n",
        "            truncation=True,\n",
        "            padding=\"max_length\",\n",
        "            max_length=128,\n",
        "            return_tensors=\"pt\"\n",
        "        )\n",
        "        return {\n",
        "            'input_ids': encoded['input_ids'].squeeze(),\n",
        "            'attention_mask': encoded['attention_mask'].squeeze(),\n",
        "            'target': torch.tensor(self.targets[idx], dtype=torch.float32)\n",
        "        }\n",
        "\n",
        "# Train/test split\n",
        "X_train, X_val, y_train, y_val = train_test_split(\n",
        "    df_all['Article_title'].tolist(),\n",
        "    df_all['impact_score'].tolist(),\n",
        "    test_size=0.2,\n",
        "    random_state=42\n",
        ")\n",
        "\n",
        "train_dataset = NewsDataset(X_train, y_train)\n",
        "val_dataset = NewsDataset(X_val, y_val)\n",
        "train_loader = DataLoader(train_dataset, batch_size=4, shuffle=True)\n",
        "val_loader = DataLoader(val_dataset, batch_size=4)\n",
        "\n",
        "# FinBERT with regression head\n",
        "class FinBERTRegressor(nn.Module):\n",
        "    def __init__(self, bert):\n",
        "        super().__init__()\n",
        "        self.bert = bert\n",
        "        self.regressor = nn.Linear(768, 1)\n",
        "\n",
        "    def forward(self, input_ids, attention_mask):\n",
        "        outputs = self.bert(input_ids=input_ids, attention_mask=attention_mask)\n",
        "        cls_output = outputs.last_hidden_state[:, 0]\n",
        "        return self.regressor(cls_output).squeeze()\n",
        "\n",
        "# Initialize model\n",
        "model = FinBERTRegressor(bert).to(device)\n",
        "\n",
        "# UNFREEZE BERT\n",
        "for param in model.bert.parameters():\n",
        "    param.requires_grad = True\n",
        "\n",
        "# Optimizer & loss\n",
        "optimizer = torch.optim.AdamW(model.parameters(), lr=2e-5)\n",
        "loss_fn = nn.MSELoss()\n",
        "\n"
      ],
      "metadata": {
        "colab": {
          "base_uri": "https://localhost:8080/"
        },
        "id": "EQUxq1CTU5PW",
        "outputId": "0e4d00e7-f7ec-4897-d194-1dcff75764f8"
      },
      "execution_count": null,
      "outputs": [
        {
          "output_type": "stream",
          "name": "stdout",
          "text": [
            "Using device: cpu\n"
          ]
        }
      ]
    },
    {
      "cell_type": "code",
      "source": [
        "\n",
        "\n",
        "# Training loop\n",
        "for epoch in range(5):  # You can increase the number of epochs\n",
        "    model.train()\n",
        "    total_loss = 0\n",
        "    loop = tqdm(train_loader, desc=f\"Epoch {epoch+1}\", leave=False)\n",
        "\n",
        "    for batch in loop:\n",
        "        optimizer.zero_grad()\n",
        "        input_ids = batch['input_ids'].to(device)\n",
        "        attention_mask = batch['attention_mask'].to(device)\n",
        "        targets = batch['target'].to(device)\n",
        "\n",
        "        outputs = model(input_ids, attention_mask)\n",
        "        loss = loss_fn(outputs, targets)\n",
        "        loss.backward()\n",
        "        optimizer.step()\n",
        "        total_loss += loss.item()\n",
        "\n",
        "        loop.set_postfix(loss=loss.item())\n",
        "\n",
        "    avg_loss = total_loss / len(train_loader)\n",
        "    print(f\"Epoch {epoch+1} — Average MSE: {avg_loss:.5f}\")\n"
      ],
      "metadata": {
        "colab": {
          "base_uri": "https://localhost:8080/"
        },
        "id": "BCNPrfEVIstL",
        "outputId": "97272a24-102c-4c72-b706-e48d897374bb"
      },
      "execution_count": null,
      "outputs": [
        {
          "output_type": "stream",
          "name": "stdout",
          "text": [
            "Using device: cpu\n"
          ]
        },
        {
          "output_type": "stream",
          "name": "stderr",
          "text": []
        },
        {
          "output_type": "stream",
          "name": "stdout",
          "text": [
            "Epoch 1 — Average MSE: 0.02476\n"
          ]
        },
        {
          "output_type": "stream",
          "name": "stderr",
          "text": []
        },
        {
          "output_type": "stream",
          "name": "stdout",
          "text": [
            "Epoch 2 — Average MSE: 0.00439\n"
          ]
        },
        {
          "output_type": "stream",
          "name": "stderr",
          "text": []
        },
        {
          "output_type": "stream",
          "name": "stdout",
          "text": [
            "Epoch 3 — Average MSE: 0.00196\n"
          ]
        },
        {
          "output_type": "stream",
          "name": "stderr",
          "text": []
        },
        {
          "output_type": "stream",
          "name": "stdout",
          "text": [
            "Epoch 4 — Average MSE: 0.00127\n"
          ]
        },
        {
          "output_type": "stream",
          "name": "stderr",
          "text": [
            "                                                                         "
          ]
        },
        {
          "output_type": "stream",
          "name": "stdout",
          "text": [
            "Epoch 5 — Average MSE: 0.00094\n"
          ]
        },
        {
          "output_type": "stream",
          "name": "stderr",
          "text": [
            "\r"
          ]
        }
      ]
    },
    {
      "cell_type": "code",
      "source": [
        "torch.save(model.state_dict(), \"finbert_finetuned.pt\")\n"
      ],
      "metadata": {
        "id": "L9EhSnaTdIVC"
      },
      "execution_count": null,
      "outputs": []
    },
    {
      "cell_type": "code",
      "source": [
        "!cp finbert_finetuned.pt \"/content/drive/MyDrive/Colab Notebooks/finbert_finetuned.pt\"\n"
      ],
      "metadata": {
        "id": "RuEzVA8n2urv"
      },
      "execution_count": null,
      "outputs": []
    },
    {
      "cell_type": "code",
      "source": [
        "# 📦 Импорт метрик\n",
        "from sklearn.metrics import mean_squared_error, mean_absolute_percentage_error\n",
        "import numpy as np\n",
        "import matplotlib.pyplot as plt\n",
        "\n",
        "# 🧠 Убеждаемся, что модель в режиме оценки\n",
        "model.eval()\n",
        "\n",
        "# 🔁 Сбор предсказаний\n",
        "y_pred, y_true = [], []\n",
        "\n",
        "with torch.no_grad():\n",
        "    for batch in val_loader:\n",
        "        input_ids = batch['input_ids'].to(device)\n",
        "        attention_mask = batch['attention_mask'].to(device)\n",
        "        targets = batch['target'].to(device)\n",
        "\n",
        "        outputs = model(input_ids, attention_mask)\n",
        "\n",
        "        y_pred.extend(outputs.cpu().numpy())\n",
        "        y_true.extend(targets.cpu().numpy())\n",
        "\n",
        "# 📊 Метрики\n",
        "rmse = np.sqrt(mean_squared_error(y_true, y_pred))\n",
        "mape = mean_absolute_percentage_error(y_true, y_pred) * 100\n",
        "\n",
        "print(f\"📏 RMSE (Fine-tuned): {rmse:.5f}\")\n",
        "print(f\"📉 MAPE (Fine-tuned): {mape:.2f}%\")\n",
        "\n",
        "# 📈 График сравнения\n",
        "plt.figure(figsize=(12, 5))\n",
        "plt.plot(y_true, label=\"True impact_score\", color=\"blue\")\n",
        "plt.plot(y_pred, label=\"Predicted (Fine-tuned)\", color=\"red\", alpha=0.7)\n",
        "plt.title(\"True vs Predicted impact_score — Fine-tuned FinBERT\")\n",
        "plt.xlabel(\"Sample index\")\n",
        "plt.ylabel(\"impact_score\")\n",
        "plt.legend()\n",
        "plt.grid(True)\n",
        "plt.tight_layout()\n",
        "plt.show()\n"
      ],
      "metadata": {
        "colab": {
          "base_uri": "https://localhost:8080/",
          "height": 542
        },
        "id": "c5eOSbAL_aLK",
        "outputId": "7c8228aa-3854-4152-d1d7-fa78e4b4683a"
      },
      "execution_count": null,
      "outputs": [
        {
          "output_type": "stream",
          "name": "stdout",
          "text": [
            "📏 RMSE (Fine-tuned): 0.33791\n",
            "📉 MAPE (Fine-tuned): 63218210471676760.00%\n"
          ]
        },
        {
          "output_type": "display_data",
          "data": {
            "text/plain": [
              "<Figure size 1200x500 with 1 Axes>"
            ],
            "image/png": "[encoded data removed]"
          },
          "metadata": {}
        }
      ]
    },
    {
      "cell_type": "code",
      "source": [
        "# Убедимся, что формат даты правильный\n",
        "F_news['Date'] = pd.to_datetime(F_news['Date']).dt.tz_localize(None)\n",
        "honda['Date'] = pd.to_datetime(honda['Date'])\n",
        "intel['Date'] = pd.to_datetime(intel['Date'])\n",
        "google['Date'] = pd.to_datetime(google['Date'])\n",
        "\n",
        "# Показываем минимальные даты\n",
        "print(\"📰 F_news starts from:\", F_news['Date'].min().date())\n",
        "print(\"🚗 Honda data starts from:\", honda['Date'].min().date())\n",
        "print(\"💻 Intel data starts from:\", intel['Date'].min().date())\n",
        "print(\"🌐 Google data starts from:\", google['Date'].min().date())\n"
      ],
      "metadata": {
        "colab": {
          "base_uri": "https://localhost:8080/"
        },
        "id": "ey4hw_cJQGK2",
        "outputId": "095e55f3-8bb2-441a-e902-096046948eb6"
      },
      "execution_count": null,
      "outputs": [
        {
          "output_type": "stream",
          "name": "stdout",
          "text": [
            "📰 F_news starts from: 2009-08-22\n",
            "🚗 Honda data starts from: 1980-03-17\n",
            "💻 Intel data starts from: 1980-03-17\n",
            "🌐 Google data starts from: 2020-01-02\n"
          ]
        }
      ]
    },
    {
      "cell_type": "markdown",
      "source": [
        "переобучим тк mape большой и добавим макроэномические показатели(состояние рынка)"
      ],
      "metadata": {
        "id": "NuMcFJ2ba5XD"
      }
    },
    {
      "cell_type": "code",
      "source": [
        "import yfinance as yf\n",
        "import pandas as pd\n",
        "\n",
        "# Загружаем с правильной даты\n",
        "sp500 = yf.download(\"^GSPC\", start=\"2009-08-22\", end=\"2025-12-31\")\n",
        "sp500 = sp500[['Close']].reset_index()\n",
        "sp500.columns = ['Date', 'SP500_Close']\n",
        "\n",
        "# Вычисляем дневную доходность\n",
        "sp500['SP500_Return'] = sp500['SP500_Close'].pct_change()\n",
        "sp500['Date'] = pd.to_datetime(sp500['Date'])\n"
      ],
      "metadata": {
        "colab": {
          "base_uri": "https://localhost:8080/"
        },
        "id": "Ufpogr5_Q30E",
        "outputId": "674c0c78-ae45-40ea-ede3-40afd602c880"
      },
      "execution_count": 13,
      "outputs": [
        {
          "output_type": "stream",
          "name": "stdout",
          "text": [
            "YF.download() has changed argument auto_adjust default to True\n"
          ]
        },
        {
          "output_type": "stream",
          "name": "stderr",
          "text": [
            "\r[*********************100%***********************]  1 of 1 completed\n"
          ]
        }
      ]
    },
    {
      "cell_type": "code",
      "source": [
        "import pandas as pd\n",
        "\n",
        "# 1. Нормализуем и делаем обе колонки НАИВНЫМИ (без tz)\n",
        "F_news['Date'] = (\n",
        "    pd.to_datetime(F_news['Date'], utc=True)      # строка → UTC\n",
        "      .dt.tz_localize(None)                       # убираем зону\n",
        "      .dt.normalize()                             # оставляем 00:00:00\n",
        ")\n",
        "\n",
        "sp500['Date'] = (\n",
        "    pd.to_datetime(sp500['Date'], errors='coerce')  # на всякий случай\n",
        "      .dt.normalize()                               # 00:00:00\n",
        ")\n",
        "\n",
        "# 2. Заполняем пропуски в индексе S&P-500\n",
        "sp500_filled = (\n",
        "    sp500.set_index('Date')\n",
        "         .asfreq('D', method='ffill')\n",
        "         .reset_index()\n",
        ")\n",
        "\n",
        "# 3. Сливаем\n",
        "news_for_merge = F_news.copy()        # если нужно сохранить оригинал\n",
        "F_news_macro = news_for_merge.merge(\n",
        "    sp500_filled[['Date', 'SP500_Return']],\n",
        "    on='Date',\n",
        "    how='left'\n",
        ")\n",
        "\n",
        "# 4. Проверяем\n",
        "print(F_news_macro[['Date', 'Stock_symbol', 'Article_title', 'SP500_Return']].head())\n"
      ],
      "metadata": {
        "colab": {
          "base_uri": "https://localhost:8080/"
        },
        "id": "Oe6RPjX0Wf6B",
        "outputId": "1c276552-24be-4ecd-e747-d211c45d3b12"
      },
      "execution_count": 15,
      "outputs": [
        {
          "output_type": "stream",
          "name": "stdout",
          "text": [
            "        Date Stock_symbol                                      Article_title  \\\n",
            "0 2023-12-16         INTC  3 Overvalued Stocks That Could Plunge if the M...   \n",
            "1 2023-12-16         INTC              IWD, MRK, BAC, INTC: ETF Inflow Alert   \n",
            "2 2023-12-16         INTC                      Company News for Dec 20, 2023   \n",
            "3 2023-12-16         INTC  Nvidia Stock Dominated 2023, but Investors Sho...   \n",
            "4 2023-12-16         INTC                5 Top Stocks I'm Betting on in 2024   \n",
            "\n",
            "   SP500_Return  \n",
            "0     -0.000076  \n",
            "1     -0.000076  \n",
            "2     -0.000076  \n",
            "3     -0.000076  \n",
            "4     -0.000076  \n"
          ]
        }
      ]
    },
    {
      "cell_type": "code",
      "source": [
        "tickers = ['GOOGL', 'INTC', 'HMC']\n",
        "all_data = []\n",
        "\n",
        "for ticker, price_df in [('GOOGL', google), ('INTC', intel), ('HMC', honda)]:\n",
        "    news = F_news_macro[F_news_macro['Stock_symbol'] == ticker].copy()\n",
        "\n",
        "    news['Date'] = pd.to_datetime(news['Date'])\n",
        "    price_df['Date'] = pd.to_datetime(price_df['Date'])\n",
        "\n",
        "    df = pd.merge(news, price_df[['Date', 'Close']], on='Date', how='inner')\n",
        "    df['Close_next'] = df['Close'].shift(-1)\n",
        "    df['impact_score'] = abs(df['Close_next'] - df['Close']) / df['Close']\n",
        "    df = df.dropna(subset=['impact_score', 'SP500_Return'])\n",
        "\n",
        "    all_data.append(df[['Article_title', 'impact_score', 'SP500_Return']])\n",
        "\n",
        "df_all = pd.concat(all_data).reset_index(drop=True)\n"
      ],
      "metadata": {
        "id": "sHutO9SyaymQ"
      },
      "execution_count": 16,
      "outputs": []
    },
    {
      "cell_type": "code",
      "source": [
        "print(df.head())\n",
        "print(df.columns)\n"
      ],
      "metadata": {
        "id": "yHc5VG5nOUPs",
        "colab": {
          "base_uri": "https://localhost:8080/"
        },
        "outputId": "d15e030a-31fd-42f5-99d1-72ce55842a09"
      },
      "execution_count": 17,
      "outputs": [
        {
          "output_type": "stream",
          "name": "stdout",
          "text": [
            "  Stock_symbol                                      Article_title       Date  \\\n",
            "0          HMC  Shares of several automaker & auto component c... 2020-06-11   \n",
            "1          HMC  Shares of several auto manufacturing & auto co... 2020-06-05   \n",
            "2          HMC  Shares of several consumer discretionary compa... 2020-05-26   \n",
            "3          HMC  Honda shares are trading lower after the compa... 2020-05-12   \n",
            "4          HMC  Honda Motor Co Earlier Reported Q4 EPS $(0.160... 2020-05-12   \n",
            "\n",
            "   sentiment_score  SP500_Return      Close  Close_next  impact_score  \n",
            "0               -1     -0.058944  25.790001   27.980000      0.084917  \n",
            "1                1      0.026212  27.980000   25.990000      0.071122  \n",
            "2                1      0.012289  25.990000   22.709999      0.126202  \n",
            "3               -1     -0.020500  22.709999   22.709999      0.000000  \n",
            "4               -1     -0.020500  22.709999   23.969999      0.055482  \n",
            "Index(['Stock_symbol', 'Article_title', 'Date', 'sentiment_score',\n",
            "       'SP500_Return', 'Close', 'Close_next', 'impact_score'],\n",
            "      dtype='object')\n"
          ]
        }
      ]
    },
    {
      "cell_type": "code",
      "source": [
        "df"
      ],
      "metadata": {
        "colab": {
          "base_uri": "https://localhost:8080/",
          "height": 424
        },
        "id": "QtS8cO69VLJh",
        "outputId": "560f7dbd-e2ea-4cdd-8faf-a5fa50e10315"
      },
      "execution_count": 18,
      "outputs": [
        {
          "output_type": "execute_result",
          "data": {
            "text/plain": [
              "     Stock_symbol                                      Article_title  \\\n",
              "0             HMC  Shares of several automaker & auto component c...   \n",
              "1             HMC  Shares of several auto manufacturing & auto co...   \n",
              "2             HMC  Shares of several consumer discretionary compa...   \n",
              "3             HMC  Honda shares are trading lower after the compa...   \n",
              "4             HMC  Honda Motor Co Earlier Reported Q4 EPS $(0.160...   \n",
              "...           ...                                                ...   \n",
              "2144          HMC  NHTSA reports 9th death from faulty Takata airbag   \n",
              "2145          HMC  The Most Overhyped Story Of 2015 - And 2016: D...   \n",
              "2146          HMC  Robotic Exoskeletons Stepping Out Of Science F...   \n",
              "2147          HMC  TrueCar forecasts big pop for U.S. car sales i...   \n",
              "2148          HMC    The $156K NSX Could Be a Game-Changer for Acura   \n",
              "\n",
              "           Date  sentiment_score  SP500_Return      Close  Close_next  \\\n",
              "0    2020-06-11               -1     -0.058944  25.790001   27.980000   \n",
              "1    2020-06-05                1      0.026212  27.980000   25.990000   \n",
              "2    2020-05-26                1      0.012289  25.990000   22.709999   \n",
              "3    2020-05-12               -1     -0.020500  22.709999   22.709999   \n",
              "4    2020-05-12               -1     -0.020500  22.709999   23.969999   \n",
              "...         ...              ...           ...        ...         ...   \n",
              "2144 2015-12-24               -1     -0.001599  32.400002   32.380001   \n",
              "2145 2015-12-23                0      0.012418  32.380001   32.169998   \n",
              "2146 2015-12-22                0      0.008817  32.169998   32.169998   \n",
              "2147 2015-12-22                0      0.008817  32.169998   32.169998   \n",
              "2148 2015-12-22                1      0.008817  32.169998   32.369999   \n",
              "\n",
              "      impact_score  \n",
              "0         0.084917  \n",
              "1         0.071122  \n",
              "2         0.126202  \n",
              "3         0.000000  \n",
              "4         0.055482  \n",
              "...            ...  \n",
              "2144      0.000617  \n",
              "2145      0.006486  \n",
              "2146      0.000000  \n",
              "2147      0.000000  \n",
              "2148      0.006217  \n",
              "\n",
              "[2149 rows x 8 columns]"
            ],
            "text/html": [
              "\n",
              "  <div id=\"df-6291acf1-c726-4b6d-8e67-9549e485669d\" class=\"colab-df-container\">\n",
              "    <div>\n",
              "<style scoped>\n",
              "    .dataframe tbody tr th:only-of-type {\n",
              "        vertical-align: middle;\n",
              "    }\n",
              "\n",
              "    .dataframe tbody tr th {\n",
              "        vertical-align: top;\n",
              "    }\n",
              "\n",
              "    .dataframe thead th {\n",
              "        text-align: right;\n",
              "    }\n",
              "</style>\n",
              "<table border=\"1\" class=\"dataframe\">\n",
              "  <thead>\n",
              "    <tr style=\"text-align: right;\">\n",
              "      <th></th>\n",
              "      <th>Stock_symbol</th>\n",
              "      <th>Article_title</th>\n",
              "      <th>Date</th>\n",
              "      <th>sentiment_score</th>\n",
              "      <th>SP500_Return</th>\n",
              "      <th>Close</th>\n",
              "      <th>Close_next</th>\n",
              "      <th>impact_score</th>\n",
              "    </tr>\n",
              "  </thead>\n",
              "  <tbody>\n",
              "    <tr>\n",
              "      <th>0</th>\n",
              "      <td>HMC</td>\n",
              "      <td>Shares of several automaker &amp; auto component c...</td>\n",
              "      <td>2020-06-11</td>\n",
              "      <td>-1</td>\n",
              "      <td>-0.058944</td>\n",
              "      <td>25.790001</td>\n",
              "      <td>27.980000</td>\n",
              "      <td>0.084917</td>\n",
              "    </tr>\n",
              "    <tr>\n",
              "      <th>1</th>\n",
              "      <td>HMC</td>\n",
              "      <td>Shares of several auto manufacturing &amp; auto co...</td>\n",
              "      <td>2020-06-05</td>\n",
              "      <td>1</td>\n",
              "      <td>0.026212</td>\n",
              "      <td>27.980000</td>\n",
              "      <td>25.990000</td>\n",
              "      <td>0.071122</td>\n",
              "    </tr>\n",
              "    <tr>\n",
              "      <th>2</th>\n",
              "      <td>HMC</td>\n",
              "      <td>Shares of several consumer discretionary compa...</td>\n",
              "      <td>2020-05-26</td>\n",
              "      <td>1</td>\n",
              "      <td>0.012289</td>\n",
              "      <td>25.990000</td>\n",
              "      <td>22.709999</td>\n",
              "      <td>0.126202</td>\n",
              "    </tr>\n",
              "    <tr>\n",
              "      <th>3</th>\n",
              "      <td>HMC</td>\n",
              "      <td>Honda shares are trading lower after the compa...</td>\n",
              "      <td>2020-05-12</td>\n",
              "      <td>-1</td>\n",
              "      <td>-0.020500</td>\n",
              "      <td>22.709999</td>\n",
              "      <td>22.709999</td>\n",
              "      <td>0.000000</td>\n",
              "    </tr>\n",
              "    <tr>\n",
              "      <th>4</th>\n",
              "      <td>HMC</td>\n",
              "      <td>Honda Motor Co Earlier Reported Q4 EPS $(0.160...</td>\n",
              "      <td>2020-05-12</td>\n",
              "      <td>-1</td>\n",
              "      <td>-0.020500</td>\n",
              "      <td>22.709999</td>\n",
              "      <td>23.969999</td>\n",
              "      <td>0.055482</td>\n",
              "    </tr>\n",
              "    <tr>\n",
              "      <th>...</th>\n",
              "      <td>...</td>\n",
              "      <td>...</td>\n",
              "      <td>...</td>\n",
              "      <td>...</td>\n",
              "      <td>...</td>\n",
              "      <td>...</td>\n",
              "      <td>...</td>\n",
              "      <td>...</td>\n",
              "    </tr>\n",
              "    <tr>\n",
              "      <th>2144</th>\n",
              "      <td>HMC</td>\n",
              "      <td>NHTSA reports 9th death from faulty Takata airbag</td>\n",
              "      <td>2015-12-24</td>\n",
              "      <td>-1</td>\n",
              "      <td>-0.001599</td>\n",
              "      <td>32.400002</td>\n",
              "      <td>32.380001</td>\n",
              "      <td>0.000617</td>\n",
              "    </tr>\n",
              "    <tr>\n",
              "      <th>2145</th>\n",
              "      <td>HMC</td>\n",
              "      <td>The Most Overhyped Story Of 2015 - And 2016: D...</td>\n",
              "      <td>2015-12-23</td>\n",
              "      <td>0</td>\n",
              "      <td>0.012418</td>\n",
              "      <td>32.380001</td>\n",
              "      <td>32.169998</td>\n",
              "      <td>0.006486</td>\n",
              "    </tr>\n",
              "    <tr>\n",
              "      <th>2146</th>\n",
              "      <td>HMC</td>\n",
              "      <td>Robotic Exoskeletons Stepping Out Of Science F...</td>\n",
              "      <td>2015-12-22</td>\n",
              "      <td>0</td>\n",
              "      <td>0.008817</td>\n",
              "      <td>32.169998</td>\n",
              "      <td>32.169998</td>\n",
              "      <td>0.000000</td>\n",
              "    </tr>\n",
              "    <tr>\n",
              "      <th>2147</th>\n",
              "      <td>HMC</td>\n",
              "      <td>TrueCar forecasts big pop for U.S. car sales i...</td>\n",
              "      <td>2015-12-22</td>\n",
              "      <td>0</td>\n",
              "      <td>0.008817</td>\n",
              "      <td>32.169998</td>\n",
              "      <td>32.169998</td>\n",
              "      <td>0.000000</td>\n",
              "    </tr>\n",
              "    <tr>\n",
              "      <th>2148</th>\n",
              "      <td>HMC</td>\n",
              "      <td>The $156K NSX Could Be a Game-Changer for Acura</td>\n",
              "      <td>2015-12-22</td>\n",
              "      <td>1</td>\n",
              "      <td>0.008817</td>\n",
              "      <td>32.169998</td>\n",
              "      <td>32.369999</td>\n",
              "      <td>0.006217</td>\n",
              "    </tr>\n",
              "  </tbody>\n",
              "</table>\n",
              "<p>2149 rows × 8 columns</p>\n",
              "</div>\n",
              "    <div class=\"colab-df-buttons\">\n",
              "\n",
              "  <div class=\"colab-df-container\">\n",
              "    <button class=\"colab-df-convert\" onclick=\"convertToInteractive('df-6291acf1-c726-4b6d-8e67-9549e485669d')\"\n",
              "            title=\"Convert this dataframe to an interactive table.\"\n",
              "            style=\"display:none;\">\n",
              "\n",
              "  <svg xmlns=\"http://www.w3.org/2000/svg\" height=\"24px\" viewBox=\"0 -960 960 960\">\n",
              "    <path d=\"M120-120v-720h720v720H120Zm60-500h600v-160H180v160Zm220 220h160v-160H400v160Zm0 220h160v-160H400v160ZM180-400h160v-160H180v160Zm440 0h160v-160H620v160ZM180-180h160v-160H180v160Zm440 0h160v-160H620v160Z\"/>\n",
              "  </svg>\n",
              "    </button>\n",
              "\n",
              "  <style>\n",
              "    .colab-df-container {\n",
              "      display:flex;\n",
              "      gap: 12px;\n",
              "    }\n",
              "\n",
              "    .colab-df-convert {\n",
              "      background-color: #E8F0FE;\n",
              "      border: none;\n",
              "      border-radius: 50%;\n",
              "      cursor: pointer;\n",
              "      display: none;\n",
              "      fill: #1967D2;\n",
              "      height: 32px;\n",
              "      padding: 0 0 0 0;\n",
              "      width: 32px;\n",
              "    }\n",
              "\n",
              "    .colab-df-convert:hover {\n",
              "      background-color: #E2EBFA;\n",
              "      box-shadow: 0px 1px 2px rgba(60, 64, 67, 0.3), 0px 1px 3px 1px rgba(60, 64, 67, 0.15);\n",
              "      fill: #174EA6;\n",
              "    }\n",
              "\n",
              "    .colab-df-buttons div {\n",
              "      margin-bottom: 4px;\n",
              "    }\n",
              "\n",
              "    [theme=dark] .colab-df-convert {\n",
              "      background-color: #3B4455;\n",
              "      fill: #D2E3FC;\n",
              "    }\n",
              "\n",
              "    [theme=dark] .colab-df-convert:hover {\n",
              "      background-color: #434B5C;\n",
              "      box-shadow: 0px 1px 3px 1px rgba(0, 0, 0, 0.15);\n",
              "      filter: drop-shadow(0px 1px 2px rgba(0, 0, 0, 0.3));\n",
              "      fill: #FFFFFF;\n",
              "    }\n",
              "  </style>\n",
              "\n",
              "    <script>\n",
              "      const buttonEl =\n",
              "        document.querySelector('#df-6291acf1-c726-4b6d-8e67-9549e485669d button.colab-df-convert');\n",
              "      buttonEl.style.display =\n",
              "        google.colab.kernel.accessAllowed ? 'block' : 'none';\n",
              "\n",
              "      async function convertToInteractive(key) {\n",
              "        const element = document.querySelector('#df-6291acf1-c726-4b6d-8e67-9549e485669d');\n",
              "        const dataTable =\n",
              "          await google.colab.kernel.invokeFunction('convertToInteractive',\n",
              "                                                    [key], {});\n",
              "        if (!dataTable) return;\n",
              "\n",
              "        const docLinkHtml = 'Like what you see? Visit the ' +\n",
              "          '<a target=\"_blank\" href=https://colab.research.google.com/notebooks/data_table.ipynb>data table notebook</a>'\n",
              "          + ' to learn more about interactive tables.';\n",
              "        element.innerHTML = '';\n",
              "        dataTable['output_type'] = 'display_data';\n",
              "        await google.colab.output.renderOutput(dataTable, element);\n",
              "        const docLink = document.createElement('div');\n",
              "        docLink.innerHTML = docLinkHtml;\n",
              "        element.appendChild(docLink);\n",
              "      }\n",
              "    </script>\n",
              "  </div>\n",
              "\n",
              "\n",
              "    <div id=\"df-b6203809-93c9-46dd-941f-e0cc435d1589\">\n",
              "      <button class=\"colab-df-quickchart\" onclick=\"quickchart('df-b6203809-93c9-46dd-941f-e0cc435d1589')\"\n",
              "                title=\"Suggest charts\"\n",
              "                style=\"display:none;\">\n",
              "\n",
              "<svg xmlns=\"http://www.w3.org/2000/svg\" height=\"24px\"viewBox=\"0 0 24 24\"\n",
              "     width=\"24px\">\n",
              "    <g>\n",
              "        <path d=\"M19 3H5c-1.1 0-2 .9-2 2v14c0 1.1.9 2 2 2h14c1.1 0 2-.9 2-2V5c0-1.1-.9-2-2-2zM9 17H7v-7h2v7zm4 0h-2V7h2v10zm4 0h-2v-4h2v4z\"/>\n",
              "    </g>\n",
              "</svg>\n",
              "      </button>\n",
              "\n",
              "<style>\n",
              "  .colab-df-quickchart {\n",
              "      --bg-color: #E8F0FE;\n",
              "      --fill-color: #1967D2;\n",
              "      --hover-bg-color: #E2EBFA;\n",
              "      --hover-fill-color: #174EA6;\n",
              "      --disabled-fill-color: #AAA;\n",
              "      --disabled-bg-color: #DDD;\n",
              "  }\n",
              "\n",
              "  [theme=dark] .colab-df-quickchart {\n",
              "      --bg-color: #3B4455;\n",
              "      --fill-color: #D2E3FC;\n",
              "      --hover-bg-color: #434B5C;\n",
              "      --hover-fill-color: #FFFFFF;\n",
              "      --disabled-bg-color: #3B4455;\n",
              "      --disabled-fill-color: #666;\n",
              "  }\n",
              "\n",
              "  .colab-df-quickchart {\n",
              "    background-color: var(--bg-color);\n",
              "    border: none;\n",
              "    border-radius: 50%;\n",
              "    cursor: pointer;\n",
              "    display: none;\n",
              "    fill: var(--fill-color);\n",
              "    height: 32px;\n",
              "    padding: 0;\n",
              "    width: 32px;\n",
              "  }\n",
              "\n",
              "  .colab-df-quickchart:hover {\n",
              "    background-color: var(--hover-bg-color);\n",
              "    box-shadow: 0 1px 2px rgba(60, 64, 67, 0.3), 0 1px 3px 1px rgba(60, 64, 67, 0.15);\n",
              "    fill: var(--button-hover-fill-color);\n",
              "  }\n",
              "\n",
              "  .colab-df-quickchart-complete:disabled,\n",
              "  .colab-df-quickchart-complete:disabled:hover {\n",
              "    background-color: var(--disabled-bg-color);\n",
              "    fill: var(--disabled-fill-color);\n",
              "    box-shadow: none;\n",
              "  }\n",
              "\n",
              "  .colab-df-spinner {\n",
              "    border: 2px solid var(--fill-color);\n",
              "    border-color: transparent;\n",
              "    border-bottom-color: var(--fill-color);\n",
              "    animation:\n",
              "      spin 1s steps(1) infinite;\n",
              "  }\n",
              "\n",
              "  @keyframes spin {\n",
              "    0% {\n",
              "      border-color: transparent;\n",
              "      border-bottom-color: var(--fill-color);\n",
              "      border-left-color: var(--fill-color);\n",
              "    }\n",
              "    20% {\n",
              "      border-color: transparent;\n",
              "      border-left-color: var(--fill-color);\n",
              "      border-top-color: var(--fill-color);\n",
              "    }\n",
              "    30% {\n",
              "      border-color: transparent;\n",
              "      border-left-color: var(--fill-color);\n",
              "      border-top-color: var(--fill-color);\n",
              "      border-right-color: var(--fill-color);\n",
              "    }\n",
              "    40% {\n",
              "      border-color: transparent;\n",
              "      border-right-color: var(--fill-color);\n",
              "      border-top-color: var(--fill-color);\n",
              "    }\n",
              "    60% {\n",
              "      border-color: transparent;\n",
              "      border-right-color: var(--fill-color);\n",
              "    }\n",
              "    80% {\n",
              "      border-color: transparent;\n",
              "      border-right-color: var(--fill-color);\n",
              "      border-bottom-color: var(--fill-color);\n",
              "    }\n",
              "    90% {\n",
              "      border-color: transparent;\n",
              "      border-bottom-color: var(--fill-color);\n",
              "    }\n",
              "  }\n",
              "</style>\n",
              "\n",
              "      <script>\n",
              "        async function quickchart(key) {\n",
              "          const quickchartButtonEl =\n",
              "            document.querySelector('#' + key + ' button');\n",
              "          quickchartButtonEl.disabled = true;  // To prevent multiple clicks.\n",
              "          quickchartButtonEl.classList.add('colab-df-spinner');\n",
              "          try {\n",
              "            const charts = await google.colab.kernel.invokeFunction(\n",
              "                'suggestCharts', [key], {});\n",
              "          } catch (error) {\n",
              "            console.error('Error during call to suggestCharts:', error);\n",
              "          }\n",
              "          quickchartButtonEl.classList.remove('colab-df-spinner');\n",
              "          quickchartButtonEl.classList.add('colab-df-quickchart-complete');\n",
              "        }\n",
              "        (() => {\n",
              "          let quickchartButtonEl =\n",
              "            document.querySelector('#df-b6203809-93c9-46dd-941f-e0cc435d1589 button');\n",
              "          quickchartButtonEl.style.display =\n",
              "            google.colab.kernel.accessAllowed ? 'block' : 'none';\n",
              "        })();\n",
              "      </script>\n",
              "    </div>\n",
              "\n",
              "  <div id=\"id_071e0e0a-b11f-4243-bf5f-fa4e9c25b7c1\">\n",
              "    <style>\n",
              "      .colab-df-generate {\n",
              "        background-color: #E8F0FE;\n",
              "        border: none;\n",
              "        border-radius: 50%;\n",
              "        cursor: pointer;\n",
              "        display: none;\n",
              "        fill: #1967D2;\n",
              "        height: 32px;\n",
              "        padding: 0 0 0 0;\n",
              "        width: 32px;\n",
              "      }\n",
              "\n",
              "      .colab-df-generate:hover {\n",
              "        background-color: #E2EBFA;\n",
              "        box-shadow: 0px 1px 2px rgba(60, 64, 67, 0.3), 0px 1px 3px 1px rgba(60, 64, 67, 0.15);\n",
              "        fill: #174EA6;\n",
              "      }\n",
              "\n",
              "      [theme=dark] .colab-df-generate {\n",
              "        background-color: #3B4455;\n",
              "        fill: #D2E3FC;\n",
              "      }\n",
              "\n",
              "      [theme=dark] .colab-df-generate:hover {\n",
              "        background-color: #434B5C;\n",
              "        box-shadow: 0px 1px 3px 1px rgba(0, 0, 0, 0.15);\n",
              "        filter: drop-shadow(0px 1px 2px rgba(0, 0, 0, 0.3));\n",
              "        fill: #FFFFFF;\n",
              "      }\n",
              "    </style>\n",
              "    <button class=\"colab-df-generate\" onclick=\"generateWithVariable('df')\"\n",
              "            title=\"Generate code using this dataframe.\"\n",
              "            style=\"display:none;\">\n",
              "\n",
              "  <svg xmlns=\"http://www.w3.org/2000/svg\" height=\"24px\"viewBox=\"0 0 24 24\"\n",
              "       width=\"24px\">\n",
              "    <path d=\"M7,19H8.4L18.45,9,17,7.55,7,17.6ZM5,21V16.75L18.45,3.32a2,2,0,0,1,2.83,0l1.4,1.43a1.91,1.91,0,0,1,.58,1.4,1.91,1.91,0,0,1-.58,1.4L9.25,21ZM18.45,9,17,7.55Zm-12,3A5.31,5.31,0,0,0,4.9,8.1,5.31,5.31,0,0,0,1,6.5,5.31,5.31,0,0,0,4.9,4.9,5.31,5.31,0,0,0,6.5,1,5.31,5.31,0,0,0,8.1,4.9,5.31,5.31,0,0,0,12,6.5,5.46,5.46,0,0,0,6.5,12Z\"/>\n",
              "  </svg>\n",
              "    </button>\n",
              "    <script>\n",
              "      (() => {\n",
              "      const buttonEl =\n",
              "        document.querySelector('#id_071e0e0a-b11f-4243-bf5f-fa4e9c25b7c1 button.colab-df-generate');\n",
              "      buttonEl.style.display =\n",
              "        google.colab.kernel.accessAllowed ? 'block' : 'none';\n",
              "\n",
              "      buttonEl.onclick = () => {\n",
              "        google.colab.notebook.generateWithVariable('df');\n",
              "      }\n",
              "      })();\n",
              "    </script>\n",
              "  </div>\n",
              "\n",
              "    </div>\n",
              "  </div>\n"
            ],
            "application/vnd.google.colaboratory.intrinsic+json": {
              "type": "dataframe",
              "variable_name": "df",
              "summary": "{\n  \"name\": \"df\",\n  \"rows\": 2149,\n  \"fields\": [\n    {\n      \"column\": \"Stock_symbol\",\n      \"properties\": {\n        \"dtype\": \"category\",\n        \"num_unique_values\": 1,\n        \"samples\": [\n          \"HMC\"\n        ],\n        \"semantic_type\": \"\",\n        \"description\": \"\"\n      }\n    },\n    {\n      \"column\": \"Article_title\",\n      \"properties\": {\n        \"dtype\": \"string\",\n        \"num_unique_values\": 2081,\n        \"samples\": [\n          \"Honda U.S. sales fall off 5%\"\n        ],\n        \"semantic_type\": \"\",\n        \"description\": \"\"\n      }\n    },\n    {\n      \"column\": \"Date\",\n      \"properties\": {\n        \"dtype\": \"date\",\n        \"min\": \"2009-10-28 00:00:00\",\n        \"max\": \"2020-06-11 00:00:00\",\n        \"num_unique_values\": 1132,\n        \"samples\": [\n          \"2019-06-17 00:00:00\"\n        ],\n        \"semantic_type\": \"\",\n        \"description\": \"\"\n      }\n    },\n    {\n      \"column\": \"sentiment_score\",\n      \"properties\": {\n        \"dtype\": \"number\",\n        \"std\": 0,\n        \"min\": -1,\n        \"max\": 1,\n        \"num_unique_values\": 3,\n        \"samples\": [\n          -1\n        ],\n        \"semantic_type\": \"\",\n        \"description\": \"\"\n      }\n    },\n    {\n      \"column\": \"SP500_Return\",\n      \"properties\": {\n        \"dtype\": \"number\",\n        \"std\": 0.01161388870774308,\n        \"min\": -0.09511268097833658,\n        \"max\": 0.09382773976227554,\n        \"num_unique_values\": 1132,\n        \"samples\": [\n          0.0009317492412306283\n        ],\n        \"semantic_type\": \"\",\n        \"description\": \"\"\n      }\n    },\n    {\n      \"column\": \"Close\",\n      \"properties\": {\n        \"dtype\": \"number\",\n        \"std\": 4.371901074851018,\n        \"min\": 19.86000061,\n        \"max\": 43.75999832,\n        \"num_unique_values\": 803,\n        \"samples\": [\n          31.62000084\n        ],\n        \"semantic_type\": \"\",\n        \"description\": \"\"\n      }\n    },\n    {\n      \"column\": \"Close_next\",\n      \"properties\": {\n        \"dtype\": \"number\",\n        \"std\": 4.370601505625411,\n        \"min\": 19.86000061,\n        \"max\": 43.75999832,\n        \"num_unique_values\": 802,\n        \"samples\": [\n          31.37999916\n        ],\n        \"semantic_type\": \"\",\n        \"description\": \"\"\n      }\n    },\n    {\n      \"column\": \"impact_score\",\n      \"properties\": {\n        \"dtype\": \"number\",\n        \"std\": 0.016807003478909368,\n        \"min\": 0.0,\n        \"max\": 0.15534587258059313,\n        \"num_unique_values\": 1233,\n        \"samples\": [\n          0.0115642441553807\n        ],\n        \"semantic_type\": \"\",\n        \"description\": \"\"\n      }\n    }\n  ]\n}"
            }
          },
          "metadata": {},
          "execution_count": 18
        }
      ]
    },
    {
      "cell_type": "code",
      "source": [
        "\n",
        "drive.mount('/content/drive')\n",
        "\n",
        "\n",
        "# 3. Сохраняем\n",
        "save_path = '/content/drive/My Drive/Colab Notebooks/main_df.csv'   # замените папку, если нужно\n",
        "df.to_csv(save_path, index=False)\n",
        "\n",
        "print(f'DataFrame сохранён по пути: {save_path}')\n"
      ],
      "metadata": {
        "colab": {
          "base_uri": "https://localhost:8080/"
        },
        "id": "oOwB1FlUkKQI",
        "outputId": "a1662080-225d-4ea7-a048-e0f258160702"
      },
      "execution_count": 23,
      "outputs": [
        {
          "output_type": "stream",
          "name": "stdout",
          "text": [
            "Drive already mounted at /content/drive; to attempt to forcibly remount, call drive.mount(\"/content/drive\", force_remount=True).\n",
            "DataFrame сохранён по пути: /content/drive/My Drive/Colab Notebooks/main_df.csv\n"
          ]
        }
      ]
    },
    {
      "cell_type": "markdown",
      "source": [
        "\n"
      ],
      "metadata": {
        "id": "A-SdyJHIVL4I"
      }
    },
    {
      "cell_type": "code",
      "source": [
        "# A.  Добавляем тикер и дату в df_all, чтобы было к чему привязаться\n",
        "df_all['Stock_symbol'] = df_all['Article_title'].map(\n",
        "    dict(zip(F_news['Article_title'], F_news['Stock_symbol']))\n",
        ")\n",
        "df_all['Date'] = df_all['Article_title'].map(\n",
        "    dict(zip(F_news['Article_title'], F_news['Date']))\n",
        ")\n",
        "\n",
        "# B.  Склеиваем impact_score → к F_news_macro\n",
        "full_news = F_news_macro.merge(\n",
        "    df_all[['Article_title', 'impact_score']],\n",
        "    on='Article_title',\n",
        "    how='left'\n",
        ")\n"
      ],
      "metadata": {
        "id": "QpxwK0xHOOtt"
      },
      "execution_count": 21,
      "outputs": []
    },
    {
      "cell_type": "code",
      "source": [
        "datasets = {}\n",
        "tickers   = ['GOOGL', 'HMC', 'INTC']   # поправили опечатку 'HNC' → 'HMC'\n",
        "\n",
        "for ticker in tickers:\n",
        "    df = full_news[full_news['Stock_symbol'] == ticker].dropna(\n",
        "        subset=['impact_score', 'SP500_Return']\n",
        "    )\n",
        "\n",
        "    X  = df['Article_title'].tolist()\n",
        "    y  = df['impact_score'].tolist()\n",
        "    s  = df['SP500_Return'].tolist()\n",
        "\n",
        "    X_train, X_val, y_train, y_val, s_train, s_val = train_test_split(\n",
        "        X, y, s, test_size=0.2, random_state=42\n",
        "    )\n",
        "\n",
        "    datasets[ticker] = {\n",
        "        'X_train'     : X_train,\n",
        "        'X_val'       : X_val,\n",
        "        'y_train'     : y_train,\n",
        "        'y_val'       : y_val,\n",
        "        'sp500_train' : s_train,\n",
        "        'sp500_val'   : s_val\n",
        "    }\n"
      ],
      "metadata": {
        "id": "1_beWaGtkp3h"
      },
      "execution_count": 22,
      "outputs": []
    },
    {
      "cell_type": "code",
      "source": [
        "class NewsWithMacroDataset(Dataset):\n",
        "    def __init__(self, texts, targets, sp500_values):\n",
        "        self.texts = texts\n",
        "        self.targets = targets\n",
        "        self.sp500 = sp500_values\n",
        "\n",
        "    def __len__(self):\n",
        "        return len(self.texts)\n",
        "\n",
        "    def __getitem__(self, idx):\n",
        "        enc = tokenizer(\n",
        "            self.texts[idx],\n",
        "            padding='max_length',\n",
        "            truncation=True,\n",
        "            max_length=128,\n",
        "            return_tensors=\"pt\"\n",
        "        )\n",
        "        return {\n",
        "            'input_ids': enc['input_ids'].squeeze(),\n",
        "            'attention_mask': enc['attention_mask'].squeeze(),\n",
        "            'target': torch.tensor(self.targets[idx], dtype=torch.float32),\n",
        "            'sp500': torch.tensor(self.sp500[idx], dtype=torch.float32)\n",
        "        }\n"
      ],
      "metadata": {
        "id": "vDMXkNNga2vX"
      },
      "execution_count": 24,
      "outputs": []
    },
    {
      "cell_type": "code",
      "source": [
        "class FinBERTWithMacro(nn.Module):\n",
        "    def __init__(self, bert):\n",
        "        super().__init__()\n",
        "        self.bert = bert\n",
        "        self.regressor = nn.Linear(768 + 1, 1)  # +1 for SP500_Return\n",
        "\n",
        "    def forward(self, input_ids, attention_mask, sp500):\n",
        "        outputs = self.bert(input_ids=input_ids, attention_mask=attention_mask)\n",
        "        cls = outputs.last_hidden_state[:, 0]  # [CLS]\n",
        "        combined = torch.cat((cls, sp500.unsqueeze(1)), dim=1)\n",
        "        return self.regressor(combined).squeeze()\n"
      ],
      "metadata": {
        "id": "ySwwNidpbWhh"
      },
      "execution_count": 25,
      "outputs": []
    },
    {
      "cell_type": "code",
      "source": [
        "\n",
        "# 📌 Разбивка данных\n",
        "X_train, X_val, y_train, y_val, sp500_train, sp500_val = train_test_split(\n",
        "    df_all['Article_title'].tolist(),\n",
        "    df_all['impact_score'].tolist(),\n",
        "    df_all['SP500_Return'].tolist(),\n",
        "    test_size=0.2,\n",
        "    random_state=42\n",
        ")"
      ],
      "metadata": {
        "id": "7qvqUtPgEuQz"
      },
      "execution_count": 26,
      "outputs": []
    },
    {
      "cell_type": "code",
      "source": [
        "# 📌 Разбивка данных\n",
        "X_train, X_val, y_train, y_val, sp500_train, sp500_val = train_test_split(\n",
        "    df_all['Article_title'].tolist(),\n",
        "    df_all['impact_score'].tolist(),\n",
        "    df_all['SP500_Return'].tolist(),\n",
        "    test_size=0.2,\n",
        "    random_state=42\n",
        ")\n",
        "\n",
        "# 📦 Dataset\n",
        "train_dataset = NewsWithMacroDataset(X_train, y_train, sp500_train)\n",
        "val_dataset = NewsWithMacroDataset(X_val, y_val, sp500_val)\n",
        "\n",
        "train_loader = DataLoader(train_dataset, batch_size=4, shuffle=True)\n",
        "val_loader = DataLoader(val_dataset, batch_size=4)\n"
      ],
      "metadata": {
        "id": "H_3NORK55von"
      },
      "execution_count": 27,
      "outputs": []
    },
    {
      "cell_type": "code",
      "source": [
        "from sklearn.model_selection import train_test_split\n",
        "from torch.utils.data import DataLoader\n",
        "from transformers import AutoTokenizer, AutoModel\n",
        "import torch\n",
        "import torch.nn as nn\n",
        "from tqdm import tqdm\n",
        "import numpy as np\n",
        "import os\n",
        "\n",
        "\n",
        "# 📥 Загружаем токенизатор и BERT\n",
        "tokenizer = AutoTokenizer.from_pretrained(\"ProsusAI/finbert\")\n",
        "bert = AutoModel.from_pretrained(\"ProsusAI/finbert\")\n",
        "\n",
        "# 🧠 Модель\n",
        "model = FinBERTWithMacro(bert).to(device)\n",
        "\n",
        "# 🧊 (по желанию) разморозим BERT\n",
        "for param in model.bert.parameters():\n",
        "    param.requires_grad = True\n",
        "\n",
        "optimizer = torch.optim.AdamW(model.parameters(), lr=2e-5)\n",
        "loss_fn = nn.MSELoss()\n",
        "\n",
        "# 🏋️‍♂️ Обучение с индикатором\n",
        "for epoch in range(5):\n",
        "    model.train()\n",
        "    total_loss = 0\n",
        "    loop = tqdm(train_loader, desc=f\"Epoch {epoch+1}\", leave=False)\n",
        "\n",
        "    for batch in loop:\n",
        "        optimizer.zero_grad()\n",
        "        input_ids = batch['input_ids'].to(device)\n",
        "        attention_mask = batch['attention_mask'].to(device)\n",
        "        sp500 = batch['sp500'].to(device)\n",
        "        targets = batch['target'].to(device)\n",
        "\n",
        "        outputs = model(input_ids, attention_mask, sp500)\n",
        "        loss = loss_fn(outputs, targets)\n",
        "        loss.backward()\n",
        "        optimizer.step()\n",
        "        total_loss += loss.item()\n",
        "\n",
        "        loop.set_postfix(loss=loss.item())\n",
        "\n",
        "    avg_loss = total_loss / len(train_loader)\n",
        "    print(f\"✅ Epoch {epoch+1} — Average MSE: {avg_loss:.5f}\")\n",
        "\n",
        "# 💾 Сохраняем модель\n",
        "torch.save(model.state_dict(), \"finbert_with_macro.pt\")\n",
        "\n",
        "# 📤 Копируем в Google Диск\n",
        "!cp finbert_with_macro.pt \"/content/drive/MyDrive/Colab Notebooks/finbert_with_macro.pt\"\n",
        "\n",
        "print(\"✅ Model saved and uploaded to Google Drive!\")\n"
      ],
      "metadata": {
        "colab": {
          "base_uri": "https://localhost:8080/",
          "height": 373
        },
        "id": "_nS-5c2Abwl5",
        "outputId": "b0a4eaa3-7861-4997-9a4b-4971a231b01a"
      },
      "execution_count": null,
      "outputs": [
        {
          "output_type": "stream",
          "name": "stderr",
          "text": []
        },
        {
          "output_type": "error",
          "ename": "KeyboardInterrupt",
          "evalue": "",
          "traceback": [
            "\u001b[0;31m---------------------------------------------------------------------------\u001b[0m",
            "\u001b[0;31mKeyboardInterrupt\u001b[0m                         Traceback (most recent call last)",
            "\u001b[0;32m<ipython-input-43-b76267253652>\u001b[0m in \u001b[0;36m<cell line: 0>\u001b[0;34m()\u001b[0m\n\u001b[1;32m     54\u001b[0m         \u001b[0mloss\u001b[0m \u001b[0;34m=\u001b[0m \u001b[0mloss_fn\u001b[0m\u001b[0;34m(\u001b[0m\u001b[0moutputs\u001b[0m\u001b[0;34m,\u001b[0m \u001b[0mtargets\u001b[0m\u001b[0;34m)\u001b[0m\u001b[0;34m\u001b[0m\u001b[0;34m\u001b[0m\u001b[0m\n\u001b[1;32m     55\u001b[0m         \u001b[0mloss\u001b[0m\u001b[0;34m.\u001b[0m\u001b[0mbackward\u001b[0m\u001b[0;34m(\u001b[0m\u001b[0;34m)\u001b[0m\u001b[0;34m\u001b[0m\u001b[0;34m\u001b[0m\u001b[0m\n\u001b[0;32m---> 56\u001b[0;31m         \u001b[0moptimizer\u001b[0m\u001b[0;34m.\u001b[0m\u001b[0mstep\u001b[0m\u001b[0;34m(\u001b[0m\u001b[0;34m)\u001b[0m\u001b[0;34m\u001b[0m\u001b[0;34m\u001b[0m\u001b[0m\n\u001b[0m\u001b[1;32m     57\u001b[0m         \u001b[0mtotal_loss\u001b[0m \u001b[0;34m+=\u001b[0m \u001b[0mloss\u001b[0m\u001b[0;34m.\u001b[0m\u001b[0mitem\u001b[0m\u001b[0;34m(\u001b[0m\u001b[0;34m)\u001b[0m\u001b[0;34m\u001b[0m\u001b[0;34m\u001b[0m\u001b[0m\n\u001b[1;32m     58\u001b[0m \u001b[0;34m\u001b[0m\u001b[0m\n",
            "\u001b[0;32m/usr/local/lib/python3.11/dist-packages/torch/optim/optimizer.py\u001b[0m in \u001b[0;36mwrapper\u001b[0;34m(*args, **kwargs)\u001b[0m\n\u001b[1;32m    491\u001b[0m                             )\n\u001b[1;32m    492\u001b[0m \u001b[0;34m\u001b[0m\u001b[0m\n\u001b[0;32m--> 493\u001b[0;31m                 \u001b[0mout\u001b[0m \u001b[0;34m=\u001b[0m \u001b[0mfunc\u001b[0m\u001b[0;34m(\u001b[0m\u001b[0;34m*\u001b[0m\u001b[0margs\u001b[0m\u001b[0;34m,\u001b[0m \u001b[0;34m**\u001b[0m\u001b[0mkwargs\u001b[0m\u001b[0;34m)\u001b[0m\u001b[0;34m\u001b[0m\u001b[0;34m\u001b[0m\u001b[0m\n\u001b[0m\u001b[1;32m    494\u001b[0m                 \u001b[0mself\u001b[0m\u001b[0;34m.\u001b[0m\u001b[0m_optimizer_step_code\u001b[0m\u001b[0;34m(\u001b[0m\u001b[0;34m)\u001b[0m\u001b[0;34m\u001b[0m\u001b[0;34m\u001b[0m\u001b[0m\n\u001b[1;32m    495\u001b[0m \u001b[0;34m\u001b[0m\u001b[0m\n",
            "\u001b[0;32m/usr/local/lib/python3.11/dist-packages/torch/optim/optimizer.py\u001b[0m in \u001b[0;36m_use_grad\u001b[0;34m(self, *args, **kwargs)\u001b[0m\n\u001b[1;32m     89\u001b[0m             \u001b[0mtorch\u001b[0m\u001b[0;34m.\u001b[0m\u001b[0mset_grad_enabled\u001b[0m\u001b[0;34m(\u001b[0m\u001b[0mself\u001b[0m\u001b[0;34m.\u001b[0m\u001b[0mdefaults\u001b[0m\u001b[0;34m[\u001b[0m\u001b[0;34m\"differentiable\"\u001b[0m\u001b[0;34m]\u001b[0m\u001b[0;34m)\u001b[0m\u001b[0;34m\u001b[0m\u001b[0;34m\u001b[0m\u001b[0m\n\u001b[1;32m     90\u001b[0m             \u001b[0mtorch\u001b[0m\u001b[0;34m.\u001b[0m\u001b[0m_dynamo\u001b[0m\u001b[0;34m.\u001b[0m\u001b[0mgraph_break\u001b[0m\u001b[0;34m(\u001b[0m\u001b[0;34m)\u001b[0m\u001b[0;34m\u001b[0m\u001b[0;34m\u001b[0m\u001b[0m\n\u001b[0;32m---> 91\u001b[0;31m             \u001b[0mret\u001b[0m \u001b[0;34m=\u001b[0m \u001b[0mfunc\u001b[0m\u001b[0;34m(\u001b[0m\u001b[0mself\u001b[0m\u001b[0;34m,\u001b[0m \u001b[0;34m*\u001b[0m\u001b[0margs\u001b[0m\u001b[0;34m,\u001b[0m \u001b[0;34m**\u001b[0m\u001b[0mkwargs\u001b[0m\u001b[0;34m)\u001b[0m\u001b[0;34m\u001b[0m\u001b[0;34m\u001b[0m\u001b[0m\n\u001b[0m\u001b[1;32m     92\u001b[0m         \u001b[0;32mfinally\u001b[0m\u001b[0;34m:\u001b[0m\u001b[0;34m\u001b[0m\u001b[0;34m\u001b[0m\u001b[0m\n\u001b[1;32m     93\u001b[0m             \u001b[0mtorch\u001b[0m\u001b[0;34m.\u001b[0m\u001b[0m_dynamo\u001b[0m\u001b[0;34m.\u001b[0m\u001b[0mgraph_break\u001b[0m\u001b[0;34m(\u001b[0m\u001b[0;34m)\u001b[0m\u001b[0;34m\u001b[0m\u001b[0;34m\u001b[0m\u001b[0m\n",
            "\u001b[0;32m/usr/local/lib/python3.11/dist-packages/torch/optim/adamw.py\u001b[0m in \u001b[0;36mstep\u001b[0;34m(self, closure)\u001b[0m\n\u001b[1;32m    241\u001b[0m             )\n\u001b[1;32m    242\u001b[0m \u001b[0;34m\u001b[0m\u001b[0m\n\u001b[0;32m--> 243\u001b[0;31m             adamw(\n\u001b[0m\u001b[1;32m    244\u001b[0m                 \u001b[0mparams_with_grad\u001b[0m\u001b[0;34m,\u001b[0m\u001b[0;34m\u001b[0m\u001b[0;34m\u001b[0m\u001b[0m\n\u001b[1;32m    245\u001b[0m                 \u001b[0mgrads\u001b[0m\u001b[0;34m,\u001b[0m\u001b[0;34m\u001b[0m\u001b[0;34m\u001b[0m\u001b[0m\n",
            "\u001b[0;32m/usr/local/lib/python3.11/dist-packages/torch/optim/optimizer.py\u001b[0m in \u001b[0;36mmaybe_fallback\u001b[0;34m(*args, **kwargs)\u001b[0m\n\u001b[1;32m    152\u001b[0m                 \u001b[0;32mreturn\u001b[0m \u001b[0mdisabled_func\u001b[0m\u001b[0;34m(\u001b[0m\u001b[0;34m*\u001b[0m\u001b[0margs\u001b[0m\u001b[0;34m,\u001b[0m \u001b[0;34m**\u001b[0m\u001b[0mkwargs\u001b[0m\u001b[0;34m)\u001b[0m\u001b[0;34m\u001b[0m\u001b[0;34m\u001b[0m\u001b[0m\n\u001b[1;32m    153\u001b[0m             \u001b[0;32melse\u001b[0m\u001b[0;34m:\u001b[0m\u001b[0;34m\u001b[0m\u001b[0;34m\u001b[0m\u001b[0m\n\u001b[0;32m--> 154\u001b[0;31m                 \u001b[0;32mreturn\u001b[0m \u001b[0mfunc\u001b[0m\u001b[0;34m(\u001b[0m\u001b[0;34m*\u001b[0m\u001b[0margs\u001b[0m\u001b[0;34m,\u001b[0m \u001b[0;34m**\u001b[0m\u001b[0mkwargs\u001b[0m\u001b[0;34m)\u001b[0m\u001b[0;34m\u001b[0m\u001b[0;34m\u001b[0m\u001b[0m\n\u001b[0m\u001b[1;32m    155\u001b[0m \u001b[0;34m\u001b[0m\u001b[0m\n\u001b[1;32m    156\u001b[0m         \u001b[0;32mreturn\u001b[0m \u001b[0mmaybe_fallback\u001b[0m\u001b[0;34m\u001b[0m\u001b[0;34m\u001b[0m\u001b[0m\n",
            "\u001b[0;32m/usr/local/lib/python3.11/dist-packages/torch/optim/adamw.py\u001b[0m in \u001b[0;36madamw\u001b[0;34m(params, grads, exp_avgs, exp_avg_sqs, max_exp_avg_sqs, state_steps, foreach, capturable, differentiable, fused, grad_scale, found_inf, has_complex, amsgrad, beta1, beta2, lr, weight_decay, eps, maximize)\u001b[0m\n\u001b[1;32m    873\u001b[0m         \u001b[0mfunc\u001b[0m \u001b[0;34m=\u001b[0m \u001b[0m_single_tensor_adamw\u001b[0m\u001b[0;34m\u001b[0m\u001b[0;34m\u001b[0m\u001b[0m\n\u001b[1;32m    874\u001b[0m \u001b[0;34m\u001b[0m\u001b[0m\n\u001b[0;32m--> 875\u001b[0;31m     func(\n\u001b[0m\u001b[1;32m    876\u001b[0m         \u001b[0mparams\u001b[0m\u001b[0;34m,\u001b[0m\u001b[0;34m\u001b[0m\u001b[0;34m\u001b[0m\u001b[0m\n\u001b[1;32m    877\u001b[0m         \u001b[0mgrads\u001b[0m\u001b[0;34m,\u001b[0m\u001b[0;34m\u001b[0m\u001b[0;34m\u001b[0m\u001b[0m\n",
            "\u001b[0;32m/usr/local/lib/python3.11/dist-packages/torch/optim/adamw.py\u001b[0m in \u001b[0;36m_single_tensor_adamw\u001b[0;34m(params, grads, exp_avgs, exp_avg_sqs, max_exp_avg_sqs, state_steps, grad_scale, found_inf, amsgrad, beta1, beta2, lr, weight_decay, eps, maximize, capturable, differentiable, has_complex)\u001b[0m\n\u001b[1;32m    424\u001b[0m         \u001b[0;31m# Decay the first and second moment running average coefficient\u001b[0m\u001b[0;34m\u001b[0m\u001b[0;34m\u001b[0m\u001b[0m\n\u001b[1;32m    425\u001b[0m         \u001b[0mexp_avg\u001b[0m\u001b[0;34m.\u001b[0m\u001b[0mlerp_\u001b[0m\u001b[0;34m(\u001b[0m\u001b[0mgrad\u001b[0m\u001b[0;34m,\u001b[0m \u001b[0;36m1\u001b[0m \u001b[0;34m-\u001b[0m \u001b[0mdevice_beta1\u001b[0m\u001b[0;34m)\u001b[0m\u001b[0;34m\u001b[0m\u001b[0;34m\u001b[0m\u001b[0m\n\u001b[0;32m--> 426\u001b[0;31m         \u001b[0mexp_avg_sq\u001b[0m\u001b[0;34m.\u001b[0m\u001b[0mmul_\u001b[0m\u001b[0;34m(\u001b[0m\u001b[0mbeta2\u001b[0m\u001b[0;34m)\u001b[0m\u001b[0;34m.\u001b[0m\u001b[0maddcmul_\u001b[0m\u001b[0;34m(\u001b[0m\u001b[0mgrad\u001b[0m\u001b[0;34m,\u001b[0m \u001b[0mgrad\u001b[0m\u001b[0;34m,\u001b[0m \u001b[0mvalue\u001b[0m\u001b[0;34m=\u001b[0m\u001b[0;36m1\u001b[0m \u001b[0;34m-\u001b[0m \u001b[0mbeta2\u001b[0m\u001b[0;34m)\u001b[0m\u001b[0;34m\u001b[0m\u001b[0;34m\u001b[0m\u001b[0m\n\u001b[0m\u001b[1;32m    427\u001b[0m \u001b[0;34m\u001b[0m\u001b[0m\n\u001b[1;32m    428\u001b[0m         \u001b[0;32mif\u001b[0m \u001b[0mcapturable\u001b[0m \u001b[0;32mor\u001b[0m \u001b[0mdifferentiable\u001b[0m\u001b[0;34m:\u001b[0m\u001b[0;34m\u001b[0m\u001b[0;34m\u001b[0m\u001b[0m\n",
            "\u001b[0;31mKeyboardInterrupt\u001b[0m: "
          ]
        }
      ]
    },
    {
      "cell_type": "code",
      "source": [
        "from transformers import AutoModel\n",
        "\n",
        "bert = AutoModel.from_pretrained(\"ProsusAI/finbert\")\n"
      ],
      "metadata": {
        "id": "4dZBl_6h2_3-"
      },
      "execution_count": null,
      "outputs": []
    },
    {
      "cell_type": "code",
      "source": [
        "# Скопировать файл обратно из Диска в текущую директорию\n",
        "!cp \"/content/drive/MyDrive/Colab Notebooks/finbert_with_macro.pt\" ./\n"
      ],
      "metadata": {
        "id": "nOwDjMBJA68h"
      },
      "execution_count": 32,
      "outputs": []
    },
    {
      "cell_type": "code",
      "source": [
        "import torch\n",
        "device = torch.device(\"cuda\" if torch.cuda.is_available() else \"cpu\")\n",
        "\n",
        "bert = AutoModel.from_pretrained(\"ProsusAI/finbert\")\n",
        "model = FinBERTWithMacro(bert).to(device)\n",
        "\n",
        "model.load_state_dict(torch.load(\"finbert_with_macro.pt\", map_location=device))\n",
        "model.eval()\n"
      ],
      "metadata": {
        "colab": {
          "base_uri": "https://localhost:8080/"
        },
        "id": "AdO73jef28RS",
        "outputId": "dadbd1f6-0e08-408e-b754-a09e2825a45f"
      },
      "execution_count": 33,
      "outputs": [
        {
          "output_type": "execute_result",
          "data": {
            "text/plain": [
              "FinBERTWithMacro(\n",
              "  (bert): BertModel(\n",
              "    (embeddings): BertEmbeddings(\n",
              "      (word_embeddings): Embedding(30522, 768, padding_idx=0)\n",
              "      (position_embeddings): Embedding(512, 768)\n",
              "      (token_type_embeddings): Embedding(2, 768)\n",
              "      (LayerNorm): LayerNorm((768,), eps=1e-12, elementwise_affine=True)\n",
              "      (dropout): Dropout(p=0.1, inplace=False)\n",
              "    )\n",
              "    (encoder): BertEncoder(\n",
              "      (layer): ModuleList(\n",
              "        (0-11): 12 x BertLayer(\n",
              "          (attention): BertAttention(\n",
              "            (self): BertSdpaSelfAttention(\n",
              "              (query): Linear(in_features=768, out_features=768, bias=True)\n",
              "              (key): Linear(in_features=768, out_features=768, bias=True)\n",
              "              (value): Linear(in_features=768, out_features=768, bias=True)\n",
              "              (dropout): Dropout(p=0.1, inplace=False)\n",
              "            )\n",
              "            (output): BertSelfOutput(\n",
              "              (dense): Linear(in_features=768, out_features=768, bias=True)\n",
              "              (LayerNorm): LayerNorm((768,), eps=1e-12, elementwise_affine=True)\n",
              "              (dropout): Dropout(p=0.1, inplace=False)\n",
              "            )\n",
              "          )\n",
              "          (intermediate): BertIntermediate(\n",
              "            (dense): Linear(in_features=768, out_features=3072, bias=True)\n",
              "            (intermediate_act_fn): GELUActivation()\n",
              "          )\n",
              "          (output): BertOutput(\n",
              "            (dense): Linear(in_features=3072, out_features=768, bias=True)\n",
              "            (LayerNorm): LayerNorm((768,), eps=1e-12, elementwise_affine=True)\n",
              "            (dropout): Dropout(p=0.1, inplace=False)\n",
              "          )\n",
              "        )\n",
              "      )\n",
              "    )\n",
              "    (pooler): BertPooler(\n",
              "      (dense): Linear(in_features=768, out_features=768, bias=True)\n",
              "      (activation): Tanh()\n",
              "    )\n",
              "  )\n",
              "  (regressor): Linear(in_features=769, out_features=1, bias=True)\n",
              ")"
            ]
          },
          "metadata": {},
          "execution_count": 33
        }
      ]
    },
    {
      "cell_type": "code",
      "source": [
        "print(type(sp500_val), len(sp500_val))\n",
        "print(sp500_val[:5])  # первые 5 значений\n"
      ],
      "metadata": {
        "colab": {
          "base_uri": "https://localhost:8080/"
        },
        "id": "eOXB4YbuEMc7",
        "outputId": "1979ab0f-fab8-402e-ee2e-9ae73449195e"
      },
      "execution_count": 29,
      "outputs": [
        {
          "output_type": "stream",
          "name": "stdout",
          "text": [
            "<class 'list'> 561\n",
            "[-0.010995693172566212, -0.0010052630048559275, 0.002943716919978634, -0.001082200145408052, 0.00047134296924533636]\n"
          ]
        }
      ]
    },
    {
      "cell_type": "code",
      "source": [
        "# Проверка вывода модели\n",
        "model.eval()\n",
        "\n",
        "# Берём одну партию\n",
        "batch = next(iter(val_loader))\n",
        "\n",
        "# Извлекаем входы\n",
        "input_ids = batch['input_ids'].to(device)\n",
        "attention_mask = batch['attention_mask'].to(device)\n",
        "sp500 = batch['sp500'].to(device)\n",
        "\n",
        "# Прогон через модель\n",
        "with torch.no_grad():\n",
        "    outputs = model(input_ids, attention_mask, sp500)\n",
        "\n",
        "print(\"✅ Output shape:\", outputs.shape)\n",
        "print(\"📊 Output values (first 5):\", outputs[:5].cpu().numpy().tolist())\n"
      ],
      "metadata": {
        "colab": {
          "base_uri": "https://localhost:8080/"
        },
        "id": "bJ2lBS7YCQeB",
        "outputId": "326bc10a-b315-459c-92a0-1d6a0be32448"
      },
      "execution_count": 30,
      "outputs": [
        {
          "output_type": "stream",
          "name": "stdout",
          "text": [
            "✅ Output shape: torch.Size([4])\n",
            "📊 Output values (first 5): [-0.18591764569282532, 0.3021332323551178, 0.20360681414604187, 0.25625473260879517]\n"
          ]
        }
      ]
    },
    {
      "cell_type": "code",
      "source": [
        "from sklearn.metrics import mean_squared_error, mean_absolute_percentage_error\n",
        "import matplotlib.pyplot as plt\n",
        "import numpy as np\n",
        "\n",
        "model.eval()\n",
        "y_pred = []\n",
        "y_true = []\n",
        "\n",
        "with torch.no_grad():\n",
        "    for batch in val_loader:\n",
        "        input_ids = batch['input_ids'].to(device)\n",
        "        attention_mask = batch['attention_mask'].to(device)\n",
        "        sp500 = batch['sp500'].to(device)\n",
        "        targets = batch['target'].to(device)\n",
        "\n",
        "        outputs = model(input_ids, attention_mask, sp500)\n",
        "\n",
        "        # Гарантируем плоские списки (важно!)\n",
        "        y_pred.extend(outputs.view(-1).cpu().numpy().tolist())\n",
        "        y_true.extend(targets.view(-1).cpu().numpy().tolist())\n",
        "\n",
        "# 🧮 Метрики\n",
        "rmse = np.sqrt(mean_squared_error(y_true, y_pred))\n",
        "mape = mean_absolute_percentage_error(y_true, y_pred) * 100\n",
        "\n",
        "print(f\"✅ RMSE (with SP500): {rmse:.5f}\")\n",
        "print(f\"✅ MAPE (with SP500): {mape:.2f}%\")\n",
        "\n",
        "# 📊 График\n",
        "plt.figure(figsize=(12, 5))\n",
        "plt.plot(y_true, label=\"True impact_score\", color=\"blue\")\n",
        "plt.plot(y_pred, label=\"Predicted (with SP500)\", color=\"green\", alpha=0.7)\n",
        "plt.title(\"True vs Predicted impact_score — FinBERT + SP500\")\n",
        "plt.xlabel(\"Sample index\")\n",
        "plt.ylabel(\"Impact_score\")\n",
        "plt.legend()\n",
        "plt.grid(True)\n",
        "plt.tight_layout()\n",
        "plt.show()\n"
      ],
      "metadata": {
        "colab": {
          "base_uri": "https://localhost:8080/",
          "height": 542
        },
        "id": "iKMga2p_1v11",
        "outputId": "dea4287b-f94f-46bf-9d88-61226cbf3310"
      },
      "execution_count": null,
      "outputs": [
        {
          "output_type": "stream",
          "name": "stdout",
          "text": [
            "✅ RMSE (with SP500): 0.01682\n",
            "✅ MAPE (with SP500): 3194994306372647.00%\n"
          ]
        },
        {
          "output_type": "display_data",
          "data": {
            "text/plain": [
              "<Figure size 1200x500 with 1 Axes>"
            ],
            "image/png": "[encoded data removed]"
          },
          "metadata": {}
        }
      ]
    },
    {
      "cell_type": "code",
      "source": [
        "import torch\n",
        "from torch.utils.data import DataLoader\n",
        "from transformers import AutoModel, AutoTokenizer\n",
        "from tqdm import tqdm\n",
        "import os\n",
        "\n",
        "# Подключаем Google Диск\n",
        "from google.colab import drive\n",
        "drive.mount('/content/drive')\n",
        "\n",
        "# Папка на Google Диске для сохранения\n",
        "save_dir = \"/content/drive/MyDrive/Colab Notebooks\"\n",
        "\n",
        "# Компании\n",
        "tickers = [\"GOOGL\", \"HMC\", \"INTC\"]\n",
        "\n",
        "# Загружаем BERT и токенизатор\n",
        "bert = AutoModel.from_pretrained(\"ProsusAI/finbert\")\n",
        "tokenizer = AutoTokenizer.from_pretrained(\"ProsusAI/finbert\")\n",
        "\n",
        "# Модель\n",
        "class FinBERTRegressor(torch.nn.Module):\n",
        "    def __init__(self, bert):\n",
        "        super().__init__()\n",
        "        self.bert = bert\n",
        "        self.regressor = torch.nn.Linear(768, 1)\n",
        "\n",
        "    def forward(self, input_ids, attention_mask):\n",
        "        outputs = self.bert(input_ids=input_ids, attention_mask=attention_mask)\n",
        "        cls_output = outputs.last_hidden_state[:, 0]\n",
        "        return self.regressor(cls_output).squeeze()\n",
        "\n",
        "device = torch.device(\"cuda\" if torch.cuda.is_available() else \"cpu\")\n",
        "\n",
        "# Цикл по каждой компании\n",
        "for ticker in tickers:\n",
        "    print(f\"\\n🚀 Training model for {ticker}\")\n",
        "\n",
        "    # 🔁 Вставь здесь подготовку данных:\n",
        "    # X_train, y_train = ...  # список текстов и числовых значений\n",
        "    # dataset = NewsWithMacroDataset(X_train, y_train, [0]*len(y_train))  # dummy SP500 if unused\n",
        "    # loader = DataLoader(dataset, batch_size=16, shuffle=True)\n",
        "\n",
        "    continue  # Убери после вставки своих данных\n",
        "\n",
        "    model = FinBERTRegressor(bert).to(device)\n",
        "    optimizer = torch.optim.Adam(model.parameters(), lr=2e-5)\n",
        "    loss_fn = torch.nn.MSELoss()\n",
        "\n",
        "    for epoch in range(3):\n",
        "        model.train()\n",
        "        total_loss = 0\n",
        "        loop = tqdm(loader, desc=f\"[{ticker}] Epoch {epoch+1}\", leave=False)\n",
        "\n",
        "        for batch in loop:\n",
        "            input_ids = batch['input_ids'].to(device)\n",
        "            attention_mask = batch['attention_mask'].to(device)\n",
        "            targets = batch['target'].to(device)\n",
        "\n",
        "            optimizer.zero_grad()\n",
        "            outputs = model(input_ids, attention_mask)\n",
        "            loss = loss_fn(outputs, targets)\n",
        "            loss.backward()\n",
        "            optimizer.step()\n",
        "\n",
        "            total_loss += loss.item()\n",
        "            loop.set_postfix(loss=loss.item())\n",
        "\n",
        "        print(f\"[{ticker}] Epoch {epoch+1} avg loss: {total_loss / len(loader):.4f}\")\n",
        "\n",
        "    # 💾 Сохраняем модель с названием по компании\n",
        "    model_name = f\"finbert_with_macro_{ticker.lower()}.pt\"\n",
        "    torch.save(model.state_dict(), model_name)\n",
        "\n",
        "    # 📤 Копируем в Google Диск\n",
        "    !cp $model_name \"$save_dir/$model_name\"\n",
        "\n",
        "    print(f\"✅ Model for {ticker} saved as {model_name} to Google Drive\")\n"
      ],
      "metadata": {
        "colab": {
          "base_uri": "https://localhost:8080/"
        },
        "id": "ivyK_SmtnwTh",
        "outputId": "314b66bc-9157-4a0c-ac05-3f0de83a3511"
      },
      "execution_count": null,
      "outputs": [
        {
          "output_type": "stream",
          "name": "stdout",
          "text": [
            "Drive already mounted at /content/drive; to attempt to forcibly remount, call drive.mount(\"/content/drive\", force_remount=True).\n",
            "\n",
            "🚀 Training model for GOOGL\n",
            "\n",
            "🚀 Training model for HMC\n",
            "\n",
            "🚀 Training model for INTC\n"
          ]
        }
      ]
    },
    {
      "cell_type": "code",
      "source": [
        "print(F_news_macro.columns)\n"
      ],
      "metadata": {
        "colab": {
          "base_uri": "https://localhost:8080/"
        },
        "id": "LNFNG7BfO6bq",
        "outputId": "2547d08a-3665-45cd-c042-4e0c2f57c7d5"
      },
      "execution_count": 37,
      "outputs": [
        {
          "output_type": "stream",
          "name": "stdout",
          "text": [
            "Index(['Stock_symbol', 'Article_title', 'Date', 'sentiment_score',\n",
            "       'SP500_Return'],\n",
            "      dtype='object')\n"
          ]
        }
      ]
    },
    {
      "cell_type": "code",
      "source": [
        "print(df_all.columns)"
      ],
      "metadata": {
        "colab": {
          "base_uri": "https://localhost:8080/"
        },
        "id": "cTVrbX87PHDr",
        "outputId": "d0feaa31-86f9-4d38-d4c1-66d43c0b9de4"
      },
      "execution_count": 38,
      "outputs": [
        {
          "output_type": "stream",
          "name": "stdout",
          "text": [
            "Index(['Article_title', 'impact_score', 'SP500_Return', 'Stock_symbol',\n",
            "       'Date'],\n",
            "      dtype='object')\n"
          ]
        }
      ]
    },
    {
      "cell_type": "code",
      "source": [
        "# Копируем значения из df_all по Article_title\n",
        "F_news_macro = F_news_macro.merge(df_all, on='Article_title', how='left')\n",
        "\n",
        "# Проверим наличие\n",
        "print(F_news_macro.columns)\n"
      ],
      "metadata": {
        "colab": {
          "base_uri": "https://localhost:8080/"
        },
        "id": "bWihrc5KPrp4",
        "outputId": "bede8762-1e4d-4c48-eae2-fd06295deaf2"
      },
      "execution_count": null,
      "outputs": [
        {
          "output_type": "stream",
          "name": "stdout",
          "text": [
            "Index(['Stock_symbol', 'Article_title', 'Date', 'sentiment_score',\n",
            "       'SP500_Return_x', 'impact_score', 'SP500_Return_y'],\n",
            "      dtype='object')\n"
          ]
        }
      ]
    },
    {
      "cell_type": "code",
      "source": [
        "df.info()"
      ],
      "metadata": {
        "colab": {
          "base_uri": "https://localhost:8080/"
        },
        "id": "2CEKZzjLg17J",
        "outputId": "c888ec29-1b9d-4360-c1a5-f29598b1fef9"
      },
      "execution_count": 36,
      "outputs": [
        {
          "output_type": "stream",
          "name": "stdout",
          "text": [
            "<class 'pandas.core.frame.DataFrame'>\n",
            "Index: 1754 entries, 8682 to 11603\n",
            "Data columns (total 5 columns):\n",
            " #   Column           Non-Null Count  Dtype         \n",
            "---  ------           --------------  -----         \n",
            " 0   Stock_symbol     1754 non-null   object        \n",
            " 1   Article_title    1754 non-null   object        \n",
            " 2   Date             1754 non-null   datetime64[ns]\n",
            " 3   sentiment_score  1754 non-null   int64         \n",
            " 4   SP500_Return     1754 non-null   float64       \n",
            "dtypes: datetime64[ns](1), float64(1), int64(1), object(2)\n",
            "memory usage: 82.2+ KB\n"
          ]
        }
      ]
    },
    {
      "cell_type": "code",
      "source": [
        "# A.  у df_all уже есть Article_title  +  impact_score\n",
        "#     осталось добавить туда Date и Stock_symbol, чтобы было по чему соединять\n",
        "df_all = df_all.merge(\n",
        "    F_news[['Article_title', 'Date', 'Stock_symbol']],\n",
        "    on='Article_title',\n",
        "    how='left'\n",
        ")\n",
        "\n",
        "# B.  соединяем новости + макро + impact_score\n",
        "full_news = (\n",
        "    F_news_macro                # Date • Stock_symbol • Article_title • SP500_Return\n",
        "      .merge(                   # + impact_score\n",
        "          df_all[['Article_title', 'impact_score']],\n",
        "          on='Article_title',\n",
        "          how='left'\n",
        "      )\n",
        "      .dropna(subset=['impact_score', 'SP500_Return'])   # чтобы не было пропусков\n",
        "      .reset_index(drop=True)\n",
        ")\n",
        "\n",
        "print(full_news.columns)\n",
        "# ➜  Index(['Date','Stock_symbol','Article_title','SP500_Return','impact_score'], ...)\n",
        "print(len(full_news))           # убедитесь, что строк теперь > 15\n"
      ],
      "metadata": {
        "colab": {
          "base_uri": "https://localhost:8080/"
        },
        "id": "nBBf_VZ6nmsG",
        "outputId": "cb298697-2332-4091-f93c-633ce175bccf"
      },
      "execution_count": 39,
      "outputs": [
        {
          "output_type": "stream",
          "name": "stdout",
          "text": [
            "Index(['Stock_symbol', 'Article_title', 'Date', 'sentiment_score',\n",
            "       'SP500_Return', 'impact_score'],\n",
            "      dtype='object')\n",
            "4175\n"
          ]
        }
      ]
    },
    {
      "cell_type": "code",
      "source": [
        "from sklearn.model_selection import train_test_split\n",
        "\n",
        "datasets = {}\n",
        "tickers   = ['GOOGL', 'HMC', 'INTC']   # поправили опечатку\n",
        "\n",
        "for ticker in tickers:\n",
        "    df = full_news[full_news['Stock_symbol'] == ticker]\n",
        "\n",
        "    X = df['Article_title'].tolist()\n",
        "    y = df['impact_score'].tolist()\n",
        "    s = df['SP500_Return'].tolist()\n",
        "\n",
        "    X_train, X_val, y_train, y_val, s_train, s_val = train_test_split(\n",
        "        X, y, s, test_size=0.2, random_state=42\n",
        "    )\n",
        "\n",
        "    datasets[ticker] = {\n",
        "        'X_train'     : X_train,\n",
        "        'X_val'       : X_val,\n",
        "        'y_train'     : y_train,\n",
        "        'y_val'       : y_val,\n",
        "        'sp500_train' : s_train,\n",
        "        'sp500_val'   : s_val\n",
        "    }\n",
        "\n",
        "print({k: len(v['X_train']) for k,v in datasets.items()})\n"
      ],
      "metadata": {
        "colab": {
          "base_uri": "https://localhost:8080/"
        },
        "id": "DcfCD7zTntP4",
        "outputId": "53376aae-3fb7-45d5-c31b-e195a1784eb7"
      },
      "execution_count": 40,
      "outputs": [
        {
          "output_type": "stream",
          "name": "stdout",
          "text": [
            "{'GOOGL': 700, 'HMC': 2620, 'INTC': 19}\n"
          ]
        }
      ]
    },
    {
      "cell_type": "code",
      "source": [
        "tickers = ['GOOGL', 'HMC', 'INTC']\n",
        "datasets = {}\n",
        "\n",
        "for ticker in tickers:\n",
        "    df = full_news[full_news['Stock_symbol'] == ticker]   # ← было f_news_macro [...]\n",
        "\n",
        "    X     = df['Article_title'].tolist()\n",
        "    y     = df['impact_score'].tolist()\n",
        "    sp500 = df['SP500_Return'].tolist()\n",
        "\n",
        "    X_tr, X_val, y_tr, y_val, s_tr, s_val = train_test_split(\n",
        "        X, y, sp500, test_size=0.2, random_state=42\n",
        "    )\n",
        "\n",
        "    datasets[ticker] = {\n",
        "        'X_train'    : X_tr,\n",
        "        'X_val'      : X_val,\n",
        "        'y_train'    : y_tr,\n",
        "        'y_val'      : y_val,\n",
        "        'sp500_train': s_tr,\n",
        "        'sp500_val'  : s_val\n",
        "    }\n"
      ],
      "metadata": {
        "id": "8-e05QwpodIm"
      },
      "execution_count": 48,
      "outputs": []
    },
    {
      "cell_type": "code",
      "source": [
        "\n",
        "\n",
        "    # Динамически сохраняем в переменные\n",
        "    globals()[f'X_train_{ticker.lower()}'] = X_train\n",
        "    globals()[f'X_val_{ticker.lower()}'] = X_val\n",
        "    globals()[f'y_train_{ticker.lower()}'] = y_train\n",
        "    globals()[f'y_val_{ticker.lower()}'] = y_val\n",
        "    globals()[f'sp500_train_{ticker.lower()}'] = sp500_train\n",
        "    globals()[f'sp500_val_{ticker.lower()}'] = sp500_val\n"
      ],
      "metadata": {
        "id": "R6alglO8R5mG"
      },
      "execution_count": 49,
      "outputs": []
    },
    {
      "cell_type": "code",
      "source": [
        "class NewsWithMacroDataset(Dataset):\n",
        "    def __init__(self, texts, targets, sp500):\n",
        "        self.texts   = texts\n",
        "        self.targets = targets\n",
        "        self.sp500   = sp500\n",
        "\n",
        "    def __getitem__(self, idx):\n",
        "        enc = tokenizer(self.texts[idx],\n",
        "                        padding='max_length',\n",
        "                        truncation=True,\n",
        "                        max_length=128,\n",
        "                        return_tensors='pt')\n",
        "\n",
        "        return {\n",
        "            'input_ids'     : enc['input_ids'].squeeze(),\n",
        "            'attention_mask': enc['attention_mask'].squeeze(),\n",
        "            # 👉  делаем тензор формы (1,) — обращаем внимание на extra []\n",
        "            'sp500'         : torch.tensor([self.sp500[idx]], dtype=torch.float32),\n",
        "            'target'        : torch.tensor(self.targets[idx], dtype=torch.float32)\n",
        "        }\n",
        "\n",
        "    def __len__(self):\n",
        "        return len(self.texts)\n"
      ],
      "metadata": {
        "id": "AYVoUIoXq5Lm"
      },
      "execution_count": 58,
      "outputs": []
    },
    {
      "cell_type": "code",
      "source": [
        "class FinBERTWithMacro(nn.Module):\n",
        "    def __init__(self, bert):\n",
        "        super().__init__()\n",
        "        self.bert = bert\n",
        "        self.regressor = nn.Linear(768 + 1, 1)   # 768 CLS + 1 макро-признак\n",
        "\n",
        "    def forward(self, input_ids, attention_mask, sp500):\n",
        "        out = self.bert(input_ids=input_ids,\n",
        "                        attention_mask=attention_mask)\n",
        "        cls = out.last_hidden_state[:, 0]          # (B, 768)\n",
        "\n",
        "        # ---- ключевая строка ----\n",
        "        if sp500.dim() == 1:                       # (B,) → (B,1)\n",
        "            sp500 = sp500.unsqueeze(1)             # но если уже (B,1) — ничего не делаем\n",
        "        # -------------------------\n",
        "\n",
        "        combined = torch.cat((cls, sp500), dim=1)  # (B, 769)\n",
        "        return self.regressor(combined).squeeze()\n"
      ],
      "metadata": {
        "id": "1ojmNLCNq9YM"
      },
      "execution_count": 61,
      "outputs": []
    },
    {
      "cell_type": "code",
      "source": [
        "val_dataset = NewsWithMacroDataset(X_val_googl, y_val_googl, sp500_val_googl)\n",
        "val_loader  = DataLoader(val_dataset, batch_size=4)\n",
        "\n",
        "model.eval()\n",
        "y_true, y_pred = [], []\n",
        "\n",
        "with torch.no_grad():\n",
        "    for batch in val_loader:\n",
        "        ids  = batch['input_ids'     ].to(device)          # (B, 128)\n",
        "        msk  = batch['attention_mask'].to(device)          # (B, 128)\n",
        "        s500 = batch['sp500'         ].to(device).float()  # (B, 1)  ─ уже 2-D!\n",
        "\n",
        "        # ──> model.forward ожидает (ids, msk, sp500) — ничего добавлять не надо\n",
        "        out  = model(ids, msk, s500)                       # (B,)  или  (B,1)\n",
        "\n",
        "        # аккуратно собираем в списки\n",
        "        y_pred.extend(out.squeeze().cpu().tolist())\n",
        "        y_true.extend(batch['target'].cpu().tolist())\n"
      ],
      "metadata": {
        "colab": {
          "base_uri": "https://localhost:8080/",
          "height": 339
        },
        "id": "C2moEhtqrA0Z",
        "outputId": "515f1762-dd8c-42a8-c64d-a73b940874b1"
      },
      "execution_count": 65,
      "outputs": [
        {
          "output_type": "error",
          "ename": "RuntimeError",
          "evalue": "Tensors must have same number of dimensions: got 2 and 3",
          "traceback": [
            "\u001b[0;31m---------------------------------------------------------------------------\u001b[0m",
            "\u001b[0;31mRuntimeError\u001b[0m                              Traceback (most recent call last)",
            "\u001b[0;32m<ipython-input-65-c94411c6db16>\u001b[0m in \u001b[0;36m<cell line: 0>\u001b[0;34m()\u001b[0m\n\u001b[1;32m     12\u001b[0m \u001b[0;34m\u001b[0m\u001b[0m\n\u001b[1;32m     13\u001b[0m         \u001b[0;31m# ──> model.forward ожидает (ids, msk, sp500) — ничего добавлять не надо\u001b[0m\u001b[0;34m\u001b[0m\u001b[0;34m\u001b[0m\u001b[0m\n\u001b[0;32m---> 14\u001b[0;31m         \u001b[0mout\u001b[0m  \u001b[0;34m=\u001b[0m \u001b[0mmodel\u001b[0m\u001b[0;34m(\u001b[0m\u001b[0mids\u001b[0m\u001b[0;34m,\u001b[0m \u001b[0mmsk\u001b[0m\u001b[0;34m,\u001b[0m \u001b[0ms500\u001b[0m\u001b[0;34m)\u001b[0m                       \u001b[0;31m# (B,)  или  (B,1)\u001b[0m\u001b[0;34m\u001b[0m\u001b[0;34m\u001b[0m\u001b[0m\n\u001b[0m\u001b[1;32m     15\u001b[0m \u001b[0;34m\u001b[0m\u001b[0m\n\u001b[1;32m     16\u001b[0m         \u001b[0;31m# аккуратно собираем в списки\u001b[0m\u001b[0;34m\u001b[0m\u001b[0;34m\u001b[0m\u001b[0m\n",
            "\u001b[0;32m/usr/local/lib/python3.11/dist-packages/torch/nn/modules/module.py\u001b[0m in \u001b[0;36m_wrapped_call_impl\u001b[0;34m(self, *args, **kwargs)\u001b[0m\n\u001b[1;32m   1737\u001b[0m             \u001b[0;32mreturn\u001b[0m \u001b[0mself\u001b[0m\u001b[0;34m.\u001b[0m\u001b[0m_compiled_call_impl\u001b[0m\u001b[0;34m(\u001b[0m\u001b[0;34m*\u001b[0m\u001b[0margs\u001b[0m\u001b[0;34m,\u001b[0m \u001b[0;34m**\u001b[0m\u001b[0mkwargs\u001b[0m\u001b[0;34m)\u001b[0m  \u001b[0;31m# type: ignore[misc]\u001b[0m\u001b[0;34m\u001b[0m\u001b[0;34m\u001b[0m\u001b[0m\n\u001b[1;32m   1738\u001b[0m         \u001b[0;32melse\u001b[0m\u001b[0;34m:\u001b[0m\u001b[0;34m\u001b[0m\u001b[0;34m\u001b[0m\u001b[0m\n\u001b[0;32m-> 1739\u001b[0;31m             \u001b[0;32mreturn\u001b[0m \u001b[0mself\u001b[0m\u001b[0;34m.\u001b[0m\u001b[0m_call_impl\u001b[0m\u001b[0;34m(\u001b[0m\u001b[0;34m*\u001b[0m\u001b[0margs\u001b[0m\u001b[0;34m,\u001b[0m \u001b[0;34m**\u001b[0m\u001b[0mkwargs\u001b[0m\u001b[0;34m)\u001b[0m\u001b[0;34m\u001b[0m\u001b[0;34m\u001b[0m\u001b[0m\n\u001b[0m\u001b[1;32m   1740\u001b[0m \u001b[0;34m\u001b[0m\u001b[0m\n\u001b[1;32m   1741\u001b[0m     \u001b[0;31m# torchrec tests the code consistency with the following code\u001b[0m\u001b[0;34m\u001b[0m\u001b[0;34m\u001b[0m\u001b[0m\n",
            "\u001b[0;32m/usr/local/lib/python3.11/dist-packages/torch/nn/modules/module.py\u001b[0m in \u001b[0;36m_call_impl\u001b[0;34m(self, *args, **kwargs)\u001b[0m\n\u001b[1;32m   1748\u001b[0m                 \u001b[0;32mor\u001b[0m \u001b[0m_global_backward_pre_hooks\u001b[0m \u001b[0;32mor\u001b[0m \u001b[0m_global_backward_hooks\u001b[0m\u001b[0;34m\u001b[0m\u001b[0;34m\u001b[0m\u001b[0m\n\u001b[1;32m   1749\u001b[0m                 or _global_forward_hooks or _global_forward_pre_hooks):\n\u001b[0;32m-> 1750\u001b[0;31m             \u001b[0;32mreturn\u001b[0m \u001b[0mforward_call\u001b[0m\u001b[0;34m(\u001b[0m\u001b[0;34m*\u001b[0m\u001b[0margs\u001b[0m\u001b[0;34m,\u001b[0m \u001b[0;34m**\u001b[0m\u001b[0mkwargs\u001b[0m\u001b[0;34m)\u001b[0m\u001b[0;34m\u001b[0m\u001b[0;34m\u001b[0m\u001b[0m\n\u001b[0m\u001b[1;32m   1751\u001b[0m \u001b[0;34m\u001b[0m\u001b[0m\n\u001b[1;32m   1752\u001b[0m         \u001b[0mresult\u001b[0m \u001b[0;34m=\u001b[0m \u001b[0;32mNone\u001b[0m\u001b[0;34m\u001b[0m\u001b[0;34m\u001b[0m\u001b[0m\n",
            "\u001b[0;32m<ipython-input-25-ff5d0a9bcb58>\u001b[0m in \u001b[0;36mforward\u001b[0;34m(self, input_ids, attention_mask, sp500)\u001b[0m\n\u001b[1;32m      8\u001b[0m         \u001b[0moutputs\u001b[0m \u001b[0;34m=\u001b[0m \u001b[0mself\u001b[0m\u001b[0;34m.\u001b[0m\u001b[0mbert\u001b[0m\u001b[0;34m(\u001b[0m\u001b[0minput_ids\u001b[0m\u001b[0;34m=\u001b[0m\u001b[0minput_ids\u001b[0m\u001b[0;34m,\u001b[0m \u001b[0mattention_mask\u001b[0m\u001b[0;34m=\u001b[0m\u001b[0mattention_mask\u001b[0m\u001b[0;34m)\u001b[0m\u001b[0;34m\u001b[0m\u001b[0;34m\u001b[0m\u001b[0m\n\u001b[1;32m      9\u001b[0m         \u001b[0mcls\u001b[0m \u001b[0;34m=\u001b[0m \u001b[0moutputs\u001b[0m\u001b[0;34m.\u001b[0m\u001b[0mlast_hidden_state\u001b[0m\u001b[0;34m[\u001b[0m\u001b[0;34m:\u001b[0m\u001b[0;34m,\u001b[0m \u001b[0;36m0\u001b[0m\u001b[0;34m]\u001b[0m  \u001b[0;31m# [CLS]\u001b[0m\u001b[0;34m\u001b[0m\u001b[0;34m\u001b[0m\u001b[0m\n\u001b[0;32m---> 10\u001b[0;31m         \u001b[0mcombined\u001b[0m \u001b[0;34m=\u001b[0m \u001b[0mtorch\u001b[0m\u001b[0;34m.\u001b[0m\u001b[0mcat\u001b[0m\u001b[0;34m(\u001b[0m\u001b[0;34m(\u001b[0m\u001b[0mcls\u001b[0m\u001b[0;34m,\u001b[0m \u001b[0msp500\u001b[0m\u001b[0;34m.\u001b[0m\u001b[0munsqueeze\u001b[0m\u001b[0;34m(\u001b[0m\u001b[0;36m1\u001b[0m\u001b[0;34m)\u001b[0m\u001b[0;34m)\u001b[0m\u001b[0;34m,\u001b[0m \u001b[0mdim\u001b[0m\u001b[0;34m=\u001b[0m\u001b[0;36m1\u001b[0m\u001b[0;34m)\u001b[0m\u001b[0;34m\u001b[0m\u001b[0;34m\u001b[0m\u001b[0m\n\u001b[0m\u001b[1;32m     11\u001b[0m         \u001b[0;32mreturn\u001b[0m \u001b[0mself\u001b[0m\u001b[0;34m.\u001b[0m\u001b[0mregressor\u001b[0m\u001b[0;34m(\u001b[0m\u001b[0mcombined\u001b[0m\u001b[0;34m)\u001b[0m\u001b[0;34m.\u001b[0m\u001b[0msqueeze\u001b[0m\u001b[0;34m(\u001b[0m\u001b[0;34m)\u001b[0m\u001b[0;34m\u001b[0m\u001b[0;34m\u001b[0m\u001b[0m\n",
            "\u001b[0;31mRuntimeError\u001b[0m: Tensors must have same number of dimensions: got 2 and 3"
          ]
        }
      ]
    },
    {
      "cell_type": "code",
      "source": [
        "import torch\n",
        "from torch import nn\n",
        "from torch.utils.data import Dataset, DataLoader\n",
        "from transformers import AutoModel, AutoTokenizer\n",
        "from tqdm import tqdm\n",
        "\n",
        "# Настройки\n",
        "EPOCHS = 10\n",
        "BATCH_SIZE = 16\n",
        "device = torch.device(\"cuda\" if torch.cuda.is_available() else \"cpu\")\n",
        "\n",
        "# Модель FinBERT\n",
        "bert = AutoModel.from_pretrained(\"ProsusAI/finbert\")\n",
        "tokenizer = AutoTokenizer.from_pretrained(\"ProsusAI/finbert\")\n",
        "\n",
        "class FinBERTWithMacro(nn.Module):\n",
        "    def __init__(self, bert):\n",
        "        super().__init__()\n",
        "        self.bert = bert\n",
        "        self.regressor = nn.Linear(768 + 1, 1)\n",
        "\n",
        "    def forward(self, input_ids, attention_mask, sp500):\n",
        "        cls = self.bert(input_ids=input_ids, attention_mask=attention_mask).last_hidden_state[:, 0]\n",
        "        combined = torch.cat((cls, sp500.unsqueeze(1)), dim=1)\n",
        "        return self.regressor(combined).squeeze()\n",
        "\n",
        "class NewsWithMacroDataset(Dataset):\n",
        "    def __init__(self, texts, targets, sp500):\n",
        "        self.texts = texts\n",
        "        self.targets = targets\n",
        "        self.sp500 = sp500\n",
        "\n",
        "    def __len__(self):\n",
        "        return len(self.texts)\n",
        "\n",
        "    def __getitem__(self, idx):\n",
        "        encoded = tokenizer(self.texts[idx], padding='max_length', truncation=True, max_length=128, return_tensors='pt')\n",
        "        return {\n",
        "            'input_ids': encoded['input_ids'].squeeze(),\n",
        "            'attention_mask': encoded['attention_mask'].squeeze(),\n",
        "            'target': torch.tensor(self.targets[idx], dtype=torch.float32),\n",
        "            'sp500': torch.tensor(self.sp500[idx], dtype=torch.float32)\n",
        "        }\n",
        "\n",
        "# Обучающие датасеты по тикерам (у тебя должны быть эти переменные заранее определены)\n",
        "datasets = {\n",
        "    'GOOGL': (X_train_googl, y_train_googl, sp500_train_googl),\n",
        "    'HMC': (X_train_hmc, y_train_hmc, sp500_train_hmc),\n",
        "    'INTC': (X_train_intc, y_train_intc, sp500_train_intc)\n",
        "}\n",
        "\n",
        "save_dir = \"/content/drive/MyDrive/Colab Notebooks\"\n",
        "\n",
        "for ticker, (texts, targets, sp500_values) in datasets.items():\n",
        "    print(f\"🚀 Начинаем обучение модели для {ticker}\")\n",
        "\n",
        "    model = FinBERTWithMacro(bert).to(device)\n",
        "    optimizer = torch.optim.Adam(model.parameters(), lr=2e-5)\n",
        "    loss_fn = nn.MSELoss()\n",
        "\n",
        "    dataset = NewsWithMacroDataset(texts, targets, sp500_values)\n",
        "    loader = DataLoader(dataset, batch_size=BATCH_SIZE, shuffle=True)\n",
        "\n",
        "    model.train()\n",
        "    for epoch in range(EPOCHS):\n",
        "        total_loss = 0\n",
        "        loop = tqdm(loader, desc=f\"{ticker} Epoch {epoch+1}\")\n",
        "        for batch in loop:\n",
        "            input_ids = batch['input_ids'].to(device)\n",
        "            attention_mask = batch['attention_mask'].to(device)\n",
        "            targets = batch['target'].to(device)\n",
        "            sp500 = batch['sp500'].to(device)\n",
        "\n",
        "            optimizer.zero_grad()\n",
        "            outputs = model(input_ids, attention_mask, sp500)\n",
        "            loss = loss_fn(outputs, targets)\n",
        "            loss.backward()\n",
        "            optimizer.step()\n",
        "\n",
        "            total_loss += loss.item()\n",
        "            loop.set_postfix(loss=loss.item())\n",
        "\n",
        "        print(f\"✅ Epoch {epoch+1} for {ticker} — avg loss: {total_loss / len(loader):.4f}\")\n",
        "\n",
        "    # Сохраняем модель\n",
        "    model_path = f\"finbert_with_macro_{ticker.lower()}.pt\"\n",
        "    torch.save(model.state_dict(), model_path)\n",
        "    !cp {model_path} \"{save_dir}/{model_path}\"\n",
        "    print(f\"💾 Модель {ticker} сохранена на Google Диск под именем {model_path}\")\n"
      ],
      "metadata": {
        "colab": {
          "base_uri": "https://localhost:8080/"
        },
        "id": "DFIaakMYq01B",
        "outputId": "fc256992-6d9f-4770-f10a-987e9afe0563"
      },
      "execution_count": null,
      "outputs": [
        {
          "output_type": "stream",
          "name": "stdout",
          "text": [
            "🚀 Начинаем обучение модели для GOOGL\n"
          ]
        },
        {
          "output_type": "stream",
          "name": "stderr",
          "text": [
            "GOOGL Epoch 1:  99%|█████████▉| 88/89 [38:18<00:26, 26.46s/it, loss=nan]/usr/local/lib/python3.11/dist-packages/torch/nn/modules/loss.py:610: UserWarning: Using a target size (torch.Size([1])) that is different to the input size (torch.Size([])). This will likely lead to incorrect results due to broadcasting. Please ensure they have the same size.\n",
            "  return F.mse_loss(input, target, reduction=self.reduction)\n",
            "GOOGL Epoch 1: 100%|██████████| 89/89 [38:20<00:00, 25.85s/it, loss=nan]\n"
          ]
        },
        {
          "output_type": "stream",
          "name": "stdout",
          "text": [
            "✅ Epoch 1 for GOOGL — avg loss: nan\n"
          ]
        },
        {
          "output_type": "stream",
          "name": "stderr",
          "text": [
            "GOOGL Epoch 2: 100%|██████████| 89/89 [38:03<00:00, 25.66s/it, loss=nan]\n"
          ]
        },
        {
          "output_type": "stream",
          "name": "stdout",
          "text": [
            "✅ Epoch 2 for GOOGL — avg loss: nan\n"
          ]
        },
        {
          "output_type": "stream",
          "name": "stderr",
          "text": [
            "GOOGL Epoch 3: 100%|██████████| 89/89 [38:03<00:00, 25.65s/it, loss=nan]\n"
          ]
        },
        {
          "output_type": "stream",
          "name": "stdout",
          "text": [
            "✅ Epoch 3 for GOOGL — avg loss: nan\n"
          ]
        },
        {
          "output_type": "stream",
          "name": "stderr",
          "text": [
            "GOOGL Epoch 4: 100%|██████████| 89/89 [37:59<00:00, 25.61s/it, loss=nan]\n"
          ]
        },
        {
          "output_type": "stream",
          "name": "stdout",
          "text": [
            "✅ Epoch 4 for GOOGL — avg loss: nan\n"
          ]
        },
        {
          "output_type": "stream",
          "name": "stderr",
          "text": [
            "GOOGL Epoch 5: 100%|██████████| 89/89 [37:55<00:00, 25.57s/it, loss=nan]\n"
          ]
        },
        {
          "output_type": "stream",
          "name": "stdout",
          "text": [
            "✅ Epoch 5 for GOOGL — avg loss: nan\n"
          ]
        },
        {
          "output_type": "stream",
          "name": "stderr",
          "text": [
            "GOOGL Epoch 6: 100%|██████████| 89/89 [38:05<00:00, 25.68s/it, loss=nan]\n"
          ]
        },
        {
          "output_type": "stream",
          "name": "stdout",
          "text": [
            "✅ Epoch 6 for GOOGL — avg loss: nan\n"
          ]
        },
        {
          "output_type": "stream",
          "name": "stderr",
          "text": [
            "GOOGL Epoch 7: 100%|██████████| 89/89 [38:09<00:00, 25.73s/it, loss=nan]\n"
          ]
        },
        {
          "output_type": "stream",
          "name": "stdout",
          "text": [
            "✅ Epoch 7 for GOOGL — avg loss: nan\n"
          ]
        },
        {
          "output_type": "stream",
          "name": "stderr",
          "text": [
            "GOOGL Epoch 8: 100%|██████████| 89/89 [38:13<00:00, 25.77s/it, loss=nan]\n"
          ]
        },
        {
          "output_type": "stream",
          "name": "stdout",
          "text": [
            "✅ Epoch 8 for GOOGL — avg loss: nan\n"
          ]
        },
        {
          "output_type": "stream",
          "name": "stderr",
          "text": [
            "GOOGL Epoch 9: 100%|██████████| 89/89 [38:03<00:00, 25.66s/it, loss=nan]\n"
          ]
        },
        {
          "output_type": "stream",
          "name": "stdout",
          "text": [
            "✅ Epoch 9 for GOOGL — avg loss: nan\n"
          ]
        },
        {
          "output_type": "stream",
          "name": "stderr",
          "text": [
            "GOOGL Epoch 10: 100%|██████████| 89/89 [38:01<00:00, 25.63s/it, loss=nan]\n"
          ]
        },
        {
          "output_type": "stream",
          "name": "stdout",
          "text": [
            "✅ Epoch 10 for GOOGL — avg loss: nan\n",
            "💾 Модель GOOGL сохранена на Google Диск под именем finbert_with_macro_googl.pt\n",
            "🚀 Начинаем обучение модели для HMC\n"
          ]
        },
        {
          "output_type": "stream",
          "name": "stderr",
          "text": [
            "HMC Epoch 1: 100%|██████████| 117/117 [50:32<00:00, 25.92s/it, loss=nan]\n"
          ]
        },
        {
          "output_type": "stream",
          "name": "stdout",
          "text": [
            "✅ Epoch 1 for HMC — avg loss: nan\n"
          ]
        },
        {
          "output_type": "stream",
          "name": "stderr",
          "text": [
            "HMC Epoch 2: 100%|██████████| 117/117 [50:18<00:00, 25.80s/it, loss=nan]\n"
          ]
        },
        {
          "output_type": "stream",
          "name": "stdout",
          "text": [
            "✅ Epoch 2 for HMC — avg loss: nan\n"
          ]
        },
        {
          "output_type": "stream",
          "name": "stderr",
          "text": [
            "HMC Epoch 3: 100%|██████████| 117/117 [50:33<00:00, 25.92s/it, loss=nan]\n"
          ]
        },
        {
          "output_type": "stream",
          "name": "stdout",
          "text": [
            "✅ Epoch 3 for HMC — avg loss: nan\n"
          ]
        },
        {
          "output_type": "stream",
          "name": "stderr",
          "text": [
            "HMC Epoch 4:   6%|▌         | 7/117 [03:02<49:10, 26.82s/it, loss=nan]"
          ]
        }
      ]
    },
    {
      "cell_type": "code",
      "source": [
        "class NewsWithMacroDataset(Dataset):\n",
        "    ...\n",
        "    def __getitem__(self, idx):\n",
        "        enc = tokenizer(self.texts[idx], padding='max_length',\n",
        "                        truncation=True, max_length=128, return_tensors='pt')\n",
        "        return {\n",
        "            'input_ids'     : enc['input_ids'].squeeze(),\n",
        "            'attention_mask': enc['attention_mask'].squeeze(),\n",
        "            # ⬇️  БЕЗ квадратных скобок  — сразу скаляр\n",
        "            'sp500'         : torch.tensor(self.sp500[idx], dtype=torch.float32),\n",
        "            'target'        : torch.tensor(self.targets[idx], dtype=torch.float32)\n",
        "        }\n"
      ],
      "metadata": {
        "id": "bQsSh1jEq1a1"
      },
      "execution_count": null,
      "outputs": []
    },
    {
      "cell_type": "code",
      "source": [
        "# === Проверка модели finbert_with_macro на валидационном наборе GOOGL =========\n",
        "import torch, numpy as np, matplotlib.pyplot as plt\n",
        "from sklearn.metrics import mean_squared_error, mean_absolute_percentage_error\n",
        "from torch.utils.data import Dataset, DataLoader\n",
        "\n",
        "# ----- 1. Датасет с макропризнаком (форма sp500 → (1,))\n",
        "class NewsWithMacroDataset(Dataset):\n",
        "    def __init__(self, texts, targets, sp500):\n",
        "        self.texts, self.targets, self.sp500 = texts, targets, sp500\n",
        "    def __len__(self):  return len(self.texts)\n",
        "    def __getitem__(self, idx):\n",
        "        enc = tokenizer(\n",
        "            self.texts[idx],\n",
        "            padding='max_length',\n",
        "            truncation=True, max_length=128,\n",
        "            return_tensors='pt'\n",
        "        )\n",
        "        return {\n",
        "            'input_ids'     : enc['input_ids'].squeeze(),\n",
        "            'attention_mask': enc['attention_mask'].squeeze(),\n",
        "            'sp500'         : torch.tensor([self.sp500[idx]], dtype=torch.float32),\n",
        "            'target'        : torch.tensor(self.targets[idx],   dtype=torch.float32)\n",
        "        }\n",
        "\n",
        "# ----- 2. Вал-набор GOOGL ----------------------------------------------------\n",
        "g = datasets['GOOGL']                                   # X_val, y_val, sp500_val\n",
        "val_ds = NewsWithMacroDataset(g['X_val'], g['y_val'], g['sp500_val'])\n",
        "val_ld = DataLoader(val_ds, batch_size=8)\n",
        "\n",
        "# ----- 3. Инференс -----------------------------------------------------------\n",
        "model.eval()\n",
        "y_true, y_pred = [], []\n",
        "\n",
        "with torch.no_grad():\n",
        "    for batch in val_ld:\n",
        "        ids  = batch['input_ids'     ].to(device)\n",
        "        msk  = batch['attention_mask'].to(device)\n",
        "        s500 = batch['sp500'         ].to(device)\n",
        "\n",
        "        out = model(ids, msk, s500)                 # (B,)\n",
        "        y_pred.extend(out.cpu().tolist())\n",
        "        y_true.extend(batch['target'].tolist())\n",
        "\n",
        "y_true = np.array(y_true)\n",
        "y_pred = np.array(y_pred)\n",
        "\n",
        "# ----- 4. Метрики ------------------------------------------------------------\n",
        "mse  = mean_squared_error(y_true, y_pred)\n",
        "rmse = np.sqrt(mse)                                   # ↔ squared=False\n",
        "mape = mean_absolute_percentage_error(y_true, y_pred) * 100\n",
        "\n",
        "print(f\"GOOGL  |  RMSE: {rmse:.5f}   MAPE: {mape:.2f}%\")\n",
        "\n",
        "# ----- 5. График -------------------------------------------------------------\n",
        "plt.figure(figsize=(12,5))\n",
        "plt.plot(y_true, label='True impact_score', lw=2)\n",
        "plt.plot(y_pred, label='Predicted', alpha=0.7)\n",
        "plt.title('GOOGL – True vs Predicted impact_score')\n",
        "plt.xlabel('Sample index'); plt.ylabel('Impact_score')\n",
        "plt.legend(); plt.grid(); plt.tight_layout(); plt.show()\n"
      ],
      "metadata": {
        "colab": {
          "base_uri": "https://localhost:8080/",
          "height": 524
        },
        "id": "e9jhyza_Ma9s",
        "outputId": "2fceef1e-733c-4d96-ab8e-759b99e21dde"
      },
      "execution_count": 67,
      "outputs": [
        {
          "output_type": "stream",
          "name": "stdout",
          "text": [
            "GOOGL  |  RMSE: 0.01560   MAPE: 5870685386223005.00%\n"
          ]
        },
        {
          "output_type": "display_data",
          "data": {
            "text/plain": [
              "<Figure size 1200x500 with 1 Axes>"
            ],
            "image/png": "[encoded data removed]"
          },
          "metadata": {}
        }
      ]
    },
    {
      "cell_type": "markdown",
      "source": [
        "гипотпеза: обучить чисто гуглу еще хуже"
      ],
      "metadata": {
        "id": "IuZF9RdWwnSS"
      }
    }
  ],
  "metadata": {
    "colab": {
      "provenance": []
    },
    "kernelspec": {
      "display_name": "Python 3",
      "name": "python3"
    },
    "language_info": {
      "name": "python"
    },
    "widgets": {
      "application/vnd.jupyter.widget-state+json": {
        "073342903c29479db7afa43ae707519e": {
          "model_module": "@jupyter-widgets/controls",
          "model_module_version": "1.5.0",
          "model_name": "HBoxModel",
          "state": {
            "_dom_classes": [],
            "_model_module": "@jupyter-widgets/controls",
            "_model_module_version": "1.5.0",
            "_model_name": "HBoxModel",
            "_view_count": null,
            "_view_module": "@jupyter-widgets/controls",
            "_view_module_version": "1.5.0",
            "_view_name": "HBoxView",
            "box_style": "",
            "children": [
              "IPY_MODEL_12c12b7eec624194bbf5df82c5aa7675",
              "IPY_MODEL_dbf6b945a9f941ba8d08ae132895ab13",
              "IPY_MODEL_f46af07d7a7b4645bfbff1b701fa47db"
            ],
            "layout": "IPY_MODEL_cacd3177e79443b2a4906dfb8228a743"
          }
        },
        "0ebb4616162b4c07885a257339a78fe1": {
          "model_module": "@jupyter-widgets/controls",
          "model_module_version": "1.5.0",
          "model_name": "DescriptionStyleModel",
          "state": {
            "_model_module": "@jupyter-widgets/controls",
            "_model_module_version": "1.5.0",
            "_model_name": "DescriptionStyleModel",
            "_view_count": null,
            "_view_module": "@jupyter-widgets/base",
            "_view_module_version": "1.2.0",
            "_view_name": "StyleView",
            "description_width": ""
          }
        },
        "12c12b7eec624194bbf5df82c5aa7675": {
          "model_module": "@jupyter-widgets/controls",
          "model_module_version": "1.5.0",
          "model_name": "HTMLModel",
          "state": {
            "_dom_classes": [],
            "_model_module": "@jupyter-widgets/controls",
            "_model_module_version": "1.5.0",
            "_model_name": "HTMLModel",
            "_view_count": null,
            "_view_module": "@jupyter-widgets/controls",
            "_view_module_version": "1.5.0",
            "_view_name": "HTMLView",
            "description": "",
            "description_tooltip": null,
            "layout": "IPY_MODEL_1516f0b3d577406f867d2b5e0d12590a",
            "placeholder": "​",
            "style": "IPY_MODEL_f8db095a1d254a93be4adf727a75992e",
            "value": "special_tokens_map.json: 100%"
          }
        },
        "1516f0b3d577406f867d2b5e0d12590a": {
          "model_module": "@jupyter-widgets/base",
          "model_module_version": "1.2.0",
          "model_name": "LayoutModel",
          "state": {
            "_model_module": "@jupyter-widgets/base",
            "_model_module_version": "1.2.0",
            "_model_name": "LayoutModel",
            "_view_count": null,
            "_view_module": "@jupyter-widgets/base",
            "_view_module_version": "1.2.0",
            "_view_name": "LayoutView",
            "align_content": null,
            "align_items": null,
            "align_self": null,
            "border": null,
            "bottom": null,
            "display": null,
            "flex": null,
            "flex_flow": null,
            "grid_area": null,
            "grid_auto_columns": null,
            "grid_auto_flow": null,
            "grid_auto_rows": null,
            "grid_column": null,
            "grid_gap": null,
            "grid_row": null,
            "grid_template_areas": null,
            "grid_template_columns": null,
            "grid_template_rows": null,
            "height": null,
            "justify_content": null,
            "justify_items": null,
            "left": null,
            "margin": null,
            "max_height": null,
            "max_width": null,
            "min_height": null,
            "min_width": null,
            "object_fit": null,
            "object_position": null,
            "order": null,
            "overflow": null,
            "overflow_x": null,
            "overflow_y": null,
            "padding": null,
            "right": null,
            "top": null,
            "visibility": null,
            "width": null
          }
        },
        "1655d912d5604e97af128247e2331d59": {
          "model_module": "@jupyter-widgets/controls",
          "model_module_version": "1.5.0",
          "model_name": "HTMLModel",
          "state": {
            "_dom_classes": [],
            "_model_module": "@jupyter-widgets/controls",
            "_model_module_version": "1.5.0",
            "_model_name": "HTMLModel",
            "_view_count": null,
            "_view_module": "@jupyter-widgets/controls",
            "_view_module_version": "1.5.0",
            "_view_name": "HTMLView",
            "description": "",
            "description_tooltip": null,
            "layout": "IPY_MODEL_16f746c8e34546fd9edcb237baa4ca7c",
            "placeholder": "​",
            "style": "IPY_MODEL_4767d236d3d6459491e1ae1c697bbec8",
            "value": " 252/252 [00:00&lt;00:00, 19.6kB/s]"
          }
        },
        "16f746c8e34546fd9edcb237baa4ca7c": {
          "model_module": "@jupyter-widgets/base",
          "model_module_version": "1.2.0",
          "model_name": "LayoutModel",
          "state": {
            "_model_module": "@jupyter-widgets/base",
            "_model_module_version": "1.2.0",
            "_model_name": "LayoutModel",
            "_view_count": null,
            "_view_module": "@jupyter-widgets/base",
            "_view_module_version": "1.2.0",
            "_view_name": "LayoutView",
            "align_content": null,
            "align_items": null,
            "align_self": null,
            "border": null,
            "bottom": null,
            "display": null,
            "flex": null,
            "flex_flow": null,
            "grid_area": null,
            "grid_auto_columns": null,
            "grid_auto_flow": null,
            "grid_auto_rows": null,
            "grid_column": null,
            "grid_gap": null,
            "grid_row": null,
            "grid_template_areas": null,
            "grid_template_columns": null,
            "grid_template_rows": null,
            "height": null,
            "justify_content": null,
            "justify_items": null,
            "left": null,
            "margin": null,
            "max_height": null,
            "max_width": null,
            "min_height": null,
            "min_width": null,
            "object_fit": null,
            "object_position": null,
            "order": null,
            "overflow": null,
            "overflow_x": null,
            "overflow_y": null,
            "padding": null,
            "right": null,
            "top": null,
            "visibility": null,
            "width": null
          }
        },
        "1c9665c021d04257816e99c4a896b4b0": {
          "model_module": "@jupyter-widgets/base",
          "model_module_version": "1.2.0",
          "model_name": "LayoutModel",
          "state": {
            "_model_module": "@jupyter-widgets/base",
            "_model_module_version": "1.2.0",
            "_model_name": "LayoutModel",
            "_view_count": null,
            "_view_module": "@jupyter-widgets/base",
            "_view_module_version": "1.2.0",
            "_view_name": "LayoutView",
            "align_content": null,
            "align_items": null,
            "align_self": null,
            "border": null,
            "bottom": null,
            "display": null,
            "flex": null,
            "flex_flow": null,
            "grid_area": null,
            "grid_auto_columns": null,
            "grid_auto_flow": null,
            "grid_auto_rows": null,
            "grid_column": null,
            "grid_gap": null,
            "grid_row": null,
            "grid_template_areas": null,
            "grid_template_columns": null,
            "grid_template_rows": null,
            "height": null,
            "justify_content": null,
            "justify_items": null,
            "left": null,
            "margin": null,
            "max_height": null,
            "max_width": null,
            "min_height": null,
            "min_width": null,
            "object_fit": null,
            "object_position": null,
            "order": null,
            "overflow": null,
            "overflow_x": null,
            "overflow_y": null,
            "padding": null,
            "right": null,
            "top": null,
            "visibility": null,
            "width": null
          }
        },
        "1e4fc066333344bfad1a3d659bc8288b": {
          "model_module": "@jupyter-widgets/base",
          "model_module_version": "1.2.0",
          "model_name": "LayoutModel",
          "state": {
            "_model_module": "@jupyter-widgets/base",
            "_model_module_version": "1.2.0",
            "_model_name": "LayoutModel",
            "_view_count": null,
            "_view_module": "@jupyter-widgets/base",
            "_view_module_version": "1.2.0",
            "_view_name": "LayoutView",
            "align_content": null,
            "align_items": null,
            "align_self": null,
            "border": null,
            "bottom": null,
            "display": null,
            "flex": null,
            "flex_flow": null,
            "grid_area": null,
            "grid_auto_columns": null,
            "grid_auto_flow": null,
            "grid_auto_rows": null,
            "grid_column": null,
            "grid_gap": null,
            "grid_row": null,
            "grid_template_areas": null,
            "grid_template_columns": null,
            "grid_template_rows": null,
            "height": null,
            "justify_content": null,
            "justify_items": null,
            "left": null,
            "margin": null,
            "max_height": null,
            "max_width": null,
            "min_height": null,
            "min_width": null,
            "object_fit": null,
            "object_position": null,
            "order": null,
            "overflow": null,
            "overflow_x": null,
            "overflow_y": null,
            "padding": null,
            "right": null,
            "top": null,
            "visibility": null,
            "width": null
          }
        },
        "20aa32db0bc54a3da970540be3f81ef4": {
          "model_module": "@jupyter-widgets/base",
          "model_module_version": "1.2.0",
          "model_name": "LayoutModel",
          "state": {
            "_model_module": "@jupyter-widgets/base",
            "_model_module_version": "1.2.0",
            "_model_name": "LayoutModel",
            "_view_count": null,
            "_view_module": "@jupyter-widgets/base",
            "_view_module_version": "1.2.0",
            "_view_name": "LayoutView",
            "align_content": null,
            "align_items": null,
            "align_self": null,
            "border": null,
            "bottom": null,
            "display": null,
            "flex": null,
            "flex_flow": null,
            "grid_area": null,
            "grid_auto_columns": null,
            "grid_auto_flow": null,
            "grid_auto_rows": null,
            "grid_column": null,
            "grid_gap": null,
            "grid_row": null,
            "grid_template_areas": null,
            "grid_template_columns": null,
            "grid_template_rows": null,
            "height": null,
            "justify_content": null,
            "justify_items": null,
            "left": null,
            "margin": null,
            "max_height": null,
            "max_width": null,
            "min_height": null,
            "min_width": null,
            "object_fit": null,
            "object_position": null,
            "order": null,
            "overflow": null,
            "overflow_x": null,
            "overflow_y": null,
            "padding": null,
            "right": null,
            "top": null,
            "visibility": null,
            "width": null
          }
        },
        "229f794cf60a48278341781374b46074": {
          "model_module": "@jupyter-widgets/base",
          "model_module_version": "1.2.0",
          "model_name": "LayoutModel",
          "state": {
            "_model_module": "@jupyter-widgets/base",
            "_model_module_version": "1.2.0",
            "_model_name": "LayoutModel",
            "_view_count": null,
            "_view_module": "@jupyter-widgets/base",
            "_view_module_version": "1.2.0",
            "_view_name": "LayoutView",
            "align_content": null,
            "align_items": null,
            "align_self": null,
            "border": null,
            "bottom": null,
            "display": null,
            "flex": null,
            "flex_flow": null,
            "grid_area": null,
            "grid_auto_columns": null,
            "grid_auto_flow": null,
            "grid_auto_rows": null,
            "grid_column": null,
            "grid_gap": null,
            "grid_row": null,
            "grid_template_areas": null,
            "grid_template_columns": null,
            "grid_template_rows": null,
            "height": null,
            "justify_content": null,
            "justify_items": null,
            "left": null,
            "margin": null,
            "max_height": null,
            "max_width": null,
            "min_height": null,
            "min_width": null,
            "object_fit": null,
            "object_position": null,
            "order": null,
            "overflow": null,
            "overflow_x": null,
            "overflow_y": null,
            "padding": null,
            "right": null,
            "top": null,
            "visibility": null,
            "width": null
          }
        },
        "29d2a152844043c2bfc207812e0b2409": {
          "model_module": "@jupyter-widgets/controls",
          "model_module_version": "1.5.0",
          "model_name": "DescriptionStyleModel",
          "state": {
            "_model_module": "@jupyter-widgets/controls",
            "_model_module_version": "1.5.0",
            "_model_name": "DescriptionStyleModel",
            "_view_count": null,
            "_view_module": "@jupyter-widgets/base",
            "_view_module_version": "1.2.0",
            "_view_name": "StyleView",
            "description_width": ""
          }
        },
        "2e88b2ec24b24473bfe378019e1d9005": {
          "model_module": "@jupyter-widgets/controls",
          "model_module_version": "1.5.0",
          "model_name": "DescriptionStyleModel",
          "state": {
            "_model_module": "@jupyter-widgets/controls",
            "_model_module_version": "1.5.0",
            "_model_name": "DescriptionStyleModel",
            "_view_count": null,
            "_view_module": "@jupyter-widgets/base",
            "_view_module_version": "1.2.0",
            "_view_name": "StyleView",
            "description_width": ""
          }
        },
        "38d34f7705924de89fbd0a1c264b5468": {
          "model_module": "@jupyter-widgets/base",
          "model_module_version": "1.2.0",
          "model_name": "LayoutModel",
          "state": {
            "_model_module": "@jupyter-widgets/base",
            "_model_module_version": "1.2.0",
            "_model_name": "LayoutModel",
            "_view_count": null,
            "_view_module": "@jupyter-widgets/base",
            "_view_module_version": "1.2.0",
            "_view_name": "LayoutView",
            "align_content": null,
            "align_items": null,
            "align_self": null,
            "border": null,
            "bottom": null,
            "display": null,
            "flex": null,
            "flex_flow": null,
            "grid_area": null,
            "grid_auto_columns": null,
            "grid_auto_flow": null,
            "grid_auto_rows": null,
            "grid_column": null,
            "grid_gap": null,
            "grid_row": null,
            "grid_template_areas": null,
            "grid_template_columns": null,
            "grid_template_rows": null,
            "height": null,
            "justify_content": null,
            "justify_items": null,
            "left": null,
            "margin": null,
            "max_height": null,
            "max_width": null,
            "min_height": null,
            "min_width": null,
            "object_fit": null,
            "object_position": null,
            "order": null,
            "overflow": null,
            "overflow_x": null,
            "overflow_y": null,
            "padding": null,
            "right": null,
            "top": null,
            "visibility": null,
            "width": null
          }
        },
        "4767d236d3d6459491e1ae1c697bbec8": {
          "model_module": "@jupyter-widgets/controls",
          "model_module_version": "1.5.0",
          "model_name": "DescriptionStyleModel",
          "state": {
            "_model_module": "@jupyter-widgets/controls",
            "_model_module_version": "1.5.0",
            "_model_name": "DescriptionStyleModel",
            "_view_count": null,
            "_view_module": "@jupyter-widgets/base",
            "_view_module_version": "1.2.0",
            "_view_name": "StyleView",
            "description_width": ""
          }
        },
        "4d13375e3c0e40548bdda3ec1d6e26d8": {
          "model_module": "@jupyter-widgets/controls",
          "model_module_version": "1.5.0",
          "model_name": "FloatProgressModel",
          "state": {
            "_dom_classes": [],
            "_model_module": "@jupyter-widgets/controls",
            "_model_module_version": "1.5.0",
            "_model_name": "FloatProgressModel",
            "_view_count": null,
            "_view_module": "@jupyter-widgets/controls",
            "_view_module_version": "1.5.0",
            "_view_name": "ProgressView",
            "bar_style": "success",
            "description": "",
            "description_tooltip": null,
            "layout": "IPY_MODEL_ba6426b5cafc43f781444238e245d9ff",
            "max": 437992753,
            "min": 0,
            "orientation": "horizontal",
            "style": "IPY_MODEL_9883b1fca2db4cb18d0f0cb0f7654667",
            "value": 437992753
          }
        },
        "53d1cf1978c6446b84f4e26716b6d90d": {
          "model_module": "@jupyter-widgets/controls",
          "model_module_version": "1.5.0",
          "model_name": "HBoxModel",
          "state": {
            "_dom_classes": [],
            "_model_module": "@jupyter-widgets/controls",
            "_model_module_version": "1.5.0",
            "_model_name": "HBoxModel",
            "_view_count": null,
            "_view_module": "@jupyter-widgets/controls",
            "_view_module_version": "1.5.0",
            "_view_name": "HBoxView",
            "box_style": "",
            "children": [
              "IPY_MODEL_e0d597521dc845a5b7d71936fa6d384d",
              "IPY_MODEL_590c5ba62f174d0e8b8523982f828436",
              "IPY_MODEL_1655d912d5604e97af128247e2331d59"
            ],
            "layout": "IPY_MODEL_6928bcf7cf924cf9a8b778c63399cf62"
          }
        },
        "586c92e95bb343f98034a578c28f4342": {
          "model_module": "@jupyter-widgets/controls",
          "model_module_version": "1.5.0",
          "model_name": "DescriptionStyleModel",
          "state": {
            "_model_module": "@jupyter-widgets/controls",
            "_model_module_version": "1.5.0",
            "_model_name": "DescriptionStyleModel",
            "_view_count": null,
            "_view_module": "@jupyter-widgets/base",
            "_view_module_version": "1.2.0",
            "_view_name": "StyleView",
            "description_width": ""
          }
        },
        "590c5ba62f174d0e8b8523982f828436": {
          "model_module": "@jupyter-widgets/controls",
          "model_module_version": "1.5.0",
          "model_name": "FloatProgressModel",
          "state": {
            "_dom_classes": [],
            "_model_module": "@jupyter-widgets/controls",
            "_model_module_version": "1.5.0",
            "_model_name": "FloatProgressModel",
            "_view_count": null,
            "_view_module": "@jupyter-widgets/controls",
            "_view_module_version": "1.5.0",
            "_view_name": "ProgressView",
            "bar_style": "success",
            "description": "",
            "description_tooltip": null,
            "layout": "IPY_MODEL_5a71cd4a41044220b5c4a25a3abe58a6",
            "max": 252,
            "min": 0,
            "orientation": "horizontal",
            "style": "IPY_MODEL_593212c6af6c40369e2532dce95d4aab",
            "value": 252
          }
        },
        "593212c6af6c40369e2532dce95d4aab": {
          "model_module": "@jupyter-widgets/controls",
          "model_module_version": "1.5.0",
          "model_name": "ProgressStyleModel",
          "state": {
            "_model_module": "@jupyter-widgets/controls",
            "_model_module_version": "1.5.0",
            "_model_name": "ProgressStyleModel",
            "_view_count": null,
            "_view_module": "@jupyter-widgets/base",
            "_view_module_version": "1.2.0",
            "_view_name": "StyleView",
            "bar_color": null,
            "description_width": ""
          }
        },
        "5a71cd4a41044220b5c4a25a3abe58a6": {
          "model_module": "@jupyter-widgets/base",
          "model_module_version": "1.2.0",
          "model_name": "LayoutModel",
          "state": {
            "_model_module": "@jupyter-widgets/base",
            "_model_module_version": "1.2.0",
            "_model_name": "LayoutModel",
            "_view_count": null,
            "_view_module": "@jupyter-widgets/base",
            "_view_module_version": "1.2.0",
            "_view_name": "LayoutView",
            "align_content": null,
            "align_items": null,
            "align_self": null,
            "border": null,
            "bottom": null,
            "display": null,
            "flex": null,
            "flex_flow": null,
            "grid_area": null,
            "grid_auto_columns": null,
            "grid_auto_flow": null,
            "grid_auto_rows": null,
            "grid_column": null,
            "grid_gap": null,
            "grid_row": null,
            "grid_template_areas": null,
            "grid_template_columns": null,
            "grid_template_rows": null,
            "height": null,
            "justify_content": null,
            "justify_items": null,
            "left": null,
            "margin": null,
            "max_height": null,
            "max_width": null,
            "min_height": null,
            "min_width": null,
            "object_fit": null,
            "object_position": null,
            "order": null,
            "overflow": null,
            "overflow_x": null,
            "overflow_y": null,
            "padding": null,
            "right": null,
            "top": null,
            "visibility": null,
            "width": null
          }
        },
        "5bd117a4ca464fcd9ae02dd9026e4547": {
          "model_module": "@jupyter-widgets/controls",
          "model_module_version": "1.5.0",
          "model_name": "HTMLModel",
          "state": {
            "_dom_classes": [],
            "_model_module": "@jupyter-widgets/controls",
            "_model_module_version": "1.5.0",
            "_model_name": "HTMLModel",
            "_view_count": null,
            "_view_module": "@jupyter-widgets/controls",
            "_view_module_version": "1.5.0",
            "_view_name": "HTMLView",
            "description": "",
            "description_tooltip": null,
            "layout": "IPY_MODEL_fba8860e020047d78c6b615c02714d67",
            "placeholder": "​",
            "style": "IPY_MODEL_dccb813edb0c45908157674ccc282196",
            "value": "config.json: 100%"
          }
        },
        "5eec73eeb5fa4ecdb560d158c2b1805f": {
          "model_module": "@jupyter-widgets/controls",
          "model_module_version": "1.5.0",
          "model_name": "HTMLModel",
          "state": {
            "_dom_classes": [],
            "_model_module": "@jupyter-widgets/controls",
            "_model_module_version": "1.5.0",
            "_model_name": "HTMLModel",
            "_view_count": null,
            "_view_module": "@jupyter-widgets/controls",
            "_view_module_version": "1.5.0",
            "_view_name": "HTMLView",
            "description": "",
            "description_tooltip": null,
            "layout": "IPY_MODEL_eabd171640394061a595603ed87f4827",
            "placeholder": "​",
            "style": "IPY_MODEL_f74962c2eee04462b14d245ee5346f61",
            "value": "pytorch_model.bin: 100%"
          }
        },
        "65dcc2fba71d466f9a8ad0b6a4b61fdc": {
          "model_module": "@jupyter-widgets/base",
          "model_module_version": "1.2.0",
          "model_name": "LayoutModel",
          "state": {
            "_model_module": "@jupyter-widgets/base",
            "_model_module_version": "1.2.0",
            "_model_name": "LayoutModel",
            "_view_count": null,
            "_view_module": "@jupyter-widgets/base",
            "_view_module_version": "1.2.0",
            "_view_name": "LayoutView",
            "align_content": null,
            "align_items": null,
            "align_self": null,
            "border": null,
            "bottom": null,
            "display": null,
            "flex": null,
            "flex_flow": null,
            "grid_area": null,
            "grid_auto_columns": null,
            "grid_auto_flow": null,
            "grid_auto_rows": null,
            "grid_column": null,
            "grid_gap": null,
            "grid_row": null,
            "grid_template_areas": null,
            "grid_template_columns": null,
            "grid_template_rows": null,
            "height": null,
            "justify_content": null,
            "justify_items": null,
            "left": null,
            "margin": null,
            "max_height": null,
            "max_width": null,
            "min_height": null,
            "min_width": null,
            "object_fit": null,
            "object_position": null,
            "order": null,
            "overflow": null,
            "overflow_x": null,
            "overflow_y": null,
            "padding": null,
            "right": null,
            "top": null,
            "visibility": null,
            "width": null
          }
        },
        "663ba7405b304f5ca1eae828d5183b51": {
          "model_module": "@jupyter-widgets/base",
          "model_module_version": "1.2.0",
          "model_name": "LayoutModel",
          "state": {
            "_model_module": "@jupyter-widgets/base",
            "_model_module_version": "1.2.0",
            "_model_name": "LayoutModel",
            "_view_count": null,
            "_view_module": "@jupyter-widgets/base",
            "_view_module_version": "1.2.0",
            "_view_name": "LayoutView",
            "align_content": null,
            "align_items": null,
            "align_self": null,
            "border": null,
            "bottom": null,
            "display": null,
            "flex": null,
            "flex_flow": null,
            "grid_area": null,
            "grid_auto_columns": null,
            "grid_auto_flow": null,
            "grid_auto_rows": null,
            "grid_column": null,
            "grid_gap": null,
            "grid_row": null,
            "grid_template_areas": null,
            "grid_template_columns": null,
            "grid_template_rows": null,
            "height": null,
            "justify_content": null,
            "justify_items": null,
            "left": null,
            "margin": null,
            "max_height": null,
            "max_width": null,
            "min_height": null,
            "min_width": null,
            "object_fit": null,
            "object_position": null,
            "order": null,
            "overflow": null,
            "overflow_x": null,
            "overflow_y": null,
            "padding": null,
            "right": null,
            "top": null,
            "visibility": null,
            "width": null
          }
        },
        "666e64b102b24ece8ad666fb6d5f7295": {
          "model_module": "@jupyter-widgets/controls",
          "model_module_version": "1.5.0",
          "model_name": "HTMLModel",
          "state": {
            "_dom_classes": [],
            "_model_module": "@jupyter-widgets/controls",
            "_model_module_version": "1.5.0",
            "_model_name": "HTMLModel",
            "_view_count": null,
            "_view_module": "@jupyter-widgets/controls",
            "_view_module_version": "1.5.0",
            "_view_name": "HTMLView",
            "description": "",
            "description_tooltip": null,
            "layout": "IPY_MODEL_af285c84242a40508a8367f54a17c6a8",
            "placeholder": "​",
            "style": "IPY_MODEL_f2d00242d264446a80ccf822cee4b2cf",
            "value": "model.safetensors: 100%"
          }
        },
        "6928bcf7cf924cf9a8b778c63399cf62": {
          "model_module": "@jupyter-widgets/base",
          "model_module_version": "1.2.0",
          "model_name": "LayoutModel",
          "state": {
            "_model_module": "@jupyter-widgets/base",
            "_model_module_version": "1.2.0",
            "_model_name": "LayoutModel",
            "_view_count": null,
            "_view_module": "@jupyter-widgets/base",
            "_view_module_version": "1.2.0",
            "_view_name": "LayoutView",
            "align_content": null,
            "align_items": null,
            "align_self": null,
            "border": null,
            "bottom": null,
            "display": null,
            "flex": null,
            "flex_flow": null,
            "grid_area": null,
            "grid_auto_columns": null,
            "grid_auto_flow": null,
            "grid_auto_rows": null,
            "grid_column": null,
            "grid_gap": null,
            "grid_row": null,
            "grid_template_areas": null,
            "grid_template_columns": null,
            "grid_template_rows": null,
            "height": null,
            "justify_content": null,
            "justify_items": null,
            "left": null,
            "margin": null,
            "max_height": null,
            "max_width": null,
            "min_height": null,
            "min_width": null,
            "object_fit": null,
            "object_position": null,
            "order": null,
            "overflow": null,
            "overflow_x": null,
            "overflow_y": null,
            "padding": null,
            "right": null,
            "top": null,
            "visibility": null,
            "width": null
          }
        },
        "6ad0f897cadf40c19bc8ccd20d369e31": {
          "model_module": "@jupyter-widgets/controls",
          "model_module_version": "1.5.0",
          "model_name": "HBoxModel",
          "state": {
            "_dom_classes": [],
            "_model_module": "@jupyter-widgets/controls",
            "_model_module_version": "1.5.0",
            "_model_name": "HBoxModel",
            "_view_count": null,
            "_view_module": "@jupyter-widgets/controls",
            "_view_module_version": "1.5.0",
            "_view_name": "HBoxView",
            "box_style": "",
            "children": [
              "IPY_MODEL_a5ca1edfef034259850d5b0c9697a73a",
              "IPY_MODEL_8cd2f972b8cc4c2f8e2b0cddb1424053",
              "IPY_MODEL_f62d591fde1b46edb1a4b94db535e52f"
            ],
            "layout": "IPY_MODEL_937053083b0f4cc3b2a31fd6307d5fcd"
          }
        },
        "6ffb64fb44ae439ba0eb44496f4adfb4": {
          "model_module": "@jupyter-widgets/controls",
          "model_module_version": "1.5.0",
          "model_name": "ProgressStyleModel",
          "state": {
            "_model_module": "@jupyter-widgets/controls",
            "_model_module_version": "1.5.0",
            "_model_name": "ProgressStyleModel",
            "_view_count": null,
            "_view_module": "@jupyter-widgets/base",
            "_view_module_version": "1.2.0",
            "_view_name": "StyleView",
            "bar_color": null,
            "description_width": ""
          }
        },
        "723833a996704c91bfe762b5c035d03e": {
          "model_module": "@jupyter-widgets/controls",
          "model_module_version": "1.5.0",
          "model_name": "ProgressStyleModel",
          "state": {
            "_model_module": "@jupyter-widgets/controls",
            "_model_module_version": "1.5.0",
            "_model_name": "ProgressStyleModel",
            "_view_count": null,
            "_view_module": "@jupyter-widgets/base",
            "_view_module_version": "1.2.0",
            "_view_name": "StyleView",
            "bar_color": null,
            "description_width": ""
          }
        },
        "7a717ba68e414c1ba7ec6558b99ab989": {
          "model_module": "@jupyter-widgets/controls",
          "model_module_version": "1.5.0",
          "model_name": "DescriptionStyleModel",
          "state": {
            "_model_module": "@jupyter-widgets/controls",
            "_model_module_version": "1.5.0",
            "_model_name": "DescriptionStyleModel",
            "_view_count": null,
            "_view_module": "@jupyter-widgets/base",
            "_view_module_version": "1.2.0",
            "_view_name": "StyleView",
            "description_width": ""
          }
        },
        "7accddd2817d40c6b3cdf7d0a58e4fca": {
          "model_module": "@jupyter-widgets/controls",
          "model_module_version": "1.5.0",
          "model_name": "DescriptionStyleModel",
          "state": {
            "_model_module": "@jupyter-widgets/controls",
            "_model_module_version": "1.5.0",
            "_model_name": "DescriptionStyleModel",
            "_view_count": null,
            "_view_module": "@jupyter-widgets/base",
            "_view_module_version": "1.2.0",
            "_view_name": "StyleView",
            "description_width": ""
          }
        },
        "88c1e3c3eeda418aa02f410a711a6220": {
          "model_module": "@jupyter-widgets/controls",
          "model_module_version": "1.5.0",
          "model_name": "DescriptionStyleModel",
          "state": {
            "_model_module": "@jupyter-widgets/controls",
            "_model_module_version": "1.5.0",
            "_model_name": "DescriptionStyleModel",
            "_view_count": null,
            "_view_module": "@jupyter-widgets/base",
            "_view_module_version": "1.2.0",
            "_view_name": "StyleView",
            "description_width": ""
          }
        },
        "8cd2f972b8cc4c2f8e2b0cddb1424053": {
          "model_module": "@jupyter-widgets/controls",
          "model_module_version": "1.5.0",
          "model_name": "FloatProgressModel",
          "state": {
            "_dom_classes": [],
            "_model_module": "@jupyter-widgets/controls",
            "_model_module_version": "1.5.0",
            "_model_name": "FloatProgressModel",
            "_view_count": null,
            "_view_module": "@jupyter-widgets/controls",
            "_view_module_version": "1.5.0",
            "_view_name": "ProgressView",
            "bar_style": "success",
            "description": "",
            "description_tooltip": null,
            "layout": "IPY_MODEL_a33eb58e2bf14eea8de9bfa8ccbba947",
            "max": 231508,
            "min": 0,
            "orientation": "horizontal",
            "style": "IPY_MODEL_723833a996704c91bfe762b5c035d03e",
            "value": 231508
          }
        },
        "937053083b0f4cc3b2a31fd6307d5fcd": {
          "model_module": "@jupyter-widgets/base",
          "model_module_version": "1.2.0",
          "model_name": "LayoutModel",
          "state": {
            "_model_module": "@jupyter-widgets/base",
            "_model_module_version": "1.2.0",
            "_model_name": "LayoutModel",
            "_view_count": null,
            "_view_module": "@jupyter-widgets/base",
            "_view_module_version": "1.2.0",
            "_view_name": "LayoutView",
            "align_content": null,
            "align_items": null,
            "align_self": null,
            "border": null,
            "bottom": null,
            "display": null,
            "flex": null,
            "flex_flow": null,
            "grid_area": null,
            "grid_auto_columns": null,
            "grid_auto_flow": null,
            "grid_auto_rows": null,
            "grid_column": null,
            "grid_gap": null,
            "grid_row": null,
            "grid_template_areas": null,
            "grid_template_columns": null,
            "grid_template_rows": null,
            "height": null,
            "justify_content": null,
            "justify_items": null,
            "left": null,
            "margin": null,
            "max_height": null,
            "max_width": null,
            "min_height": null,
            "min_width": null,
            "object_fit": null,
            "object_position": null,
            "order": null,
            "overflow": null,
            "overflow_x": null,
            "overflow_y": null,
            "padding": null,
            "right": null,
            "top": null,
            "visibility": null,
            "width": null
          }
        },
        "9883b1fca2db4cb18d0f0cb0f7654667": {
          "model_module": "@jupyter-widgets/controls",
          "model_module_version": "1.5.0",
          "model_name": "ProgressStyleModel",
          "state": {
            "_model_module": "@jupyter-widgets/controls",
            "_model_module_version": "1.5.0",
            "_model_name": "ProgressStyleModel",
            "_view_count": null,
            "_view_module": "@jupyter-widgets/base",
            "_view_module_version": "1.2.0",
            "_view_name": "StyleView",
            "bar_color": null,
            "description_width": ""
          }
        },
        "99f89bd1db58467e88a6da5e6882b4e2": {
          "model_module": "@jupyter-widgets/base",
          "model_module_version": "1.2.0",
          "model_name": "LayoutModel",
          "state": {
            "_model_module": "@jupyter-widgets/base",
            "_model_module_version": "1.2.0",
            "_model_name": "LayoutModel",
            "_view_count": null,
            "_view_module": "@jupyter-widgets/base",
            "_view_module_version": "1.2.0",
            "_view_name": "LayoutView",
            "align_content": null,
            "align_items": null,
            "align_self": null,
            "border": null,
            "bottom": null,
            "display": null,
            "flex": null,
            "flex_flow": null,
            "grid_area": null,
            "grid_auto_columns": null,
            "grid_auto_flow": null,
            "grid_auto_rows": null,
            "grid_column": null,
            "grid_gap": null,
            "grid_row": null,
            "grid_template_areas": null,
            "grid_template_columns": null,
            "grid_template_rows": null,
            "height": null,
            "justify_content": null,
            "justify_items": null,
            "left": null,
            "margin": null,
            "max_height": null,
            "max_width": null,
            "min_height": null,
            "min_width": null,
            "object_fit": null,
            "object_position": null,
            "order": null,
            "overflow": null,
            "overflow_x": null,
            "overflow_y": null,
            "padding": null,
            "right": null,
            "top": null,
            "visibility": null,
            "width": null
          }
        },
        "9f275fbf0d544aeea33e3f41a9fdff23": {
          "model_module": "@jupyter-widgets/controls",
          "model_module_version": "1.5.0",
          "model_name": "HTMLModel",
          "state": {
            "_dom_classes": [],
            "_model_module": "@jupyter-widgets/controls",
            "_model_module_version": "1.5.0",
            "_model_name": "HTMLModel",
            "_view_count": null,
            "_view_module": "@jupyter-widgets/controls",
            "_view_module_version": "1.5.0",
            "_view_name": "HTMLView",
            "description": "",
            "description_tooltip": null,
            "layout": "IPY_MODEL_663ba7405b304f5ca1eae828d5183b51",
            "placeholder": "​",
            "style": "IPY_MODEL_88c1e3c3eeda418aa02f410a711a6220",
            "value": " 438M/438M [00:02&lt;00:00, 183MB/s]"
          }
        },
        "a003555e994548139956f54fb6f8947e": {
          "model_module": "@jupyter-widgets/controls",
          "model_module_version": "1.5.0",
          "model_name": "HBoxModel",
          "state": {
            "_dom_classes": [],
            "_model_module": "@jupyter-widgets/controls",
            "_model_module_version": "1.5.0",
            "_model_name": "HBoxModel",
            "_view_count": null,
            "_view_module": "@jupyter-widgets/controls",
            "_view_module_version": "1.5.0",
            "_view_name": "HBoxView",
            "box_style": "",
            "children": [
              "IPY_MODEL_5bd117a4ca464fcd9ae02dd9026e4547",
              "IPY_MODEL_ba16771c02b74072a5faf602a78b5b32",
              "IPY_MODEL_df39d22d169848c988fe4ad922302254"
            ],
            "layout": "IPY_MODEL_1e4fc066333344bfad1a3d659bc8288b"
          }
        },
        "a18508dddf8e48debf58006148fb1f6b": {
          "model_module": "@jupyter-widgets/base",
          "model_module_version": "1.2.0",
          "model_name": "LayoutModel",
          "state": {
            "_model_module": "@jupyter-widgets/base",
            "_model_module_version": "1.2.0",
            "_model_name": "LayoutModel",
            "_view_count": null,
            "_view_module": "@jupyter-widgets/base",
            "_view_module_version": "1.2.0",
            "_view_name": "LayoutView",
            "align_content": null,
            "align_items": null,
            "align_self": null,
            "border": null,
            "bottom": null,
            "display": null,
            "flex": null,
            "flex_flow": null,
            "grid_area": null,
            "grid_auto_columns": null,
            "grid_auto_flow": null,
            "grid_auto_rows": null,
            "grid_column": null,
            "grid_gap": null,
            "grid_row": null,
            "grid_template_areas": null,
            "grid_template_columns": null,
            "grid_template_rows": null,
            "height": null,
            "justify_content": null,
            "justify_items": null,
            "left": null,
            "margin": null,
            "max_height": null,
            "max_width": null,
            "min_height": null,
            "min_width": null,
            "object_fit": null,
            "object_position": null,
            "order": null,
            "overflow": null,
            "overflow_x": null,
            "overflow_y": null,
            "padding": null,
            "right": null,
            "top": null,
            "visibility": null,
            "width": null
          }
        },
        "a33eb58e2bf14eea8de9bfa8ccbba947": {
          "model_module": "@jupyter-widgets/base",
          "model_module_version": "1.2.0",
          "model_name": "LayoutModel",
          "state": {
            "_model_module": "@jupyter-widgets/base",
            "_model_module_version": "1.2.0",
            "_model_name": "LayoutModel",
            "_view_count": null,
            "_view_module": "@jupyter-widgets/base",
            "_view_module_version": "1.2.0",
            "_view_name": "LayoutView",
            "align_content": null,
            "align_items": null,
            "align_self": null,
            "border": null,
            "bottom": null,
            "display": null,
            "flex": null,
            "flex_flow": null,
            "grid_area": null,
            "grid_auto_columns": null,
            "grid_auto_flow": null,
            "grid_auto_rows": null,
            "grid_column": null,
            "grid_gap": null,
            "grid_row": null,
            "grid_template_areas": null,
            "grid_template_columns": null,
            "grid_template_rows": null,
            "height": null,
            "justify_content": null,
            "justify_items": null,
            "left": null,
            "margin": null,
            "max_height": null,
            "max_width": null,
            "min_height": null,
            "min_width": null,
            "object_fit": null,
            "object_position": null,
            "order": null,
            "overflow": null,
            "overflow_x": null,
            "overflow_y": null,
            "padding": null,
            "right": null,
            "top": null,
            "visibility": null,
            "width": null
          }
        },
        "a5ca1edfef034259850d5b0c9697a73a": {
          "model_module": "@jupyter-widgets/controls",
          "model_module_version": "1.5.0",
          "model_name": "HTMLModel",
          "state": {
            "_dom_classes": [],
            "_model_module": "@jupyter-widgets/controls",
            "_model_module_version": "1.5.0",
            "_model_name": "HTMLModel",
            "_view_count": null,
            "_view_module": "@jupyter-widgets/controls",
            "_view_module_version": "1.5.0",
            "_view_name": "HTMLView",
            "description": "",
            "description_tooltip": null,
            "layout": "IPY_MODEL_bc15dd69497c429e9281bbe2a6083d9b",
            "placeholder": "​",
            "style": "IPY_MODEL_586c92e95bb343f98034a578c28f4342",
            "value": "vocab.txt: 100%"
          }
        },
        "af285c84242a40508a8367f54a17c6a8": {
          "model_module": "@jupyter-widgets/base",
          "model_module_version": "1.2.0",
          "model_name": "LayoutModel",
          "state": {
            "_model_module": "@jupyter-widgets/base",
            "_model_module_version": "1.2.0",
            "_model_name": "LayoutModel",
            "_view_count": null,
            "_view_module": "@jupyter-widgets/base",
            "_view_module_version": "1.2.0",
            "_view_name": "LayoutView",
            "align_content": null,
            "align_items": null,
            "align_self": null,
            "border": null,
            "bottom": null,
            "display": null,
            "flex": null,
            "flex_flow": null,
            "grid_area": null,
            "grid_auto_columns": null,
            "grid_auto_flow": null,
            "grid_auto_rows": null,
            "grid_column": null,
            "grid_gap": null,
            "grid_row": null,
            "grid_template_areas": null,
            "grid_template_columns": null,
            "grid_template_rows": null,
            "height": null,
            "justify_content": null,
            "justify_items": null,
            "left": null,
            "margin": null,
            "max_height": null,
            "max_width": null,
            "min_height": null,
            "min_width": null,
            "object_fit": null,
            "object_position": null,
            "order": null,
            "overflow": null,
            "overflow_x": null,
            "overflow_y": null,
            "padding": null,
            "right": null,
            "top": null,
            "visibility": null,
            "width": null
          }
        },
        "b29b2f95406f4b258c5f4b85b6fb42fe": {
          "model_module": "@jupyter-widgets/base",
          "model_module_version": "1.2.0",
          "model_name": "LayoutModel",
          "state": {
            "_model_module": "@jupyter-widgets/base",
            "_model_module_version": "1.2.0",
            "_model_name": "LayoutModel",
            "_view_count": null,
            "_view_module": "@jupyter-widgets/base",
            "_view_module_version": "1.2.0",
            "_view_name": "LayoutView",
            "align_content": null,
            "align_items": null,
            "align_self": null,
            "border": null,
            "bottom": null,
            "display": null,
            "flex": null,
            "flex_flow": null,
            "grid_area": null,
            "grid_auto_columns": null,
            "grid_auto_flow": null,
            "grid_auto_rows": null,
            "grid_column": null,
            "grid_gap": null,
            "grid_row": null,
            "grid_template_areas": null,
            "grid_template_columns": null,
            "grid_template_rows": null,
            "height": null,
            "justify_content": null,
            "justify_items": null,
            "left": null,
            "margin": null,
            "max_height": null,
            "max_width": null,
            "min_height": null,
            "min_width": null,
            "object_fit": null,
            "object_position": null,
            "order": null,
            "overflow": null,
            "overflow_x": null,
            "overflow_y": null,
            "padding": null,
            "right": null,
            "top": null,
            "visibility": null,
            "width": null
          }
        },
        "b330bffd6cfc4bf9aa34768b22c8a8ab": {
          "model_module": "@jupyter-widgets/base",
          "model_module_version": "1.2.0",
          "model_name": "LayoutModel",
          "state": {
            "_model_module": "@jupyter-widgets/base",
            "_model_module_version": "1.2.0",
            "_model_name": "LayoutModel",
            "_view_count": null,
            "_view_module": "@jupyter-widgets/base",
            "_view_module_version": "1.2.0",
            "_view_name": "LayoutView",
            "align_content": null,
            "align_items": null,
            "align_self": null,
            "border": null,
            "bottom": null,
            "display": null,
            "flex": null,
            "flex_flow": null,
            "grid_area": null,
            "grid_auto_columns": null,
            "grid_auto_flow": null,
            "grid_auto_rows": null,
            "grid_column": null,
            "grid_gap": null,
            "grid_row": null,
            "grid_template_areas": null,
            "grid_template_columns": null,
            "grid_template_rows": null,
            "height": null,
            "justify_content": null,
            "justify_items": null,
            "left": null,
            "margin": null,
            "max_height": null,
            "max_width": null,
            "min_height": null,
            "min_width": null,
            "object_fit": null,
            "object_position": null,
            "order": null,
            "overflow": null,
            "overflow_x": null,
            "overflow_y": null,
            "padding": null,
            "right": null,
            "top": null,
            "visibility": null,
            "width": null
          }
        },
        "b908283a234d4dcab8fa58b987f1626a": {
          "model_module": "@jupyter-widgets/base",
          "model_module_version": "1.2.0",
          "model_name": "LayoutModel",
          "state": {
            "_model_module": "@jupyter-widgets/base",
            "_model_module_version": "1.2.0",
            "_model_name": "LayoutModel",
            "_view_count": null,
            "_view_module": "@jupyter-widgets/base",
            "_view_module_version": "1.2.0",
            "_view_name": "LayoutView",
            "align_content": null,
            "align_items": null,
            "align_self": null,
            "border": null,
            "bottom": null,
            "display": null,
            "flex": null,
            "flex_flow": null,
            "grid_area": null,
            "grid_auto_columns": null,
            "grid_auto_flow": null,
            "grid_auto_rows": null,
            "grid_column": null,
            "grid_gap": null,
            "grid_row": null,
            "grid_template_areas": null,
            "grid_template_columns": null,
            "grid_template_rows": null,
            "height": null,
            "justify_content": null,
            "justify_items": null,
            "left": null,
            "margin": null,
            "max_height": null,
            "max_width": null,
            "min_height": null,
            "min_width": null,
            "object_fit": null,
            "object_position": null,
            "order": null,
            "overflow": null,
            "overflow_x": null,
            "overflow_y": null,
            "padding": null,
            "right": null,
            "top": null,
            "visibility": null,
            "width": null
          }
        },
        "ba16771c02b74072a5faf602a78b5b32": {
          "model_module": "@jupyter-widgets/controls",
          "model_module_version": "1.5.0",
          "model_name": "FloatProgressModel",
          "state": {
            "_dom_classes": [],
            "_model_module": "@jupyter-widgets/controls",
            "_model_module_version": "1.5.0",
            "_model_name": "FloatProgressModel",
            "_view_count": null,
            "_view_module": "@jupyter-widgets/controls",
            "_view_module_version": "1.5.0",
            "_view_name": "ProgressView",
            "bar_style": "success",
            "description": "",
            "description_tooltip": null,
            "layout": "IPY_MODEL_99f89bd1db58467e88a6da5e6882b4e2",
            "max": 758,
            "min": 0,
            "orientation": "horizontal",
            "style": "IPY_MODEL_ce235b73d7aa4a36947fc53a3c70060e",
            "value": 758
          }
        },
        "ba6426b5cafc43f781444238e245d9ff": {
          "model_module": "@jupyter-widgets/base",
          "model_module_version": "1.2.0",
          "model_name": "LayoutModel",
          "state": {
            "_model_module": "@jupyter-widgets/base",
            "_model_module_version": "1.2.0",
            "_model_name": "LayoutModel",
            "_view_count": null,
            "_view_module": "@jupyter-widgets/base",
            "_view_module_version": "1.2.0",
            "_view_name": "LayoutView",
            "align_content": null,
            "align_items": null,
            "align_self": null,
            "border": null,
            "bottom": null,
            "display": null,
            "flex": null,
            "flex_flow": null,
            "grid_area": null,
            "grid_auto_columns": null,
            "grid_auto_flow": null,
            "grid_auto_rows": null,
            "grid_column": null,
            "grid_gap": null,
            "grid_row": null,
            "grid_template_areas": null,
            "grid_template_columns": null,
            "grid_template_rows": null,
            "height": null,
            "justify_content": null,
            "justify_items": null,
            "left": null,
            "margin": null,
            "max_height": null,
            "max_width": null,
            "min_height": null,
            "min_width": null,
            "object_fit": null,
            "object_position": null,
            "order": null,
            "overflow": null,
            "overflow_x": null,
            "overflow_y": null,
            "padding": null,
            "right": null,
            "top": null,
            "visibility": null,
            "width": null
          }
        },
        "bc15dd69497c429e9281bbe2a6083d9b": {
          "model_module": "@jupyter-widgets/base",
          "model_module_version": "1.2.0",
          "model_name": "LayoutModel",
          "state": {
            "_model_module": "@jupyter-widgets/base",
            "_model_module_version": "1.2.0",
            "_model_name": "LayoutModel",
            "_view_count": null,
            "_view_module": "@jupyter-widgets/base",
            "_view_module_version": "1.2.0",
            "_view_name": "LayoutView",
            "align_content": null,
            "align_items": null,
            "align_self": null,
            "border": null,
            "bottom": null,
            "display": null,
            "flex": null,
            "flex_flow": null,
            "grid_area": null,
            "grid_auto_columns": null,
            "grid_auto_flow": null,
            "grid_auto_rows": null,
            "grid_column": null,
            "grid_gap": null,
            "grid_row": null,
            "grid_template_areas": null,
            "grid_template_columns": null,
            "grid_template_rows": null,
            "height": null,
            "justify_content": null,
            "justify_items": null,
            "left": null,
            "margin": null,
            "max_height": null,
            "max_width": null,
            "min_height": null,
            "min_width": null,
            "object_fit": null,
            "object_position": null,
            "order": null,
            "overflow": null,
            "overflow_x": null,
            "overflow_y": null,
            "padding": null,
            "right": null,
            "top": null,
            "visibility": null,
            "width": null
          }
        },
        "bc50376b1e5f4566ae455355f8fe983b": {
          "model_module": "@jupyter-widgets/controls",
          "model_module_version": "1.5.0",
          "model_name": "FloatProgressModel",
          "state": {
            "_dom_classes": [],
            "_model_module": "@jupyter-widgets/controls",
            "_model_module_version": "1.5.0",
            "_model_name": "FloatProgressModel",
            "_view_count": null,
            "_view_module": "@jupyter-widgets/controls",
            "_view_module_version": "1.5.0",
            "_view_name": "ProgressView",
            "bar_style": "success",
            "description": "",
            "description_tooltip": null,
            "layout": "IPY_MODEL_65dcc2fba71d466f9a8ad0b6a4b61fdc",
            "max": 437965908,
            "min": 0,
            "orientation": "horizontal",
            "style": "IPY_MODEL_6ffb64fb44ae439ba0eb44496f4adfb4",
            "value": 437965908
          }
        },
        "ca0d776920364bb99c3143637a791ccc": {
          "model_module": "@jupyter-widgets/controls",
          "model_module_version": "1.5.0",
          "model_name": "HTMLModel",
          "state": {
            "_dom_classes": [],
            "_model_module": "@jupyter-widgets/controls",
            "_model_module_version": "1.5.0",
            "_model_name": "HTMLModel",
            "_view_count": null,
            "_view_module": "@jupyter-widgets/controls",
            "_view_module_version": "1.5.0",
            "_view_name": "HTMLView",
            "description": "",
            "description_tooltip": null,
            "layout": "IPY_MODEL_b908283a234d4dcab8fa58b987f1626a",
            "placeholder": "​",
            "style": "IPY_MODEL_29d2a152844043c2bfc207812e0b2409",
            "value": " 438M/438M [00:03&lt;00:00, 124MB/s]"
          }
        },
        "cacd3177e79443b2a4906dfb8228a743": {
          "model_module": "@jupyter-widgets/base",
          "model_module_version": "1.2.0",
          "model_name": "LayoutModel",
          "state": {
            "_model_module": "@jupyter-widgets/base",
            "_model_module_version": "1.2.0",
            "_model_name": "LayoutModel",
            "_view_count": null,
            "_view_module": "@jupyter-widgets/base",
            "_view_module_version": "1.2.0",
            "_view_name": "LayoutView",
            "align_content": null,
            "align_items": null,
            "align_self": null,
            "border": null,
            "bottom": null,
            "display": null,
            "flex": null,
            "flex_flow": null,
            "grid_area": null,
            "grid_auto_columns": null,
            "grid_auto_flow": null,
            "grid_auto_rows": null,
            "grid_column": null,
            "grid_gap": null,
            "grid_row": null,
            "grid_template_areas": null,
            "grid_template_columns": null,
            "grid_template_rows": null,
            "height": null,
            "justify_content": null,
            "justify_items": null,
            "left": null,
            "margin": null,
            "max_height": null,
            "max_width": null,
            "min_height": null,
            "min_width": null,
            "object_fit": null,
            "object_position": null,
            "order": null,
            "overflow": null,
            "overflow_x": null,
            "overflow_y": null,
            "padding": null,
            "right": null,
            "top": null,
            "visibility": null,
            "width": null
          }
        },
        "ce235b73d7aa4a36947fc53a3c70060e": {
          "model_module": "@jupyter-widgets/controls",
          "model_module_version": "1.5.0",
          "model_name": "ProgressStyleModel",
          "state": {
            "_model_module": "@jupyter-widgets/controls",
            "_model_module_version": "1.5.0",
            "_model_name": "ProgressStyleModel",
            "_view_count": null,
            "_view_module": "@jupyter-widgets/base",
            "_view_module_version": "1.2.0",
            "_view_name": "StyleView",
            "bar_color": null,
            "description_width": ""
          }
        },
        "dbf6b945a9f941ba8d08ae132895ab13": {
          "model_module": "@jupyter-widgets/controls",
          "model_module_version": "1.5.0",
          "model_name": "FloatProgressModel",
          "state": {
            "_dom_classes": [],
            "_model_module": "@jupyter-widgets/controls",
            "_model_module_version": "1.5.0",
            "_model_name": "FloatProgressModel",
            "_view_count": null,
            "_view_module": "@jupyter-widgets/controls",
            "_view_module_version": "1.5.0",
            "_view_name": "ProgressView",
            "bar_style": "success",
            "description": "",
            "description_tooltip": null,
            "layout": "IPY_MODEL_b29b2f95406f4b258c5f4b85b6fb42fe",
            "max": 112,
            "min": 0,
            "orientation": "horizontal",
            "style": "IPY_MODEL_de5b2d74b0484765a80f44c5b4c98a14",
            "value": 112
          }
        },
        "dccb813edb0c45908157674ccc282196": {
          "model_module": "@jupyter-widgets/controls",
          "model_module_version": "1.5.0",
          "model_name": "DescriptionStyleModel",
          "state": {
            "_model_module": "@jupyter-widgets/controls",
            "_model_module_version": "1.5.0",
            "_model_name": "DescriptionStyleModel",
            "_view_count": null,
            "_view_module": "@jupyter-widgets/base",
            "_view_module_version": "1.2.0",
            "_view_name": "StyleView",
            "description_width": ""
          }
        },
        "de5b2d74b0484765a80f44c5b4c98a14": {
          "model_module": "@jupyter-widgets/controls",
          "model_module_version": "1.5.0",
          "model_name": "ProgressStyleModel",
          "state": {
            "_model_module": "@jupyter-widgets/controls",
            "_model_module_version": "1.5.0",
            "_model_name": "ProgressStyleModel",
            "_view_count": null,
            "_view_module": "@jupyter-widgets/base",
            "_view_module_version": "1.2.0",
            "_view_name": "StyleView",
            "bar_color": null,
            "description_width": ""
          }
        },
        "df39d22d169848c988fe4ad922302254": {
          "model_module": "@jupyter-widgets/controls",
          "model_module_version": "1.5.0",
          "model_name": "HTMLModel",
          "state": {
            "_dom_classes": [],
            "_model_module": "@jupyter-widgets/controls",
            "_model_module_version": "1.5.0",
            "_model_name": "HTMLModel",
            "_view_count": null,
            "_view_module": "@jupyter-widgets/controls",
            "_view_module_version": "1.5.0",
            "_view_name": "HTMLView",
            "description": "",
            "description_tooltip": null,
            "layout": "IPY_MODEL_1c9665c021d04257816e99c4a896b4b0",
            "placeholder": "​",
            "style": "IPY_MODEL_0ebb4616162b4c07885a257339a78fe1",
            "value": " 758/758 [00:00&lt;00:00, 62.3kB/s]"
          }
        },
        "df5de479b37d4576a27bf91253cad0ec": {
          "model_module": "@jupyter-widgets/controls",
          "model_module_version": "1.5.0",
          "model_name": "HBoxModel",
          "state": {
            "_dom_classes": [],
            "_model_module": "@jupyter-widgets/controls",
            "_model_module_version": "1.5.0",
            "_model_name": "HBoxModel",
            "_view_count": null,
            "_view_module": "@jupyter-widgets/controls",
            "_view_module_version": "1.5.0",
            "_view_name": "HBoxView",
            "box_style": "",
            "children": [
              "IPY_MODEL_5eec73eeb5fa4ecdb560d158c2b1805f",
              "IPY_MODEL_4d13375e3c0e40548bdda3ec1d6e26d8",
              "IPY_MODEL_9f275fbf0d544aeea33e3f41a9fdff23"
            ],
            "layout": "IPY_MODEL_38d34f7705924de89fbd0a1c264b5468"
          }
        },
        "e0d597521dc845a5b7d71936fa6d384d": {
          "model_module": "@jupyter-widgets/controls",
          "model_module_version": "1.5.0",
          "model_name": "HTMLModel",
          "state": {
            "_dom_classes": [],
            "_model_module": "@jupyter-widgets/controls",
            "_model_module_version": "1.5.0",
            "_model_name": "HTMLModel",
            "_view_count": null,
            "_view_module": "@jupyter-widgets/controls",
            "_view_module_version": "1.5.0",
            "_view_name": "HTMLView",
            "description": "",
            "description_tooltip": null,
            "layout": "IPY_MODEL_a18508dddf8e48debf58006148fb1f6b",
            "placeholder": "​",
            "style": "IPY_MODEL_7a717ba68e414c1ba7ec6558b99ab989",
            "value": "tokenizer_config.json: 100%"
          }
        },
        "eabd171640394061a595603ed87f4827": {
          "model_module": "@jupyter-widgets/base",
          "model_module_version": "1.2.0",
          "model_name": "LayoutModel",
          "state": {
            "_model_module": "@jupyter-widgets/base",
            "_model_module_version": "1.2.0",
            "_model_name": "LayoutModel",
            "_view_count": null,
            "_view_module": "@jupyter-widgets/base",
            "_view_module_version": "1.2.0",
            "_view_name": "LayoutView",
            "align_content": null,
            "align_items": null,
            "align_self": null,
            "border": null,
            "bottom": null,
            "display": null,
            "flex": null,
            "flex_flow": null,
            "grid_area": null,
            "grid_auto_columns": null,
            "grid_auto_flow": null,
            "grid_auto_rows": null,
            "grid_column": null,
            "grid_gap": null,
            "grid_row": null,
            "grid_template_areas": null,
            "grid_template_columns": null,
            "grid_template_rows": null,
            "height": null,
            "justify_content": null,
            "justify_items": null,
            "left": null,
            "margin": null,
            "max_height": null,
            "max_width": null,
            "min_height": null,
            "min_width": null,
            "object_fit": null,
            "object_position": null,
            "order": null,
            "overflow": null,
            "overflow_x": null,
            "overflow_y": null,
            "padding": null,
            "right": null,
            "top": null,
            "visibility": null,
            "width": null
          }
        },
        "f2d00242d264446a80ccf822cee4b2cf": {
          "model_module": "@jupyter-widgets/controls",
          "model_module_version": "1.5.0",
          "model_name": "DescriptionStyleModel",
          "state": {
            "_model_module": "@jupyter-widgets/controls",
            "_model_module_version": "1.5.0",
            "_model_name": "DescriptionStyleModel",
            "_view_count": null,
            "_view_module": "@jupyter-widgets/base",
            "_view_module_version": "1.2.0",
            "_view_name": "StyleView",
            "description_width": ""
          }
        },
        "f46af07d7a7b4645bfbff1b701fa47db": {
          "model_module": "@jupyter-widgets/controls",
          "model_module_version": "1.5.0",
          "model_name": "HTMLModel",
          "state": {
            "_dom_classes": [],
            "_model_module": "@jupyter-widgets/controls",
            "_model_module_version": "1.5.0",
            "_model_name": "HTMLModel",
            "_view_count": null,
            "_view_module": "@jupyter-widgets/controls",
            "_view_module_version": "1.5.0",
            "_view_name": "HTMLView",
            "description": "",
            "description_tooltip": null,
            "layout": "IPY_MODEL_b330bffd6cfc4bf9aa34768b22c8a8ab",
            "placeholder": "​",
            "style": "IPY_MODEL_7accddd2817d40c6b3cdf7d0a58e4fca",
            "value": " 112/112 [00:00&lt;00:00, 6.83kB/s]"
          }
        },
        "f62d591fde1b46edb1a4b94db535e52f": {
          "model_module": "@jupyter-widgets/controls",
          "model_module_version": "1.5.0",
          "model_name": "HTMLModel",
          "state": {
            "_dom_classes": [],
            "_model_module": "@jupyter-widgets/controls",
            "_model_module_version": "1.5.0",
            "_model_name": "HTMLModel",
            "_view_count": null,
            "_view_module": "@jupyter-widgets/controls",
            "_view_module_version": "1.5.0",
            "_view_name": "HTMLView",
            "description": "",
            "description_tooltip": null,
            "layout": "IPY_MODEL_20aa32db0bc54a3da970540be3f81ef4",
            "placeholder": "​",
            "style": "IPY_MODEL_2e88b2ec24b24473bfe378019e1d9005",
            "value": " 232k/232k [00:00&lt;00:00, 4.38MB/s]"
          }
        },
        "f6312a674bae42ff9430c984157d3003": {
          "model_module": "@jupyter-widgets/controls",
          "model_module_version": "1.5.0",
          "model_name": "HBoxModel",
          "state": {
            "_dom_classes": [],
            "_model_module": "@jupyter-widgets/controls",
            "_model_module_version": "1.5.0",
            "_model_name": "HBoxModel",
            "_view_count": null,
            "_view_module": "@jupyter-widgets/controls",
            "_view_module_version": "1.5.0",
            "_view_name": "HBoxView",
            "box_style": "",
            "children": [
              "IPY_MODEL_666e64b102b24ece8ad666fb6d5f7295",
              "IPY_MODEL_bc50376b1e5f4566ae455355f8fe983b",
              "IPY_MODEL_ca0d776920364bb99c3143637a791ccc"
            ],
            "layout": "IPY_MODEL_229f794cf60a48278341781374b46074"
          }
        },
        "f74962c2eee04462b14d245ee5346f61": {
          "model_module": "@jupyter-widgets/controls",
          "model_module_version": "1.5.0",
          "model_name": "DescriptionStyleModel",
          "state": {
            "_model_module": "@jupyter-widgets/controls",
            "_model_module_version": "1.5.0",
            "_model_name": "DescriptionStyleModel",
            "_view_count": null,
            "_view_module": "@jupyter-widgets/base",
            "_view_module_version": "1.2.0",
            "_view_name": "StyleView",
            "description_width": ""
          }
        },
        "f8db095a1d254a93be4adf727a75992e": {
          "model_module": "@jupyter-widgets/controls",
          "model_module_version": "1.5.0",
          "model_name": "DescriptionStyleModel",
          "state": {
            "_model_module": "@jupyter-widgets/controls",
            "_model_module_version": "1.5.0",
            "_model_name": "DescriptionStyleModel",
            "_view_count": null,
            "_view_module": "@jupyter-widgets/base",
            "_view_module_version": "1.2.0",
            "_view_name": "StyleView",
            "description_width": ""
          }
        },
        "fba8860e020047d78c6b615c02714d67": {
          "model_module": "@jupyter-widgets/base",
          "model_module_version": "1.2.0",
          "model_name": "LayoutModel",
          "state": {
            "_model_module": "@jupyter-widgets/base",
            "_model_module_version": "1.2.0",
            "_model_name": "LayoutModel",
            "_view_count": null,
            "_view_module": "@jupyter-widgets/base",
            "_view_module_version": "1.2.0",
            "_view_name": "LayoutView",
            "align_content": null,
            "align_items": null,
            "align_self": null,
            "border": null,
            "bottom": null,
            "display": null,
            "flex": null,
            "flex_flow": null,
            "grid_area": null,
            "grid_auto_columns": null,
            "grid_auto_flow": null,
            "grid_auto_rows": null,
            "grid_column": null,
            "grid_gap": null,
            "grid_row": null,
            "grid_template_areas": null,
            "grid_template_columns": null,
            "grid_template_rows": null,
            "height": null,
            "justify_content": null,
            "justify_items": null,
            "left": null,
            "margin": null,
            "max_height": null,
            "max_width": null,
            "min_height": null,
            "min_width": null,
            "object_fit": null,
            "object_position": null,
            "order": null,
            "overflow": null,
            "overflow_x": null,
            "overflow_y": null,
            "padding": null,
            "right": null,
            "top": null,
            "visibility": null,
            "width": null
          }
        }
      }
    }
  },
  "nbformat": 4,
  "nbformat_minor": 0
}